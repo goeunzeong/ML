{
 "cells": [
  {
   "cell_type": "code",
   "execution_count": 1,
   "id": "d423120b",
   "metadata": {},
   "outputs": [],
   "source": [
    "import pandas as pd \n",
    "import numpy as np\n",
    "import matplotlib as mpl\n",
    "import matplotlib.pyplot as plt\n",
    "mpl.rc('font', family = 'Malgun Gothic')\n",
    "plt.rcParams['axes.unicode_minus'] = False\n",
    "plt.rcParams['font.family'] = 'Malgun Gothic'\n",
    "import seaborn as sns"
   ]
  },
  {
   "cell_type": "code",
   "execution_count": 2,
   "id": "2e14248a",
   "metadata": {},
   "outputs": [],
   "source": [
    "from sklearn.model_selection import train_test_split\n",
    "from sklearn.ensemble import RandomForestRegressor\n",
    "from sklearn.model_selection import GridSearchCV\n",
    "from sklearn.model_selection import RandomizedSearchCV\n",
    "# 나무 구조 시각화\n",
    "from sklearn.tree import plot_tree"
   ]
  },
  {
   "cell_type": "code",
   "execution_count": 3,
   "id": "3b8e0667",
   "metadata": {
    "scrolled": true
   },
   "outputs": [
    {
     "data": {
      "text/html": [
       "<div>\n",
       "<style scoped>\n",
       "    .dataframe tbody tr th:only-of-type {\n",
       "        vertical-align: middle;\n",
       "    }\n",
       "\n",
       "    .dataframe tbody tr th {\n",
       "        vertical-align: top;\n",
       "    }\n",
       "\n",
       "    .dataframe thead th {\n",
       "        text-align: right;\n",
       "    }\n",
       "</style>\n",
       "<table border=\"1\" class=\"dataframe\">\n",
       "  <thead>\n",
       "    <tr style=\"text-align: right;\">\n",
       "      <th></th>\n",
       "      <th>FAT</th>\n",
       "      <th>AGE</th>\n",
       "      <th>WEIGHT</th>\n",
       "      <th>HEIGHT</th>\n",
       "      <th>NECK</th>\n",
       "      <th>CHEST</th>\n",
       "      <th>ABDOMEN</th>\n",
       "      <th>HIP</th>\n",
       "      <th>THIGH</th>\n",
       "      <th>KNEE</th>\n",
       "      <th>ANKLE</th>\n",
       "      <th>BICEPS</th>\n",
       "      <th>FOREARM</th>\n",
       "      <th>WRIST</th>\n",
       "    </tr>\n",
       "  </thead>\n",
       "  <tbody>\n",
       "    <tr>\n",
       "      <th>0</th>\n",
       "      <td>35.2</td>\n",
       "      <td>46</td>\n",
       "      <td>363.15</td>\n",
       "      <td>72.25</td>\n",
       "      <td>51.2</td>\n",
       "      <td>136.2</td>\n",
       "      <td>148.1</td>\n",
       "      <td>147.7</td>\n",
       "      <td>87.3</td>\n",
       "      <td>49.1</td>\n",
       "      <td>29.6</td>\n",
       "      <td>45.0</td>\n",
       "      <td>29.0</td>\n",
       "      <td>21.4</td>\n",
       "    </tr>\n",
       "    <tr>\n",
       "      <th>1</th>\n",
       "      <td>11.8</td>\n",
       "      <td>27</td>\n",
       "      <td>168.00</td>\n",
       "      <td>71.25</td>\n",
       "      <td>38.1</td>\n",
       "      <td>93.0</td>\n",
       "      <td>79.1</td>\n",
       "      <td>94.5</td>\n",
       "      <td>57.3</td>\n",
       "      <td>36.2</td>\n",
       "      <td>24.5</td>\n",
       "      <td>29.0</td>\n",
       "      <td>30.0</td>\n",
       "      <td>18.8</td>\n",
       "    </tr>\n",
       "    <tr>\n",
       "      <th>2</th>\n",
       "      <td>22.2</td>\n",
       "      <td>69</td>\n",
       "      <td>177.75</td>\n",
       "      <td>68.50</td>\n",
       "      <td>38.7</td>\n",
       "      <td>102.0</td>\n",
       "      <td>95.0</td>\n",
       "      <td>98.3</td>\n",
       "      <td>55.0</td>\n",
       "      <td>38.3</td>\n",
       "      <td>21.8</td>\n",
       "      <td>30.8</td>\n",
       "      <td>25.7</td>\n",
       "      <td>18.8</td>\n",
       "    </tr>\n",
       "    <tr>\n",
       "      <th>3</th>\n",
       "      <td>10.6</td>\n",
       "      <td>57</td>\n",
       "      <td>147.75</td>\n",
       "      <td>65.75</td>\n",
       "      <td>35.2</td>\n",
       "      <td>99.6</td>\n",
       "      <td>86.4</td>\n",
       "      <td>90.1</td>\n",
       "      <td>53.0</td>\n",
       "      <td>35.0</td>\n",
       "      <td>21.3</td>\n",
       "      <td>31.7</td>\n",
       "      <td>27.3</td>\n",
       "      <td>16.9</td>\n",
       "    </tr>\n",
       "    <tr>\n",
       "      <th>4</th>\n",
       "      <td>47.5</td>\n",
       "      <td>51</td>\n",
       "      <td>219.00</td>\n",
       "      <td>64.00</td>\n",
       "      <td>41.2</td>\n",
       "      <td>119.8</td>\n",
       "      <td>122.1</td>\n",
       "      <td>112.8</td>\n",
       "      <td>62.5</td>\n",
       "      <td>36.9</td>\n",
       "      <td>23.6</td>\n",
       "      <td>34.7</td>\n",
       "      <td>29.1</td>\n",
       "      <td>18.4</td>\n",
       "    </tr>\n",
       "  </tbody>\n",
       "</table>\n",
       "</div>"
      ],
      "text/plain": [
       "    FAT  AGE  WEIGHT  HEIGHT  NECK  CHEST  ABDOMEN    HIP  THIGH  KNEE  ANKLE  \\\n",
       "0  35.2   46  363.15   72.25  51.2  136.2    148.1  147.7   87.3  49.1   29.6   \n",
       "1  11.8   27  168.00   71.25  38.1   93.0     79.1   94.5   57.3  36.2   24.5   \n",
       "2  22.2   69  177.75   68.50  38.7  102.0     95.0   98.3   55.0  38.3   21.8   \n",
       "3  10.6   57  147.75   65.75  35.2   99.6     86.4   90.1   53.0  35.0   21.3   \n",
       "4  47.5   51  219.00   64.00  41.2  119.8    122.1  112.8   62.5  36.9   23.6   \n",
       "\n",
       "   BICEPS  FOREARM  WRIST  \n",
       "0    45.0     29.0   21.4  \n",
       "1    29.0     30.0   18.8  \n",
       "2    30.8     25.7   18.8  \n",
       "3    31.7     27.3   16.9  \n",
       "4    34.7     29.1   18.4  "
      ]
     },
     "execution_count": 3,
     "metadata": {},
     "output_type": "execute_result"
    }
   ],
   "source": [
    "# 데이터 불러오기\n",
    "\n",
    "df_raw = pd.read_csv('data/body.csv')\n",
    "df_raw.head()"
   ]
  },
  {
   "cell_type": "code",
   "execution_count": 4,
   "id": "a1172465",
   "metadata": {},
   "outputs": [],
   "source": [
    "df_raw_y = df_raw['FAT']\n",
    "df_raw_x = df_raw.drop(columns = 'FAT', inplace = False)"
   ]
  },
  {
   "cell_type": "code",
   "execution_count": 5,
   "id": "60c60760",
   "metadata": {},
   "outputs": [
    {
     "name": "stdout",
     "output_type": "stream",
     "text": [
      "학습용 데이터의 X 크기: (176, 13)\n",
      "학습용 데이터의 Y 크기: (176,)\n",
      "평가용 데이터의 X 크기: (76, 13)\n",
      "평가용 데이터의 X 크기: (76,)\n"
     ]
    }
   ],
   "source": [
    "df_train_x, df_test_x, df_train_y, df_test_y = train_test_split(df_raw_x, df_raw_y, test_size = 0.3, random_state=1234)\n",
    "\n",
    "print('학습용 데이터의 X 크기: {}'.format(df_train_x.shape))\n",
    "print('학습용 데이터의 Y 크기: {}'.format(df_train_y.shape))\n",
    "print('평가용 데이터의 X 크기: {}'.format(df_test_x.shape))\n",
    "print('평가용 데이터의 X 크기: {}'.format(df_test_y.shape))"
   ]
  },
  {
   "cell_type": "code",
   "execution_count": 6,
   "id": "383f5550",
   "metadata": {},
   "outputs": [
    {
     "data": {
      "text/plain": [
       "RandomForestRegressor(random_state=1234)"
      ]
     },
     "execution_count": 6,
     "metadata": {},
     "output_type": "execute_result"
    }
   ],
   "source": [
    "# 기본 모델 생성\n",
    "\n",
    "rf_uncustomized = RandomForestRegressor(random_state = 1234)\n",
    "rf_uncustomized.fit(df_train_x, df_train_y)"
   ]
  },
  {
   "cell_type": "code",
   "execution_count": 8,
   "id": "e6ec63f3",
   "metadata": {},
   "outputs": [
    {
     "name": "stdout",
     "output_type": "stream",
     "text": [
      "학습용 데이터의 모델 설명력: 0.956\n",
      "평가용 데이터의 모델 설명력: 0.612\n"
     ]
    }
   ],
   "source": [
    "# 데이터 설명력\n",
    "\n",
    "print('학습용 데이터의 모델 설명력: {:.3f}'.format(rf_uncustomized.score(df_train_x, df_train_y)))\n",
    "print('평가용 데이터의 모델 설명력: {:.3f}'.format(rf_uncustomized.score(df_test_x, df_test_y)))   "
   ]
  },
  {
   "cell_type": "markdown",
   "id": "3547afac",
   "metadata": {},
   "source": [
    "###### 모델 파라미터 조정 : Manual Search\n",
    "- n_estimators"
   ]
  },
  {
   "cell_type": "code",
   "execution_count": 9,
   "id": "0a7f3281",
   "metadata": {},
   "outputs": [],
   "source": [
    "# train 및 test 설명력 결과 저장\n",
    "train_score = []\n",
    "test_score = []\n",
    "\n",
    "# n_estimators 트리 수 변경, 10 ~ 100\n",
    "para_n_tree = [n_tree * 10 for n_tree in range(1, 11)] # para_n_tree = [10, 20 30, ... 100]\n",
    "\n",
    "for v_n_estimators in para_n_tree:\n",
    "    rf = RandomForestRegressor(n_estimators=v_n_estimators, random_state=1234)\n",
    "    rf.fit(df_train_x, df_train_y)\n",
    "    train_score.append(rf.score(df_train_x, df_train_y))\n",
    "    test_score.append(rf.score(df_test_x, df_test_y))\n",
    "    \n",
    "# 결과 저장\n",
    "df_score_n = pd.DataFrame()\n",
    "df_score_n['n_estimators'] = para_n_tree\n",
    "df_score_n['TrainScore'] = train_score\n",
    "df_score_n['TestScore'] = test_score"
   ]
  },
  {
   "cell_type": "code",
   "execution_count": 10,
   "id": "804e6c9d",
   "metadata": {
    "scrolled": true
   },
   "outputs": [
    {
     "data": {
      "text/html": [
       "<div>\n",
       "<style scoped>\n",
       "    .dataframe tbody tr th:only-of-type {\n",
       "        vertical-align: middle;\n",
       "    }\n",
       "\n",
       "    .dataframe tbody tr th {\n",
       "        vertical-align: top;\n",
       "    }\n",
       "\n",
       "    .dataframe thead th {\n",
       "        text-align: right;\n",
       "    }\n",
       "</style>\n",
       "<table border=\"1\" class=\"dataframe\">\n",
       "  <thead>\n",
       "    <tr style=\"text-align: right;\">\n",
       "      <th></th>\n",
       "      <th>n_estimators</th>\n",
       "      <th>TrainScore</th>\n",
       "      <th>TestScore</th>\n",
       "    </tr>\n",
       "  </thead>\n",
       "  <tbody>\n",
       "    <tr>\n",
       "      <th>0</th>\n",
       "      <td>10</td>\n",
       "      <td>0.936</td>\n",
       "      <td>0.542</td>\n",
       "    </tr>\n",
       "    <tr>\n",
       "      <th>1</th>\n",
       "      <td>20</td>\n",
       "      <td>0.946</td>\n",
       "      <td>0.597</td>\n",
       "    </tr>\n",
       "    <tr>\n",
       "      <th>2</th>\n",
       "      <td>30</td>\n",
       "      <td>0.952</td>\n",
       "      <td>0.610</td>\n",
       "    </tr>\n",
       "    <tr>\n",
       "      <th>3</th>\n",
       "      <td>40</td>\n",
       "      <td>0.955</td>\n",
       "      <td>0.609</td>\n",
       "    </tr>\n",
       "    <tr>\n",
       "      <th>4</th>\n",
       "      <td>50</td>\n",
       "      <td>0.955</td>\n",
       "      <td>0.611</td>\n",
       "    </tr>\n",
       "    <tr>\n",
       "      <th>5</th>\n",
       "      <td>60</td>\n",
       "      <td>0.956</td>\n",
       "      <td>0.616</td>\n",
       "    </tr>\n",
       "    <tr>\n",
       "      <th>6</th>\n",
       "      <td>70</td>\n",
       "      <td>0.955</td>\n",
       "      <td>0.614</td>\n",
       "    </tr>\n",
       "    <tr>\n",
       "      <th>7</th>\n",
       "      <td>80</td>\n",
       "      <td>0.955</td>\n",
       "      <td>0.611</td>\n",
       "    </tr>\n",
       "    <tr>\n",
       "      <th>8</th>\n",
       "      <td>90</td>\n",
       "      <td>0.956</td>\n",
       "      <td>0.610</td>\n",
       "    </tr>\n",
       "    <tr>\n",
       "      <th>9</th>\n",
       "      <td>100</td>\n",
       "      <td>0.956</td>\n",
       "      <td>0.612</td>\n",
       "    </tr>\n",
       "  </tbody>\n",
       "</table>\n",
       "</div>"
      ],
      "text/plain": [
       "   n_estimators  TrainScore  TestScore\n",
       "0            10       0.936      0.542\n",
       "1            20       0.946      0.597\n",
       "2            30       0.952      0.610\n",
       "3            40       0.955      0.609\n",
       "4            50       0.955      0.611\n",
       "5            60       0.956      0.616\n",
       "6            70       0.955      0.614\n",
       "7            80       0.955      0.611\n",
       "8            90       0.956      0.610\n",
       "9           100       0.956      0.612"
      ]
     },
     "execution_count": 10,
     "metadata": {},
     "output_type": "execute_result"
    }
   ],
   "source": [
    "# 모델 설명력 확인\n",
    "df_score_n.round(3)"
   ]
  },
  {
   "cell_type": "code",
   "execution_count": 11,
   "id": "50aa2fe1",
   "metadata": {},
   "outputs": [
    {
     "data": {
      "text/plain": [
       "<matplotlib.legend.Legend at 0x269f9143340>"
      ]
     },
     "execution_count": 11,
     "metadata": {},
     "output_type": "execute_result"
    },
    {
     "data": {
      "image/png": "[encoded data removed]",
      "text/plain": [
       "<Figure size 432x288 with 1 Axes>"
      ]
     },
     "metadata": {
      "needs_background": "light"
     },
     "output_type": "display_data"
    }
   ],
   "source": [
    "# 모델 설명력 그래프로 확인\n",
    "plt.plot(para_n_tree, train_score, linestyle = '-', label = 'Train Score')\n",
    "plt.plot(para_n_tree, test_score, linestyle = '--', label = 'Test Score')\n",
    "plt.ylabel('score')\n",
    "plt.xlabel('n_estimators')\n",
    "plt.legend()"
   ]
  },
  {
   "cell_type": "markdown",
   "id": "f7528e6f",
   "metadata": {},
   "source": [
    "###### 모델 파라미터 조정 : Manual Search\n",
    "- min_samples_leaf"
   ]
  },
  {
   "cell_type": "code",
   "execution_count": 12,
   "id": "26c6b671",
   "metadata": {},
   "outputs": [],
   "source": [
    "# train 및 test 설명력 결과 저장\n",
    "train_score = []\n",
    "test_score = []\n",
    "\n",
    "# n_estimators 트리 수 변경, 10 ~ 100\n",
    "para_leaf = [n_leaf for n_leaf in range(1, 21)] # para_n_tree = [1, 2, 3, 4, ..., 20]\n",
    "\n",
    "for v_min_samples_leaf in para_leaf:\n",
    "    rf = RandomForestRegressor(min_samples_leaf= v_min_samples_leaf, random_state=1234, n_estimators = 100)\n",
    "    rf.fit(df_train_x, df_train_y)\n",
    "    train_score.append(rf.score(df_train_x, df_train_y))\n",
    "    test_score.append(rf.score(df_test_x, df_test_y))\n",
    "    \n",
    "# 결과 저장\n",
    "df_score_leaf = pd.DataFrame()\n",
    "df_score_leaf['MinSamplesLeaf'] = para_leaf\n",
    "df_score_leaf['TrainScore'] = train_score\n",
    "df_score_leaf['TestScore'] = test_score"
   ]
  },
  {
   "cell_type": "code",
   "execution_count": 13,
   "id": "ff7f3176",
   "metadata": {
    "scrolled": true
   },
   "outputs": [
    {
     "data": {
      "text/html": [
       "<div>\n",
       "<style scoped>\n",
       "    .dataframe tbody tr th:only-of-type {\n",
       "        vertical-align: middle;\n",
       "    }\n",
       "\n",
       "    .dataframe tbody tr th {\n",
       "        vertical-align: top;\n",
       "    }\n",
       "\n",
       "    .dataframe thead th {\n",
       "        text-align: right;\n",
       "    }\n",
       "</style>\n",
       "<table border=\"1\" class=\"dataframe\">\n",
       "  <thead>\n",
       "    <tr style=\"text-align: right;\">\n",
       "      <th></th>\n",
       "      <th>MinSamplesLeaf</th>\n",
       "      <th>TrainScore</th>\n",
       "      <th>TestScore</th>\n",
       "    </tr>\n",
       "  </thead>\n",
       "  <tbody>\n",
       "    <tr>\n",
       "      <th>0</th>\n",
       "      <td>1</td>\n",
       "      <td>0.956</td>\n",
       "      <td>0.612</td>\n",
       "    </tr>\n",
       "    <tr>\n",
       "      <th>1</th>\n",
       "      <td>2</td>\n",
       "      <td>0.939</td>\n",
       "      <td>0.610</td>\n",
       "    </tr>\n",
       "    <tr>\n",
       "      <th>2</th>\n",
       "      <td>3</td>\n",
       "      <td>0.915</td>\n",
       "      <td>0.611</td>\n",
       "    </tr>\n",
       "    <tr>\n",
       "      <th>3</th>\n",
       "      <td>4</td>\n",
       "      <td>0.891</td>\n",
       "      <td>0.617</td>\n",
       "    </tr>\n",
       "    <tr>\n",
       "      <th>4</th>\n",
       "      <td>5</td>\n",
       "      <td>0.869</td>\n",
       "      <td>0.622</td>\n",
       "    </tr>\n",
       "    <tr>\n",
       "      <th>5</th>\n",
       "      <td>6</td>\n",
       "      <td>0.849</td>\n",
       "      <td>0.627</td>\n",
       "    </tr>\n",
       "    <tr>\n",
       "      <th>6</th>\n",
       "      <td>7</td>\n",
       "      <td>0.830</td>\n",
       "      <td>0.626</td>\n",
       "    </tr>\n",
       "    <tr>\n",
       "      <th>7</th>\n",
       "      <td>8</td>\n",
       "      <td>0.816</td>\n",
       "      <td>0.621</td>\n",
       "    </tr>\n",
       "    <tr>\n",
       "      <th>8</th>\n",
       "      <td>9</td>\n",
       "      <td>0.800</td>\n",
       "      <td>0.619</td>\n",
       "    </tr>\n",
       "    <tr>\n",
       "      <th>9</th>\n",
       "      <td>10</td>\n",
       "      <td>0.786</td>\n",
       "      <td>0.619</td>\n",
       "    </tr>\n",
       "    <tr>\n",
       "      <th>10</th>\n",
       "      <td>11</td>\n",
       "      <td>0.771</td>\n",
       "      <td>0.621</td>\n",
       "    </tr>\n",
       "    <tr>\n",
       "      <th>11</th>\n",
       "      <td>12</td>\n",
       "      <td>0.759</td>\n",
       "      <td>0.617</td>\n",
       "    </tr>\n",
       "    <tr>\n",
       "      <th>12</th>\n",
       "      <td>13</td>\n",
       "      <td>0.748</td>\n",
       "      <td>0.614</td>\n",
       "    </tr>\n",
       "    <tr>\n",
       "      <th>13</th>\n",
       "      <td>14</td>\n",
       "      <td>0.740</td>\n",
       "      <td>0.612</td>\n",
       "    </tr>\n",
       "    <tr>\n",
       "      <th>14</th>\n",
       "      <td>15</td>\n",
       "      <td>0.731</td>\n",
       "      <td>0.616</td>\n",
       "    </tr>\n",
       "    <tr>\n",
       "      <th>15</th>\n",
       "      <td>16</td>\n",
       "      <td>0.720</td>\n",
       "      <td>0.616</td>\n",
       "    </tr>\n",
       "    <tr>\n",
       "      <th>16</th>\n",
       "      <td>17</td>\n",
       "      <td>0.711</td>\n",
       "      <td>0.614</td>\n",
       "    </tr>\n",
       "    <tr>\n",
       "      <th>17</th>\n",
       "      <td>18</td>\n",
       "      <td>0.701</td>\n",
       "      <td>0.607</td>\n",
       "    </tr>\n",
       "    <tr>\n",
       "      <th>18</th>\n",
       "      <td>19</td>\n",
       "      <td>0.694</td>\n",
       "      <td>0.604</td>\n",
       "    </tr>\n",
       "    <tr>\n",
       "      <th>19</th>\n",
       "      <td>20</td>\n",
       "      <td>0.690</td>\n",
       "      <td>0.599</td>\n",
       "    </tr>\n",
       "  </tbody>\n",
       "</table>\n",
       "</div>"
      ],
      "text/plain": [
       "    MinSamplesLeaf  TrainScore  TestScore\n",
       "0                1       0.956      0.612\n",
       "1                2       0.939      0.610\n",
       "2                3       0.915      0.611\n",
       "3                4       0.891      0.617\n",
       "4                5       0.869      0.622\n",
       "5                6       0.849      0.627\n",
       "6                7       0.830      0.626\n",
       "7                8       0.816      0.621\n",
       "8                9       0.800      0.619\n",
       "9               10       0.786      0.619\n",
       "10              11       0.771      0.621\n",
       "11              12       0.759      0.617\n",
       "12              13       0.748      0.614\n",
       "13              14       0.740      0.612\n",
       "14              15       0.731      0.616\n",
       "15              16       0.720      0.616\n",
       "16              17       0.711      0.614\n",
       "17              18       0.701      0.607\n",
       "18              19       0.694      0.604\n",
       "19              20       0.690      0.599"
      ]
     },
     "execution_count": 13,
     "metadata": {},
     "output_type": "execute_result"
    }
   ],
   "source": [
    "# 모델 설명력 확인\n",
    "df_score_leaf.round(3)"
   ]
  },
  {
   "cell_type": "code",
   "execution_count": 14,
   "id": "3d803e98",
   "metadata": {
    "scrolled": true
   },
   "outputs": [
    {
     "data": {
      "text/plain": [
       "<matplotlib.legend.Legend at 0x269f51294c0>"
      ]
     },
     "execution_count": 14,
     "metadata": {},
     "output_type": "execute_result"
    },
    {
     "data": {
      "image/png": "[encoded data removed]",
      "text/plain": [
       "<Figure size 432x288 with 1 Axes>"
      ]
     },
     "metadata": {
      "needs_background": "light"
     },
     "output_type": "display_data"
    }
   ],
   "source": [
    "# 모델 설명력 그래프로 확인\n",
    "plt.plot(para_leaf, train_score, linestyle = '-', label = 'Train Score')\n",
    "plt.plot(para_leaf, test_score, linestyle = '--', label = 'Test Score')\n",
    "plt.ylabel('score')\n",
    "plt.xlabel('min samples leaf')\n",
    "plt.legend()"
   ]
  },
  {
   "cell_type": "code",
   "execution_count": null,
   "id": "187e0c16",
   "metadata": {},
   "outputs": [],
   "source": []
  },
  {
   "cell_type": "markdown",
   "id": "f39ef7f8",
   "metadata": {},
   "source": [
    "###### 모델 파라미터 조정 : Manual Search\n",
    "- min_samples_split"
   ]
  },
  {
   "cell_type": "code",
   "execution_count": 15,
   "id": "d00309a3",
   "metadata": {},
   "outputs": [],
   "source": [
    "# train 및 test 설명력 결과 저장\n",
    "train_score = []\n",
    "test_score = []\n",
    "\n",
    "\n",
    "para_split = [n_split * 2 for n_split in range(2, 21)] # para_n_tree = [4, 6, 8, ..., 40]\n",
    "\n",
    "for v_min_samples_split in para_split:\n",
    "    rf = RandomForestRegressor(min_samples_leaf= 6, random_state=1234, n_estimators = 100, min_samples_split = v_min_samples_split)\n",
    "    rf.fit(df_train_x, df_train_y)\n",
    "    train_score.append(rf.score(df_train_x, df_train_y))\n",
    "    test_score.append(rf.score(df_test_x, df_test_y))\n",
    "    \n",
    "# 결과 저장\n",
    "df_score_split = pd.DataFrame()\n",
    "df_score_split['MinSamplesLeaf'] = para_split\n",
    "df_score_split['TrainScore'] = train_score\n",
    "df_score_split['TestScore'] = test_score"
   ]
  },
  {
   "cell_type": "code",
   "execution_count": 16,
   "id": "59ed8ced",
   "metadata": {
    "scrolled": true
   },
   "outputs": [
    {
     "data": {
      "text/html": [
       "<div>\n",
       "<style scoped>\n",
       "    .dataframe tbody tr th:only-of-type {\n",
       "        vertical-align: middle;\n",
       "    }\n",
       "\n",
       "    .dataframe tbody tr th {\n",
       "        vertical-align: top;\n",
       "    }\n",
       "\n",
       "    .dataframe thead th {\n",
       "        text-align: right;\n",
       "    }\n",
       "</style>\n",
       "<table border=\"1\" class=\"dataframe\">\n",
       "  <thead>\n",
       "    <tr style=\"text-align: right;\">\n",
       "      <th></th>\n",
       "      <th>MinSamplesLeaf</th>\n",
       "      <th>TrainScore</th>\n",
       "      <th>TestScore</th>\n",
       "    </tr>\n",
       "  </thead>\n",
       "  <tbody>\n",
       "    <tr>\n",
       "      <th>0</th>\n",
       "      <td>4</td>\n",
       "      <td>0.849</td>\n",
       "      <td>0.627</td>\n",
       "    </tr>\n",
       "    <tr>\n",
       "      <th>1</th>\n",
       "      <td>6</td>\n",
       "      <td>0.849</td>\n",
       "      <td>0.627</td>\n",
       "    </tr>\n",
       "    <tr>\n",
       "      <th>2</th>\n",
       "      <td>8</td>\n",
       "      <td>0.849</td>\n",
       "      <td>0.627</td>\n",
       "    </tr>\n",
       "    <tr>\n",
       "      <th>3</th>\n",
       "      <td>10</td>\n",
       "      <td>0.849</td>\n",
       "      <td>0.627</td>\n",
       "    </tr>\n",
       "    <tr>\n",
       "      <th>4</th>\n",
       "      <td>12</td>\n",
       "      <td>0.849</td>\n",
       "      <td>0.627</td>\n",
       "    </tr>\n",
       "    <tr>\n",
       "      <th>5</th>\n",
       "      <td>14</td>\n",
       "      <td>0.839</td>\n",
       "      <td>0.629</td>\n",
       "    </tr>\n",
       "    <tr>\n",
       "      <th>6</th>\n",
       "      <td>16</td>\n",
       "      <td>0.831</td>\n",
       "      <td>0.629</td>\n",
       "    </tr>\n",
       "    <tr>\n",
       "      <th>7</th>\n",
       "      <td>18</td>\n",
       "      <td>0.821</td>\n",
       "      <td>0.628</td>\n",
       "    </tr>\n",
       "    <tr>\n",
       "      <th>8</th>\n",
       "      <td>20</td>\n",
       "      <td>0.813</td>\n",
       "      <td>0.628</td>\n",
       "    </tr>\n",
       "    <tr>\n",
       "      <th>9</th>\n",
       "      <td>22</td>\n",
       "      <td>0.803</td>\n",
       "      <td>0.628</td>\n",
       "    </tr>\n",
       "    <tr>\n",
       "      <th>10</th>\n",
       "      <td>24</td>\n",
       "      <td>0.794</td>\n",
       "      <td>0.625</td>\n",
       "    </tr>\n",
       "    <tr>\n",
       "      <th>11</th>\n",
       "      <td>26</td>\n",
       "      <td>0.784</td>\n",
       "      <td>0.621</td>\n",
       "    </tr>\n",
       "    <tr>\n",
       "      <th>12</th>\n",
       "      <td>28</td>\n",
       "      <td>0.776</td>\n",
       "      <td>0.620</td>\n",
       "    </tr>\n",
       "    <tr>\n",
       "      <th>13</th>\n",
       "      <td>30</td>\n",
       "      <td>0.772</td>\n",
       "      <td>0.620</td>\n",
       "    </tr>\n",
       "    <tr>\n",
       "      <th>14</th>\n",
       "      <td>32</td>\n",
       "      <td>0.762</td>\n",
       "      <td>0.615</td>\n",
       "    </tr>\n",
       "    <tr>\n",
       "      <th>15</th>\n",
       "      <td>34</td>\n",
       "      <td>0.753</td>\n",
       "      <td>0.610</td>\n",
       "    </tr>\n",
       "    <tr>\n",
       "      <th>16</th>\n",
       "      <td>36</td>\n",
       "      <td>0.748</td>\n",
       "      <td>0.609</td>\n",
       "    </tr>\n",
       "    <tr>\n",
       "      <th>17</th>\n",
       "      <td>38</td>\n",
       "      <td>0.744</td>\n",
       "      <td>0.608</td>\n",
       "    </tr>\n",
       "    <tr>\n",
       "      <th>18</th>\n",
       "      <td>40</td>\n",
       "      <td>0.741</td>\n",
       "      <td>0.607</td>\n",
       "    </tr>\n",
       "  </tbody>\n",
       "</table>\n",
       "</div>"
      ],
      "text/plain": [
       "    MinSamplesLeaf  TrainScore  TestScore\n",
       "0                4       0.849      0.627\n",
       "1                6       0.849      0.627\n",
       "2                8       0.849      0.627\n",
       "3               10       0.849      0.627\n",
       "4               12       0.849      0.627\n",
       "5               14       0.839      0.629\n",
       "6               16       0.831      0.629\n",
       "7               18       0.821      0.628\n",
       "8               20       0.813      0.628\n",
       "9               22       0.803      0.628\n",
       "10              24       0.794      0.625\n",
       "11              26       0.784      0.621\n",
       "12              28       0.776      0.620\n",
       "13              30       0.772      0.620\n",
       "14              32       0.762      0.615\n",
       "15              34       0.753      0.610\n",
       "16              36       0.748      0.609\n",
       "17              38       0.744      0.608\n",
       "18              40       0.741      0.607"
      ]
     },
     "execution_count": 16,
     "metadata": {},
     "output_type": "execute_result"
    }
   ],
   "source": [
    "# 모델 설명력 확인\n",
    "df_score_split.round(3)"
   ]
  },
  {
   "cell_type": "code",
   "execution_count": 17,
   "id": "9e33ab68",
   "metadata": {
    "scrolled": true
   },
   "outputs": [
    {
     "data": {
      "text/plain": [
       "<matplotlib.legend.Legend at 0x269f6efd430>"
      ]
     },
     "execution_count": 17,
     "metadata": {},
     "output_type": "execute_result"
    },
    {
     "data": {
      "image/png": "[encoded data removed]",
      "text/plain": [
       "<Figure size 432x288 with 1 Axes>"
      ]
     },
     "metadata": {
      "needs_background": "light"
     },
     "output_type": "display_data"
    }
   ],
   "source": [
    "# 모델 설명력 그래프로 확인\n",
    "plt.plot(para_split, train_score, linestyle = '-', label = 'Train Score')\n",
    "plt.plot(para_split, test_score, linestyle = '--', label = 'Test Score')\n",
    "plt.ylabel('score')\n",
    "plt.xlabel('min samples split')\n",
    "plt.legend()"
   ]
  },
  {
   "cell_type": "markdown",
   "id": "039ae56e",
   "metadata": {},
   "source": [
    "###### 모델 파라미터 조정 : Manual Search\n",
    "- max_depth"
   ]
  },
  {
   "cell_type": "code",
   "execution_count": 18,
   "id": "c6e43485",
   "metadata": {},
   "outputs": [],
   "source": [
    "# train 및 test 설명력 결과 저장\n",
    "train_score = []\n",
    "test_score = []\n",
    "\n",
    "\n",
    "para_depth = [depth for depth in range(1, 11)] # para_n_tree = [1, 2, 3, 4, ..., 10]\n",
    "\n",
    "for v_max_depth in para_depth:\n",
    "    rf = RandomForestRegressor(min_samples_leaf= 6, random_state=1234, n_estimators = 100, min_samples_split=14, max_depth= v_max_depth)\n",
    "    rf.fit(df_train_x, df_train_y)\n",
    "    train_score.append(rf.score(df_train_x, df_train_y))\n",
    "    test_score.append(rf.score(df_test_x, df_test_y))\n",
    "    \n",
    "# 결과 저장\n",
    "df_score_depth = pd.DataFrame()\n",
    "df_score_depth['MinSamplesLeaf'] = para_depth\n",
    "df_score_depth['TrainScore'] = train_score\n",
    "df_score_depth['TestScore'] = test_score"
   ]
  },
  {
   "cell_type": "code",
   "execution_count": 19,
   "id": "ed4f85e9",
   "metadata": {
    "scrolled": true
   },
   "outputs": [
    {
     "data": {
      "text/html": [
       "<div>\n",
       "<style scoped>\n",
       "    .dataframe tbody tr th:only-of-type {\n",
       "        vertical-align: middle;\n",
       "    }\n",
       "\n",
       "    .dataframe tbody tr th {\n",
       "        vertical-align: top;\n",
       "    }\n",
       "\n",
       "    .dataframe thead th {\n",
       "        text-align: right;\n",
       "    }\n",
       "</style>\n",
       "<table border=\"1\" class=\"dataframe\">\n",
       "  <thead>\n",
       "    <tr style=\"text-align: right;\">\n",
       "      <th></th>\n",
       "      <th>MinSamplesLeaf</th>\n",
       "      <th>TrainScore</th>\n",
       "      <th>TestScore</th>\n",
       "    </tr>\n",
       "  </thead>\n",
       "  <tbody>\n",
       "    <tr>\n",
       "      <th>0</th>\n",
       "      <td>1</td>\n",
       "      <td>0.557</td>\n",
       "      <td>0.448</td>\n",
       "    </tr>\n",
       "    <tr>\n",
       "      <th>1</th>\n",
       "      <td>2</td>\n",
       "      <td>0.721</td>\n",
       "      <td>0.598</td>\n",
       "    </tr>\n",
       "    <tr>\n",
       "      <th>2</th>\n",
       "      <td>3</td>\n",
       "      <td>0.789</td>\n",
       "      <td>0.620</td>\n",
       "    </tr>\n",
       "    <tr>\n",
       "      <th>3</th>\n",
       "      <td>4</td>\n",
       "      <td>0.825</td>\n",
       "      <td>0.627</td>\n",
       "    </tr>\n",
       "    <tr>\n",
       "      <th>4</th>\n",
       "      <td>5</td>\n",
       "      <td>0.837</td>\n",
       "      <td>0.631</td>\n",
       "    </tr>\n",
       "    <tr>\n",
       "      <th>5</th>\n",
       "      <td>6</td>\n",
       "      <td>0.839</td>\n",
       "      <td>0.629</td>\n",
       "    </tr>\n",
       "    <tr>\n",
       "      <th>6</th>\n",
       "      <td>7</td>\n",
       "      <td>0.839</td>\n",
       "      <td>0.629</td>\n",
       "    </tr>\n",
       "    <tr>\n",
       "      <th>7</th>\n",
       "      <td>8</td>\n",
       "      <td>0.839</td>\n",
       "      <td>0.629</td>\n",
       "    </tr>\n",
       "    <tr>\n",
       "      <th>8</th>\n",
       "      <td>9</td>\n",
       "      <td>0.839</td>\n",
       "      <td>0.629</td>\n",
       "    </tr>\n",
       "    <tr>\n",
       "      <th>9</th>\n",
       "      <td>10</td>\n",
       "      <td>0.839</td>\n",
       "      <td>0.629</td>\n",
       "    </tr>\n",
       "  </tbody>\n",
       "</table>\n",
       "</div>"
      ],
      "text/plain": [
       "   MinSamplesLeaf  TrainScore  TestScore\n",
       "0               1       0.557      0.448\n",
       "1               2       0.721      0.598\n",
       "2               3       0.789      0.620\n",
       "3               4       0.825      0.627\n",
       "4               5       0.837      0.631\n",
       "5               6       0.839      0.629\n",
       "6               7       0.839      0.629\n",
       "7               8       0.839      0.629\n",
       "8               9       0.839      0.629\n",
       "9              10       0.839      0.629"
      ]
     },
     "execution_count": 19,
     "metadata": {},
     "output_type": "execute_result"
    }
   ],
   "source": [
    "# 모델 설명력 확인\n",
    "df_score_depth.round(3)"
   ]
  },
  {
   "cell_type": "code",
   "execution_count": 20,
   "id": "64bc1164",
   "metadata": {
    "scrolled": false
   },
   "outputs": [
    {
     "data": {
      "text/plain": [
       "<matplotlib.legend.Legend at 0x269f8222040>"
      ]
     },
     "execution_count": 20,
     "metadata": {},
     "output_type": "execute_result"
    },
    {
     "data": {
      "image/png": "[encoded data removed]",
      "text/plain": [
       "<Figure size 432x288 with 1 Axes>"
      ]
     },
     "metadata": {
      "needs_background": "light"
     },
     "output_type": "display_data"
    }
   ],
   "source": [
    "# 모델 설명력 그래프로 확인\n",
    "plt.plot(para_depth, train_score, linestyle = '-', label = 'Train Score')\n",
    "plt.plot(para_depth, test_score, linestyle = '--', label = 'Test Score')\n",
    "plt.ylabel('score')\n",
    "plt.xlabel('max depth')\n",
    "plt.legend()"
   ]
  },
  {
   "cell_type": "code",
   "execution_count": 31,
   "id": "99e02636",
   "metadata": {},
   "outputs": [
    {
     "data": {
      "text/plain": [
       "RandomForestRegressor(max_depth=4, min_samples_leaf=6, min_samples_split=14,\n",
       "                      random_state=1234)"
      ]
     },
     "execution_count": 31,
     "metadata": {},
     "output_type": "execute_result"
    }
   ],
   "source": [
    "manual_dt = RandomForestRegressor(min_samples_leaf= 6, random_state=1234, n_estimators = 100, min_samples_split = 14, max_depth = 4)\n",
    "manual_dt.fit(df_train_x, df_train_y)"
   ]
  },
  {
   "cell_type": "code",
   "execution_count": 32,
   "id": "f9f415f0",
   "metadata": {},
   "outputs": [
    {
     "data": {
      "text/plain": [
       "0.8245945310440619"
      ]
     },
     "execution_count": 32,
     "metadata": {},
     "output_type": "execute_result"
    }
   ],
   "source": [
    "manual_dt.score(df_train_x, df_train_y)"
   ]
  },
  {
   "cell_type": "code",
   "execution_count": 33,
   "id": "3139975a",
   "metadata": {},
   "outputs": [
    {
     "data": {
      "text/plain": [
       "0.6272281414182838"
      ]
     },
     "execution_count": 33,
     "metadata": {},
     "output_type": "execute_result"
    }
   ],
   "source": [
    "manual_dt.score(df_test_x, df_test_y)"
   ]
  },
  {
   "cell_type": "markdown",
   "id": "059e88e9",
   "metadata": {},
   "source": [
    "###### GridSearch 사용하여 최적의 파라미터 찾기"
   ]
  },
  {
   "cell_type": "code",
   "execution_count": 25,
   "id": "f1f5c715",
   "metadata": {},
   "outputs": [
    {
     "name": "stdout",
     "output_type": "stream",
     "text": [
      "best estimator model: \n",
      "RandomForestRegressor(max_depth=7, min_samples_leaf=3, min_samples_split=18,\n",
      "                      n_estimators=30, random_state=1234)\n",
      "\n",
      "best parameter: \n",
      "{'max_depth': 7, 'min_samples_leaf': 3, 'min_samples_split': 18, 'n_estimators': 30}\n",
      "\n",
      "best score: \n",
      "0.682\n"
     ]
    }
   ],
   "source": [
    "estimator = RandomForestRegressor(random_state=1234)\n",
    "\n",
    "# 구하고자 하는 parameter 범위\n",
    "param_grid = {'n_estimators': para_n_tree, 'max_depth': para_depth, 'min_samples_split': para_split, 'min_samples_leaf': para_leaf}\n",
    "\n",
    "# 설명력(r2)이 높은 최적parameter 찾기\n",
    "grid_dt = GridSearchCV(estimator, param_grid, scoring = 'r2', n_jobs = -1)\n",
    "grid_dt.fit(df_train_x, df_train_y)\n",
    "\n",
    "print('best estimator model: \\n{}'.format(grid_dt.best_estimator_))\n",
    "print('\\nbest parameter: \\n{}'.format(grid_dt.best_params_))\n",
    "print('\\nbest score: \\n{}'.format(grid_dt.best_score_.round(3)))"
   ]
  },
  {
   "cell_type": "code",
   "execution_count": 26,
   "id": "6442da10",
   "metadata": {},
   "outputs": [
    {
     "data": {
      "text/plain": [
       "0.8396801588895763"
      ]
     },
     "execution_count": 26,
     "metadata": {},
     "output_type": "execute_result"
    }
   ],
   "source": [
    "grid_dt.score(df_train_x, df_train_y)"
   ]
  },
  {
   "cell_type": "code",
   "execution_count": 27,
   "id": "f27d54c6",
   "metadata": {},
   "outputs": [
    {
     "data": {
      "text/plain": [
       "0.617123559099447"
      ]
     },
     "execution_count": 27,
     "metadata": {},
     "output_type": "execute_result"
    }
   ],
   "source": [
    "grid_dt.score(df_test_x, df_test_y)"
   ]
  },
  {
   "cell_type": "markdown",
   "id": "2effa0d2",
   "metadata": {},
   "source": [
    "###### RandomSearch 사용하여 최적의 파라미터 찾기"
   ]
  },
  {
   "cell_type": "code",
   "execution_count": 28,
   "id": "0d00a88c",
   "metadata": {},
   "outputs": [
    {
     "name": "stdout",
     "output_type": "stream",
     "text": [
      "best estimator model: \n",
      "RandomForestRegressor(max_depth=5, min_samples_split=18, n_estimators=40,\n",
      "                      random_state=1234)\n",
      "\n",
      "best parameter: \n",
      "{'n_estimators': 40, 'min_samples_split': 18, 'min_samples_leaf': 1, 'max_depth': 5}\n",
      "\n",
      "best score: \n",
      "0.673\n"
     ]
    }
   ],
   "source": [
    "estimator = RandomForestRegressor(random_state = 1234)\n",
    "\n",
    "# 구하고자 하는 파라미터와 범위\n",
    "param_grid = {'n_estimators': para_n_tree, 'max_depth': para_depth,\n",
    "             'min_samples_split': para_split, 'min_samples_leaf': para_leaf}\n",
    "\n",
    "# 설명력이 높은 최적 파라미터 찾기\n",
    "random_dt = RandomizedSearchCV(estimator, param_grid, scoring = 'r2', n_jobs= -1)\n",
    "random_dt.fit(df_train_x, df_train_y)\n",
    "\n",
    "print('best estimator model: \\n{}'.format(random_dt.best_estimator_))\n",
    "print('\\nbest parameter: \\n{}'.format(random_dt.best_params_))\n",
    "print('\\nbest score: \\n{}'.format(random_dt.best_score_.round(3)))"
   ]
  },
  {
   "cell_type": "code",
   "execution_count": 29,
   "id": "497544f9",
   "metadata": {},
   "outputs": [
    {
     "data": {
      "text/plain": [
       "0.8405524316405154"
      ]
     },
     "execution_count": 29,
     "metadata": {},
     "output_type": "execute_result"
    }
   ],
   "source": [
    "random_dt.score(df_train_x, df_train_y)"
   ]
  },
  {
   "cell_type": "code",
   "execution_count": 30,
   "id": "cde4fe15",
   "metadata": {},
   "outputs": [
    {
     "data": {
      "text/plain": [
       "0.6163813690692603"
      ]
     },
     "execution_count": 30,
     "metadata": {},
     "output_type": "execute_result"
    }
   ],
   "source": [
    "random_dt.score(df_test_x, df_test_y)"
   ]
  },
  {
   "cell_type": "code",
   "execution_count": 34,
   "id": "c83dd151",
   "metadata": {},
   "outputs": [
    {
     "name": "stdout",
     "output_type": "stream",
     "text": [
      "Score on training set: 0.825\n",
      "Score on test set: 0.627\n"
     ]
    }
   ],
   "source": [
    "# 최적 parameter 설정 후 최종 모델 생성\n",
    "\n",
    "rf_final = RandomForestRegressor(min_samples_leaf= 6, random_state=1234, n_estimators = 100, min_samples_split = 14, max_depth = 4)\n",
    "rf_final.fit(df_train_x, df_train_y)\n",
    "\n",
    "print('Score on training set: {:.3f}'.format(rf_final.score(df_train_x, df_train_y)))\n",
    "print('Score on test set: {:.3f}'.format(rf_final.score(df_test_x, df_test_y)))"
   ]
  },
  {
   "cell_type": "code",
   "execution_count": 36,
   "id": "8eabde92",
   "metadata": {},
   "outputs": [
    {
     "data": {
      "image/png": "[encoded data removed]",
      "text/plain": [
       "<Figure size 720x504 with 1 Axes>"
      ]
     },
     "metadata": {
      "needs_background": "light"
     },
     "output_type": "display_data"
    },
    {
     "data": {
      "image/png": "[encoded data removed]",
      "text/plain": [
       "<Figure size 720x504 with 1 Axes>"
      ]
     },
     "metadata": {
      "needs_background": "light"
     },
     "output_type": "display_data"
    },
    {
     "data": {
      "image/png": "[encoded data removed]",
      "text/plain": [
       "<Figure size 720x504 with 1 Axes>"
      ]
     },
     "metadata": {
      "needs_background": "light"
     },
     "output_type": "display_data"
    }
   ],
   "source": [
    "# plot tree 시각화\n",
    "\n",
    "v_feature_name = df_train_x.columns\n",
    "\n",
    "plt.figure(figsize = (10, 7))\n",
    "plot_tree(rf_final.estimators_[0], feature_names= v_feature_name, filled = True)\n",
    "plt.figure(figsize = (10, 7))\n",
    "plot_tree(rf_final.estimators_[1], feature_names= v_feature_name, filled = True)\n",
    "plt.figure(figsize = (10, 7))\n",
    "plot_tree(rf_final.estimators_[10], feature_names= v_feature_name, filled = True);"
   ]
  },
  {
   "cell_type": "markdown",
   "id": "62abebc7",
   "metadata": {},
   "source": [
    "# 실습 데이터로 진행해보기"
   ]
  },
  {
   "cell_type": "code",
   "execution_count": 37,
   "id": "8e935e33",
   "metadata": {},
   "outputs": [
    {
     "data": {
      "text/html": [
       "<div>\n",
       "<style scoped>\n",
       "    .dataframe tbody tr th:only-of-type {\n",
       "        vertical-align: middle;\n",
       "    }\n",
       "\n",
       "    .dataframe tbody tr th {\n",
       "        vertical-align: top;\n",
       "    }\n",
       "\n",
       "    .dataframe thead th {\n",
       "        text-align: right;\n",
       "    }\n",
       "</style>\n",
       "<table border=\"1\" class=\"dataframe\">\n",
       "  <thead>\n",
       "    <tr style=\"text-align: right;\">\n",
       "      <th></th>\n",
       "      <th>Y</th>\n",
       "      <th>Weight</th>\n",
       "      <th>Velocity</th>\n",
       "      <th>Shoulder</th>\n",
       "      <th>Temperature</th>\n",
       "      <th>Time</th>\n",
       "    </tr>\n",
       "  </thead>\n",
       "  <tbody>\n",
       "    <tr>\n",
       "      <th>0</th>\n",
       "      <td>98</td>\n",
       "      <td>70</td>\n",
       "      <td>70</td>\n",
       "      <td>36.5</td>\n",
       "      <td>36</td>\n",
       "      <td>5</td>\n",
       "    </tr>\n",
       "    <tr>\n",
       "      <th>1</th>\n",
       "      <td>80</td>\n",
       "      <td>70</td>\n",
       "      <td>70</td>\n",
       "      <td>36.0</td>\n",
       "      <td>36</td>\n",
       "      <td>6</td>\n",
       "    </tr>\n",
       "    <tr>\n",
       "      <th>2</th>\n",
       "      <td>113</td>\n",
       "      <td>70</td>\n",
       "      <td>90</td>\n",
       "      <td>37.0</td>\n",
       "      <td>37</td>\n",
       "      <td>6</td>\n",
       "    </tr>\n",
       "    <tr>\n",
       "      <th>3</th>\n",
       "      <td>100</td>\n",
       "      <td>70</td>\n",
       "      <td>90</td>\n",
       "      <td>36.3</td>\n",
       "      <td>37</td>\n",
       "      <td>6</td>\n",
       "    </tr>\n",
       "    <tr>\n",
       "      <th>4</th>\n",
       "      <td>103</td>\n",
       "      <td>70</td>\n",
       "      <td>110</td>\n",
       "      <td>36.5</td>\n",
       "      <td>39</td>\n",
       "      <td>4</td>\n",
       "    </tr>\n",
       "  </tbody>\n",
       "</table>\n",
       "</div>"
      ],
      "text/plain": [
       "     Y  Weight  Velocity  Shoulder  Temperature  Time\n",
       "0   98      70        70      36.5           36     5\n",
       "1   80      70        70      36.0           36     6\n",
       "2  113      70        90      37.0           37     6\n",
       "3  100      70        90      36.3           37     6\n",
       "4  103      70       110      36.5           39     4"
      ]
     },
     "execution_count": 37,
     "metadata": {},
     "output_type": "execute_result"
    }
   ],
   "source": [
    "tire = pd.read_csv('data/tire_heat.csv')\n",
    "tire.head()"
   ]
  },
  {
   "cell_type": "code",
   "execution_count": 38,
   "id": "4d40c436",
   "metadata": {},
   "outputs": [],
   "source": [
    "df_tire_y = tire['Y']\n",
    "df_tire_x = tire.drop(columns = 'Y', inplace = False)"
   ]
  },
  {
   "cell_type": "code",
   "execution_count": 39,
   "id": "34dfe5ab",
   "metadata": {},
   "outputs": [
    {
     "name": "stdout",
     "output_type": "stream",
     "text": [
      "학습용 데이터의 X 크기: (277, 5)\n",
      "학습용 데이터의 Y 크기: (277,)\n",
      "평가용 데이터의 X 크기: (119, 5)\n",
      "평가용 데이터의 X 크기: (119,)\n"
     ]
    }
   ],
   "source": [
    "tire_train_x, tire_test_x, tire_train_y, tire_test_y = train_test_split(df_tire_x, df_tire_y, test_size = 0.3, random_state=1234)\n",
    "\n",
    "print('학습용 데이터의 X 크기: {}'.format(tire_train_x.shape))\n",
    "print('학습용 데이터의 Y 크기: {}'.format(tire_train_y.shape))\n",
    "print('평가용 데이터의 X 크기: {}'.format(tire_test_x.shape))\n",
    "print('평가용 데이터의 X 크기: {}'.format(tire_test_y.shape))"
   ]
  },
  {
   "cell_type": "code",
   "execution_count": 40,
   "id": "eef50170",
   "metadata": {},
   "outputs": [
    {
     "data": {
      "text/plain": [
       "RandomForestRegressor(random_state=1234)"
      ]
     },
     "execution_count": 40,
     "metadata": {},
     "output_type": "execute_result"
    }
   ],
   "source": [
    "# 기본 모델 생성\n",
    "\n",
    "uncustomized_tire = RandomForestRegressor(random_state = 1234)\n",
    "uncustomized_tire.fit(tire_train_x, tire_train_y)"
   ]
  },
  {
   "cell_type": "code",
   "execution_count": 41,
   "id": "b4ae78ff",
   "metadata": {},
   "outputs": [],
   "source": [
    "para_n_tree = list(range(10, 110, 10)) \n",
    "para_depth = list(range(1, 20))\n",
    "para_split = list(range(2, 20, 2))\n",
    "para_leaf = list(range(1, 20))"
   ]
  },
  {
   "cell_type": "code",
   "execution_count": 42,
   "id": "0b9a2a8e",
   "metadata": {},
   "outputs": [
    {
     "name": "stdout",
     "output_type": "stream",
     "text": [
      "best estimator model: \n",
      "RandomForestRegressor(max_depth=10, min_samples_leaf=3, min_samples_split=4,\n",
      "                      n_estimators=90, random_state=1234)\n",
      "\n",
      "best parameter: \n",
      "{'n_estimators': 90, 'min_samples_split': 4, 'min_samples_leaf': 3, 'max_depth': 10}\n",
      "\n",
      "best score: \n",
      "0.932\n"
     ]
    }
   ],
   "source": [
    "estimator = RandomForestRegressor(random_state = 1234)\n",
    "\n",
    "# 구하고자 하는 파라미터와 범위\n",
    "param_grid = {'n_estimators': para_n_tree, 'max_depth': para_depth,\n",
    "             'min_samples_split': para_split, 'min_samples_leaf': para_leaf}\n",
    "\n",
    "# 설명력이 높은 최적 파라미터 찾기\n",
    "random_tire = RandomizedSearchCV(estimator, param_grid, scoring = 'r2', n_jobs= -1)\n",
    "random_tire.fit(tire_train_x, tire_train_y)\n",
    "\n",
    "print('best estimator model: \\n{}'.format(random_tire.best_estimator_))\n",
    "print('\\nbest parameter: \\n{}'.format(random_tire.best_params_))\n",
    "print('\\nbest score: \\n{}'.format(random_tire.best_score_.round(3)))"
   ]
  },
  {
   "cell_type": "code",
   "execution_count": 43,
   "id": "d5d14f6e",
   "metadata": {},
   "outputs": [
    {
     "data": {
      "text/plain": [
       "0.9450294135226674"
      ]
     },
     "execution_count": 43,
     "metadata": {},
     "output_type": "execute_result"
    }
   ],
   "source": [
    "random_tire.score(tire_train_x, tire_train_y)"
   ]
  },
  {
   "cell_type": "code",
   "execution_count": 44,
   "id": "31ec7085",
   "metadata": {},
   "outputs": [
    {
     "data": {
      "text/plain": [
       "0.934978475780297"
      ]
     },
     "execution_count": 44,
     "metadata": {},
     "output_type": "execute_result"
    }
   ],
   "source": [
    "random_tire.score(tire_test_x, tire_test_y)"
   ]
  },
  {
   "cell_type": "code",
   "execution_count": null,
   "id": "e28c763a",
   "metadata": {},
   "outputs": [],
   "source": []
  }
 ],
 "metadata": {
  "kernelspec": {
   "display_name": "Python 3 (ipykernel)",
   "language": "python",
   "name": "python3"
  },
  "language_info": {
   "codemirror_mode": {
    "name": "ipython",
    "version": 3
   },
   "file_extension": ".py",
   "mimetype": "text/x-python",
   "name": "python",
   "nbconvert_exporter": "python",
   "pygments_lexer": "ipython3",
   "version": "3.9.7"
  }
 },
 "nbformat": 4,
 "nbformat_minor": 5
}
