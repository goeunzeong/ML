{
 "cells": [
  {
   "cell_type": "code",
   "execution_count": 1,
   "id": "b50b88c2",
   "metadata": {},
   "outputs": [],
   "source": [
    "import pandas as pd \n",
    "import numpy as np \n",
    "import matplotlib as mpl\n",
    "import matplotlib.pyplot as plt\n",
    "mpl.rc('font', family = 'Malgun Gothic')\n",
    "plt.rcParams['axes.unicode_minus'] = False\n",
    "plt.rcParams['font.family'] = 'Malgun Gothic'\n",
    "import seaborn as sns\n",
    "import scipy.stats as stats"
   ]
  },
  {
   "cell_type": "code",
   "execution_count": 2,
   "id": "5904fcba",
   "metadata": {},
   "outputs": [],
   "source": [
    "from sklearn.model_selection import train_test_split\n",
    "\n",
    "from sklearn.linear_model import LogisticRegression\n",
    "\n",
    "from sklearn.tree import DecisionTreeClassifier\n",
    "from sklearn.ensemble import RandomForestClassifier\n",
    "from sklearn.ensemble import GradientBoostingClassifier\n",
    "\n",
    "from sklearn.model_selection import GridSearchCV\n",
    "from sklearn.model_selection import RandomizedSearchCV\n",
    "\n",
    "from sklearn.metrics import accuracy_score\n",
    "from sklearn.metrics import classification_report"
   ]
  },
  {
   "cell_type": "code",
   "execution_count": 3,
   "id": "e040f66d",
   "metadata": {},
   "outputs": [
    {
     "name": "stdout",
     "output_type": "stream",
     "text": [
      "학습용 데이터의 크기: (2998, 19)\n",
      "평가용 데이터의 크기: (750, 19)\n"
     ]
    },
    {
     "name": "stderr",
     "output_type": "stream",
     "text": [
      "C:\\Users\\User\\AppData\\Local\\Temp/ipykernel_24652/1690711287.py:3: FutureWarning: Dropping of nuisance columns in DataFrame reductions (with 'numeric_only=None') is deprecated; in a future version this will raise TypeError.  Select only valid columns before calling the reduction.\n",
      "  df_raw.fillna(df_raw.mean(), inplace = True)\n"
     ]
    }
   ],
   "source": [
    "df_raw = pd.read_csv('data/bank.csv')\n",
    "df_raw['JOB'].fillna('Other', inplace = True)\n",
    "df_raw.fillna(df_raw.mean(), inplace = True)\n",
    "\n",
    "df_raw_dummy = pd.get_dummies(df_raw)\n",
    "\n",
    "df_train, df_test = train_test_split(df_raw_dummy, test_size= 0.2, random_state=1234)\n",
    "print('학습용 데이터의 크기: {}'.format(df_train.shape))\n",
    "print('평가용 데이터의 크기: {}'.format(df_test.shape))\n",
    "\n",
    "df_train_y = df_train['BAD']\n",
    "df_train_x = df_train.drop(columns = 'BAD', inplace = False)\n",
    "df_test_y = df_test['BAD']\n",
    "df_test_x = df_test.drop(columns = 'BAD', inplace = False)"
   ]
  },
  {
   "cell_type": "code",
   "execution_count": null,
   "id": "60e03328",
   "metadata": {},
   "outputs": [],
   "source": []
  },
  {
   "cell_type": "code",
   "execution_count": 5,
   "id": "7d6dc9bf",
   "metadata": {},
   "outputs": [
    {
     "name": "stdout",
     "output_type": "stream",
     "text": [
      "의사결정나무의 정확도: 0.932\n",
      "랜덤포레스트의 정확도: 0.949\n",
      "그래디언트부스팅의 정확도: 0.941\n"
     ]
    }
   ],
   "source": [
    "# 개별 모델 생성\n",
    "\n",
    "dt_model = DecisionTreeClassifier(max_depth = 6, random_state = 1234)\n",
    "rf_model = RandomForestClassifier(n_estimators=100, random_state=1234)\n",
    "gb_model = GradientBoostingClassifier(n_estimators=100, random_state=1234)\n",
    "\n",
    "dt_model.fit(df_train_x, df_train_y)\n",
    "rf_model.fit(df_train_x, df_train_y)\n",
    "gb_model.fit(df_train_x, df_train_y)\n",
    "\n",
    "dt_pred = dt_model.predict(df_test_x)\n",
    "rf_pred = rf_model.predict(df_test_x)\n",
    "gb_pred = gb_model.predict(df_test_x)\n",
    "\n",
    "\n",
    "print('의사결정나무의 정확도: {:.3f}'.format(accuracy_score(df_test_y, dt_pred)))\n",
    "print('랜덤포레스트의 정확도: {:.3f}'.format(accuracy_score(df_test_y, rf_pred)))\n",
    "print('그래디언트부스팅의 정확도: {:.3f}'.format(accuracy_score(df_test_y, gb_pred)))\n",
    "\n",
    "\n"
   ]
  },
  {
   "cell_type": "code",
   "execution_count": 9,
   "id": "6db23b1a",
   "metadata": {},
   "outputs": [
    {
     "name": "stdout",
     "output_type": "stream",
     "text": [
      "(3, 750)\n"
     ]
    }
   ],
   "source": [
    "# 최종 데이터셋 구성\n",
    "\n",
    "pred = np.array([dt_pred, rf_pred, gb_pred])\n",
    "print(pred.shape)"
   ]
  },
  {
   "cell_type": "code",
   "execution_count": 10,
   "id": "24cc94d6",
   "metadata": {},
   "outputs": [
    {
     "name": "stdout",
     "output_type": "stream",
     "text": [
      "(750, 3)\n"
     ]
    }
   ],
   "source": [
    "pred = np.transpose(pred)\n",
    "print(pred.shape)"
   ]
  },
  {
   "cell_type": "code",
   "execution_count": 12,
   "id": "ef20085f",
   "metadata": {},
   "outputs": [
    {
     "name": "stdout",
     "output_type": "stream",
     "text": [
      "최종정확도: 0.951\n",
      "              precision    recall  f1-score   support\n",
      "\n",
      "           0       0.95      1.00      0.97       684\n",
      "           1       1.00      0.44      0.61        66\n",
      "\n",
      "    accuracy                           0.95       750\n",
      "   macro avg       0.97      0.72      0.79       750\n",
      "weighted avg       0.95      0.95      0.94       750\n",
      "\n"
     ]
    }
   ],
   "source": [
    "# 최종 모델\n",
    "\n",
    "log_model = LogisticRegression(C = 10)\n",
    "log_model.fit(pred, df_test_y)\n",
    "final = log_model.predict(pred)\n",
    "\n",
    "print('최종정확도: {:.3f}'.format(accuracy_score(df_test_y, final)))\n",
    "print(classification_report(df_test_y, final))"
   ]
  },
  {
   "cell_type": "code",
   "execution_count": 16,
   "id": "54ee4f47",
   "metadata": {},
   "outputs": [],
   "source": [
    "from xgboost import XGBClassifier\n",
    "\n",
    "from lightgbm import LGBMClassifier"
   ]
  },
  {
   "cell_type": "markdown",
   "id": "fc6046c7",
   "metadata": {},
   "source": [
    "#1"
   ]
  },
  {
   "cell_type": "code",
   "execution_count": 19,
   "id": "406cd390",
   "metadata": {},
   "outputs": [
    {
     "name": "stderr",
     "output_type": "stream",
     "text": [
      "C:\\Users\\User\\anaconda3\\lib\\site-packages\\xgboost\\sklearn.py:1224: UserWarning: The use of label encoder in XGBClassifier is deprecated and will be removed in a future release. To remove this warning, do the following: 1) Pass option use_label_encoder=False when constructing XGBClassifier object; and 2) Encode your labels (y) as integers starting with 0, i.e. 0, 1, 2, ..., [num_class - 1].\n",
      "  warnings.warn(label_encoder_deprecation_msg, UserWarning)\n"
     ]
    },
    {
     "name": "stdout",
     "output_type": "stream",
     "text": [
      "[13:32:24] WARNING: C:/Users/Administrator/workspace/xgboost-win64_release_1.5.1/src/learner.cc:1115: Starting in XGBoost 1.3.0, the default evaluation metric used with the objective 'binary:logistic' was changed from 'error' to 'logloss'. Explicitly set eval_metric if you'd like to restore the old behavior.\n",
      "Light GBM의 정확도: 0.953\n",
      "XGBoosting의 정확도: 0.953\n",
      "그래디언트부스팅의 정확도: 0.941\n"
     ]
    }
   ],
   "source": [
    "# 개별 모델 생성\n",
    "\n",
    "\n",
    "gb_model = GradientBoostingClassifier(n_estimators=100, random_state=1234)\n",
    "xgb_model = XGBClassifier(learning_rate = 0.3, booster = 'gbtree', max_depth = 5, n_estimators = 150, gamma = 0,\n",
    "                          objective = 'binary:logistic', random_state = 1234)\n",
    "lgbm_model = LGBMClassifier(learning_rate=0.3, max_depth=9, num_leaves = 33, random_state=1234)\n",
    "\n",
    "lgbm_model.fit(df_train_x, df_train_y)\n",
    "xgb_model.fit(df_train_x, df_train_y)\n",
    "gb_model.fit(df_train_x, df_train_y)\n",
    "\n",
    "lgbm_pred = lgbm_model.predict(df_test_x)\n",
    "xgb_pred = xgb_model.predict(df_test_x)\n",
    "gb_pred = gb_model.predict(df_test_x)\n",
    "\n",
    "\n",
    "print('Light GBM의 정확도: {:.3f}'.format(accuracy_score(df_test_y, lgbm_pred)))\n",
    "print('XGBoosting의 정확도: {:.3f}'.format(accuracy_score(df_test_y, xgb_pred)))\n",
    "print('그래디언트부스팅의 정확도: {:.3f}'.format(accuracy_score(df_test_y, gb_pred)))"
   ]
  },
  {
   "cell_type": "code",
   "execution_count": 26,
   "id": "e02eac20",
   "metadata": {},
   "outputs": [],
   "source": [
    "pred = np.array([lgbm_pred, xgb_pred, gb_pred])"
   ]
  },
  {
   "cell_type": "code",
   "execution_count": 27,
   "id": "176a7814",
   "metadata": {},
   "outputs": [
    {
     "data": {
      "text/plain": [
       "(3, 750)"
      ]
     },
     "execution_count": 27,
     "metadata": {},
     "output_type": "execute_result"
    }
   ],
   "source": [
    "pred.shape"
   ]
  },
  {
   "cell_type": "code",
   "execution_count": 28,
   "id": "7eb96829",
   "metadata": {},
   "outputs": [],
   "source": [
    "pred = np.transpose(pred)"
   ]
  },
  {
   "cell_type": "code",
   "execution_count": 29,
   "id": "730acd1a",
   "metadata": {},
   "outputs": [
    {
     "data": {
      "text/plain": [
       "(750, 3)"
      ]
     },
     "execution_count": 29,
     "metadata": {},
     "output_type": "execute_result"
    }
   ],
   "source": [
    "pred.shape"
   ]
  },
  {
   "cell_type": "code",
   "execution_count": 34,
   "id": "fc56871d",
   "metadata": {},
   "outputs": [
    {
     "name": "stdout",
     "output_type": "stream",
     "text": [
      "              precision    recall  f1-score   support\n",
      "\n",
      "           0       0.96      1.00      0.98       684\n",
      "           1       0.93      0.56      0.70        66\n",
      "\n",
      "    accuracy                           0.96       750\n",
      "   macro avg       0.94      0.78      0.84       750\n",
      "weighted avg       0.96      0.96      0.95       750\n",
      "\n"
     ]
    }
   ],
   "source": [
    "model = LogisticRegression(C = 10)\n",
    "model.fit(pred, df_test_y)\n",
    "final = model.predict(pred)\n",
    "print(classification_report(df_test_y, final))"
   ]
  },
  {
   "cell_type": "markdown",
   "id": "eb9c2f36",
   "metadata": {},
   "source": [
    "#2"
   ]
  },
  {
   "cell_type": "code",
   "execution_count": 35,
   "id": "36705aa4",
   "metadata": {},
   "outputs": [
    {
     "name": "stderr",
     "output_type": "stream",
     "text": [
      "C:\\Users\\User\\anaconda3\\lib\\site-packages\\xgboost\\sklearn.py:1224: UserWarning: The use of label encoder in XGBClassifier is deprecated and will be removed in a future release. To remove this warning, do the following: 1) Pass option use_label_encoder=False when constructing XGBClassifier object; and 2) Encode your labels (y) as integers starting with 0, i.e. 0, 1, 2, ..., [num_class - 1].\n",
      "  warnings.warn(label_encoder_deprecation_msg, UserWarning)\n"
     ]
    },
    {
     "name": "stdout",
     "output_type": "stream",
     "text": [
      "[13:39:33] WARNING: C:/Users/Administrator/workspace/xgboost-win64_release_1.5.1/src/learner.cc:1115: Starting in XGBoost 1.3.0, the default evaluation metric used with the objective 'binary:logistic' was changed from 'error' to 'logloss'. Explicitly set eval_metric if you'd like to restore the old behavior.\n"
     ]
    }
   ],
   "source": [
    "# 개별 모델 생성\n",
    "\n",
    "gb_model = GradientBoostingClassifier(n_estimators=100, random_state=1234)\n",
    "xgb_model = XGBClassifier(learning_rate = 0.3, booster = 'gbtree', max_depth = 5, n_estimators = 150, gamma = 0,\n",
    "                          objective = 'binary:logistic', random_state = 1234)\n",
    "lgbm_model = LGBMClassifier(learning_rate=0.3, max_depth=9, num_leaves = 33, random_state=1234)\n",
    "\n",
    "lgbm_model.fit(df_train_x, df_train_y)\n",
    "xgb_model.fit(df_train_x, df_train_y)\n",
    "gb_model.fit(df_train_x, df_train_y)\n",
    "\n",
    "lgbm_pred = lgbm_model.predict(df_train_x)\n",
    "xgb_pred = xgb_model.predict(df_train_x)\n",
    "gb_pred = gb_model.predict(df_train_x)\n",
    "\n",
    "\n",
    "# print('Light GBM의 정확도: {:.3f}'.format(accuracy_score(df_test_y, lgbm_pred)))\n",
    "# print('XGBoosting의 정확도: {:.3f}'.format(accuracy_score(df_test_y, xgb_pred)))\n",
    "# print('그래디언트부스팅의 정확도: {:.3f}'.format(accuracy_score(df_test_y, gb_pred)))"
   ]
  },
  {
   "cell_type": "code",
   "execution_count": 44,
   "id": "e64082d8",
   "metadata": {},
   "outputs": [],
   "source": [
    "pred = np.array([lgbm_pred, xgb_pred, gb_pred])"
   ]
  },
  {
   "cell_type": "code",
   "execution_count": 45,
   "id": "77bf789b",
   "metadata": {},
   "outputs": [
    {
     "data": {
      "text/plain": [
       "(3, 2998)"
      ]
     },
     "execution_count": 45,
     "metadata": {},
     "output_type": "execute_result"
    }
   ],
   "source": [
    "pred.shape"
   ]
  },
  {
   "cell_type": "code",
   "execution_count": 46,
   "id": "017e9dac",
   "metadata": {},
   "outputs": [
    {
     "data": {
      "text/plain": [
       "(2998, 3)"
      ]
     },
     "execution_count": 46,
     "metadata": {},
     "output_type": "execute_result"
    }
   ],
   "source": [
    "pred = np.transpose(pred)\n",
    "pred.shape"
   ]
  },
  {
   "cell_type": "code",
   "execution_count": 41,
   "id": "1197a30b",
   "metadata": {},
   "outputs": [
    {
     "data": {
      "text/plain": [
       "(2998,)"
      ]
     },
     "execution_count": 41,
     "metadata": {},
     "output_type": "execute_result"
    }
   ],
   "source": [
    "df_train_y.shape"
   ]
  },
  {
   "cell_type": "code",
   "execution_count": 43,
   "id": "ab344e7b",
   "metadata": {},
   "outputs": [
    {
     "data": {
      "text/plain": [
       "(750, 18)"
      ]
     },
     "execution_count": 43,
     "metadata": {},
     "output_type": "execute_result"
    }
   ],
   "source": [
    "df_test_x.shape"
   ]
  },
  {
   "cell_type": "code",
   "execution_count": 49,
   "id": "cfcfd33e",
   "metadata": {},
   "outputs": [
    {
     "name": "stdout",
     "output_type": "stream",
     "text": [
      "              precision    recall  f1-score   support\n",
      "\n",
      "           0       1.00      1.00      1.00      2719\n",
      "           1       1.00      1.00      1.00       279\n",
      "\n",
      "    accuracy                           1.00      2998\n",
      "   macro avg       1.00      1.00      1.00      2998\n",
      "weighted avg       1.00      1.00      1.00      2998\n",
      "\n"
     ]
    }
   ],
   "source": [
    "model = LogisticRegression(C = 10)\n",
    "model.fit(pred, df_train_y)\n",
    "final = model.predict(pred)\n",
    "print(classification_report(df_train_y, final))"
   ]
  },
  {
   "cell_type": "code",
   "execution_count": null,
   "id": "e5a4c44a",
   "metadata": {},
   "outputs": [],
   "source": []
  }
 ],
 "metadata": {
  "kernelspec": {
   "display_name": "Python 3 (ipykernel)",
   "language": "python",
   "name": "python3"
  },
  "language_info": {
   "codemirror_mode": {
    "name": "ipython",
    "version": 3
   },
   "file_extension": ".py",
   "mimetype": "text/x-python",
   "name": "python",
   "nbconvert_exporter": "python",
   "pygments_lexer": "ipython3",
   "version": "3.8.12"
  }
 },
 "nbformat": 4,
 "nbformat_minor": 5
}
