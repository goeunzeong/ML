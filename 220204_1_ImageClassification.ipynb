{
 "cells": [
  {
   "cell_type": "code",
   "execution_count": 2,
   "id": "5671dc3c",
   "metadata": {},
   "outputs": [],
   "source": [
    "import pandas as pd \n",
    "import numpy as np \n",
    "import matplotlib as mpl\n",
    "import matplotlib.pyplot as plt\n",
    "mpl.rc('font', family = 'Malgun Gothic')\n",
    "plt.rcParams['axes.unicode_minus'] = False\n",
    "plt.rcParams['font.family'] = 'Malgun Gothic'\n",
    "import seaborn as sns\n",
    "import scipy.stats as stats"
   ]
  },
  {
   "cell_type": "code",
   "execution_count": 3,
   "id": "2d1297df",
   "metadata": {},
   "outputs": [],
   "source": [
    "from sklearn.model_selection import train_test_split\n",
    "# 분류 기법\n",
    "from sklearn.linear_model import LogisticRegression\n",
    "from sklearn.tree import DecisionTreeClassifier\n",
    "from sklearn.ensemble import RandomForestClassifier\n",
    "from sklearn.ensemble import GradientBoostingClassifier\n",
    "from xgboost import XGBClassifier\n",
    "from sklearn.svm import SVC\n",
    "\n",
    "from sklearn.preprocessing import StandardScaler\n",
    "from sklearn.model_selection import GridSearchCV\n",
    "\n",
    "from sklearn.metrics import accuracy_score\n",
    "from sklearn.metrics import confusion_matrix, classification_report, f1_score, roc_curve, auc"
   ]
  },
  {
   "cell_type": "markdown",
   "id": "d63e1c69",
   "metadata": {},
   "source": [
    "### 데이터 사전 다운로드"
   ]
  },
  {
   "cell_type": "code",
   "execution_count": 5,
   "id": "a920ec12",
   "metadata": {},
   "outputs": [],
   "source": [
    "from tensorflow.keras.datasets import mnist"
   ]
  },
  {
   "cell_type": "code",
   "execution_count": 6,
   "id": "9130d16b",
   "metadata": {},
   "outputs": [
    {
     "name": "stdout",
     "output_type": "stream",
     "text": [
      "Downloading data from https://storage.googleapis.com/tensorflow/tf-keras-datasets/mnist.npz\n",
      "11493376/11490434 [==============================] - 1s 0us/step\n",
      "11501568/11490434 [==============================] - 1s 0us/step\n"
     ]
    }
   ],
   "source": [
    "(x_train, y_train), (x_test, y_test) = mnist.load_data()"
   ]
  },
  {
   "cell_type": "code",
   "execution_count": null,
   "id": "041d8b71",
   "metadata": {},
   "outputs": [],
   "source": []
  },
  {
   "cell_type": "code",
   "execution_count": 9,
   "id": "dadd71f6",
   "metadata": {},
   "outputs": [
    {
     "name": "stdout",
     "output_type": "stream",
     "text": [
      "X_train_shape:  (60000, 28, 28)\n",
      "Y_train_shape:  (60000,)\n",
      "X_test_shape:  (10000, 28, 28)\n",
      "Y_test_shape:  (10000,)\n"
     ]
    },
    {
     "data": {
      "image/png": "[encoded data removed]",
      "text/plain": [
       "<Figure size 720x360 with 5 Axes>"
      ]
     },
     "metadata": {
      "needs_background": "light"
     },
     "output_type": "display_data"
    }
   ],
   "source": [
    "\n",
    "# 데이터 형태\n",
    "print('X_train_shape: ', x_train.shape)\n",
    "print('Y_train_shape: ', y_train.shape)\n",
    "\n",
    "print('X_test_shape: ', x_test.shape)\n",
    "print('Y_test_shape: ', y_test.shape)\n",
    "\n",
    "# 데이터 표시\n",
    "plt.figure(figsize = (10, 5))\n",
    "for i in range(5):\n",
    "    plt.subplot(1, 5, i+1)\n",
    "    plt.imshow(x_train[i].reshape(28, 28))\n",
    "    \n",
    "plt.show()"
   ]
  },
  {
   "cell_type": "code",
   "execution_count": 13,
   "id": "8431c0f8",
   "metadata": {},
   "outputs": [
    {
     "name": "stdout",
     "output_type": "stream",
     "text": [
      "x_train_shape: (60000, 784)\n",
      "x_test_shape: (10000, 784)\n",
      "y_train_shape: (60000,)\n",
      "y_test_shape: (10000,)\n"
     ]
    }
   ],
   "source": [
    "# 정규화 및 차원 축소\n",
    "\n",
    "x_train = x_train / 255.0\n",
    "x_test = x_test / 255\n",
    "\n",
    "input_shape = x_train.shape[1]*x_train.shape[2] # 이때, x_train.shape = (60000, 28, 28)\n",
    "\n",
    "x_train = x_train.reshape(-1, input_shape)\n",
    "x_test = x_test.reshape(-1, input_shape)\n",
    "\n",
    "print('x_train_shape:', x_train.shape)\n",
    "print('x_test_shape:', x_test.shape)\n",
    "\n",
    "print('y_train_shape:', y_train.shape)\n",
    "print('y_test_shape:', y_test.shape)"
   ]
  },
  {
   "cell_type": "code",
   "execution_count": null,
   "id": "919abf8f",
   "metadata": {},
   "outputs": [],
   "source": [
    "# 데이터 저장하기\n",
    "np.save('data/X_train', x_train)\n",
    "np.save('data/X_test', x_test)\n",
    "np.save('data/Y_train', y_train)\n",
    "np.save('data/Y_test', y_test)"
   ]
  },
  {
   "cell_type": "markdown",
   "id": "1966dcf0",
   "metadata": {},
   "source": [
    "### 데이터 불러오기"
   ]
  },
  {
   "cell_type": "code",
   "execution_count": 4,
   "id": "857ae251",
   "metadata": {},
   "outputs": [
    {
     "name": "stdout",
     "output_type": "stream",
     "text": [
      "x_train_shape: (60000, 784)\n",
      "x_test_shape: (10000, 784)\n",
      "y_train_shape: (60000,)\n",
      "y_test_shape: (10000,)\n"
     ]
    }
   ],
   "source": [
    "x_train = np.load('data/X_train.npy')\n",
    "x_test = np.load('data/X_test.npy')\n",
    "y_train = np.load('data/Y_train.npy')\n",
    "y_test = np.load('data/Y_test.npy')\n",
    "\n",
    "print('x_train_shape:', x_train.shape)\n",
    "print('x_test_shape:', x_test.shape)\n",
    "print('y_train_shape:', y_train.shape)\n",
    "print('y_test_shape:', y_test.shape)"
   ]
  },
  {
   "cell_type": "code",
   "execution_count": 5,
   "id": "3469ac64",
   "metadata": {},
   "outputs": [
    {
     "data": {
      "image/png": "[encoded data removed]",
      "text/plain": [
       "<Figure size 720x360 with 5 Axes>"
      ]
     },
     "metadata": {
      "needs_background": "light"
     },
     "output_type": "display_data"
    }
   ],
   "source": [
    "# 이미지 표시하기\n",
    "\n",
    "x_train_image = x_train.reshape(60000, 28, 28)\n",
    "\n",
    "plt.figure(figsize = (10, 5))\n",
    "for i in range(5):\n",
    "    plt.subplot(1, 5, i+1)\n",
    "    plt.imshow(x_train_image[i].reshape(28, 28)) # 이미 28*28인데 reshape 또 해주는 이유?\n",
    "plt.show()"
   ]
  },
  {
   "cell_type": "markdown",
   "id": "66b664ed",
   "metadata": {},
   "source": [
    "### 로지스틱 회귀분석"
   ]
  },
  {
   "cell_type": "code",
   "execution_count": 6,
   "id": "bc7e285f",
   "metadata": {},
   "outputs": [
    {
     "name": "stdout",
     "output_type": "stream",
     "text": [
      "학습용 데이터의 정확도:  0.9350666666666667\n",
      "평가용 데이터의 정확도:  0.9258\n"
     ]
    },
    {
     "name": "stderr",
     "output_type": "stream",
     "text": [
      "C:\\Users\\User\\anaconda3\\lib\\site-packages\\sklearn\\linear_model\\_logistic.py:763: ConvergenceWarning: lbfgs failed to converge (status=1):\n",
      "STOP: TOTAL NO. of ITERATIONS REACHED LIMIT.\n",
      "\n",
      "Increase the number of iterations (max_iter) or scale the data as shown in:\n",
      "    https://scikit-learn.org/stable/modules/preprocessing.html\n",
      "Please also refer to the documentation for alternative solver options:\n",
      "    https://scikit-learn.org/stable/modules/linear_model.html#logistic-regression\n",
      "  n_iter_i = _check_optimize_result(\n"
     ]
    }
   ],
   "source": [
    "log_reg = LogisticRegression(random_state=0)\n",
    "log_reg.fit(x_train, y_train)\n",
    "\n",
    "print('학습용 데이터의 정확도: ', log_reg.score(x_train, y_train))\n",
    "print('평가용 데이터의 정확도: ', log_reg.score(x_test, y_test))"
   ]
  },
  {
   "cell_type": "code",
   "execution_count": 7,
   "id": "3cc717cd",
   "metadata": {},
   "outputs": [
    {
     "name": "stdout",
     "output_type": "stream",
     "text": [
      "학습용 데이터의 혼동행렬:\n",
      " [[5768    1   13    8   13   40   33    8   35    4]\n",
      " [   1 6581   29   19    6   26    3   13   54   10]\n",
      " [  25   50 5444   91   62   24   59   57  122   24]\n",
      " [  17   24  118 5558    7  184   16   48  116   43]\n",
      " [  11   24   24    9 5506    7   49   19   34  159]\n",
      " [  48   19   38  146   45 4883   75   18  112   37]\n",
      " [  27   13   38    1   35   65 5710    5   21    3]\n",
      " [   8   20   62   23   41   10    4 5917   16  164]\n",
      " [  26   96   56  130   24  134   37   17 5276   55]\n",
      " [  21   26   14   67  130   33    3  149   45 5461]]\n",
      "평가용 데이터의 정확도:\n",
      " [[ 959    0    0    3    1    7    5    4    1    0]\n",
      " [   0 1111    4    2    0    2    3    2   11    0]\n",
      " [   6    9  926   16    9    4   13    6   39    4]\n",
      " [   4    1   18  917    1   22    4   11   25    7]\n",
      " [   1    1    7    3  914    0   10    4   10   32]\n",
      " [  10    2    3   34    7  783   14    6   29    4]\n",
      " [   9    3    8    2    7   14  912    2    1    0]\n",
      " [   1    8   24    5    7    1    0  950    3   29]\n",
      " [   9   11    8   23    7   25   12    7  861   11]\n",
      " [   9    8    0   11   24    6    0   19    7  925]]\n"
     ]
    }
   ],
   "source": [
    "train_pred = log_reg.predict(x_train)\n",
    "test_pred = log_reg.predict(x_test)\n",
    "print('학습용 데이터의 혼동행렬:\\n', confusion_matrix(y_train, train_pred))\n",
    "print('평가용 데이터의 정확도:\\n', confusion_matrix(y_test, test_pred))"
   ]
  },
  {
   "cell_type": "code",
   "execution_count": 8,
   "id": "ca92ac89",
   "metadata": {},
   "outputs": [
    {
     "name": "stdout",
     "output_type": "stream",
     "text": [
      "학습용 데이터 \n",
      "               precision    recall  f1-score   support\n",
      "\n",
      "           0       0.97      0.97      0.97      5923\n",
      "           1       0.96      0.98      0.97      6742\n",
      "           2       0.93      0.91      0.92      5958\n",
      "           3       0.92      0.91      0.91      6131\n",
      "           4       0.94      0.94      0.94      5842\n",
      "           5       0.90      0.90      0.90      5421\n",
      "           6       0.95      0.96      0.96      5918\n",
      "           7       0.95      0.94      0.95      6265\n",
      "           8       0.90      0.90      0.90      5851\n",
      "           9       0.92      0.92      0.92      5949\n",
      "\n",
      "    accuracy                           0.94     60000\n",
      "   macro avg       0.93      0.93      0.93     60000\n",
      "weighted avg       0.93      0.94      0.93     60000\n",
      "\n",
      "평가용 데이터 \n",
      "               precision    recall  f1-score   support\n",
      "\n",
      "           0       0.95      0.98      0.96       980\n",
      "           1       0.96      0.98      0.97      1135\n",
      "           2       0.93      0.90      0.91      1032\n",
      "           3       0.90      0.91      0.91      1010\n",
      "           4       0.94      0.93      0.93       982\n",
      "           5       0.91      0.88      0.89       892\n",
      "           6       0.94      0.95      0.94       958\n",
      "           7       0.94      0.92      0.93      1028\n",
      "           8       0.87      0.88      0.88       974\n",
      "           9       0.91      0.92      0.92      1009\n",
      "\n",
      "    accuracy                           0.93     10000\n",
      "   macro avg       0.92      0.92      0.92     10000\n",
      "weighted avg       0.93      0.93      0.93     10000\n",
      "\n"
     ]
    }
   ],
   "source": [
    "print('학습용 데이터 \\n', classification_report(y_train, train_pred))\n",
    "print('평가용 데이터 \\n', classification_report(y_test, test_pred))"
   ]
  },
  {
   "cell_type": "markdown",
   "id": "86238435",
   "metadata": {},
   "source": [
    "### 의사결정나무"
   ]
  },
  {
   "cell_type": "code",
   "execution_count": 24,
   "id": "76c79b92",
   "metadata": {},
   "outputs": [
    {
     "name": "stdout",
     "output_type": "stream",
     "text": [
      "학습용 데이터의 정확도:  1.0\n",
      "평가용 데이터의 정확도:  0.8772\n"
     ]
    }
   ],
   "source": [
    "tree_uncustomized = DecisionTreeClassifier(random_state=1234)\n",
    "tree_uncustomized.fit(x_train, y_train)\n",
    "\n",
    "print('학습용 데이터의 정확도: ', tree_uncustomized.score(x_train, y_train))\n",
    "print('평가용 데이터의 정확도: ', tree_uncustomized.score(x_test, y_test))"
   ]
  },
  {
   "cell_type": "markdown",
   "id": "c63b1d07",
   "metadata": {},
   "source": [
    "###### depth 결정"
   ]
  },
  {
   "cell_type": "code",
   "execution_count": 22,
   "id": "30d9ee1a",
   "metadata": {},
   "outputs": [
    {
     "data": {
      "text/html": [
       "<div>\n",
       "<style scoped>\n",
       "    .dataframe tbody tr th:only-of-type {\n",
       "        vertical-align: middle;\n",
       "    }\n",
       "\n",
       "    .dataframe tbody tr th {\n",
       "        vertical-align: top;\n",
       "    }\n",
       "\n",
       "    .dataframe thead th {\n",
       "        text-align: right;\n",
       "    }\n",
       "</style>\n",
       "<table border=\"1\" class=\"dataframe\">\n",
       "  <thead>\n",
       "    <tr style=\"text-align: right;\">\n",
       "      <th></th>\n",
       "      <th>MaxDepth</th>\n",
       "      <th>TrainAcc</th>\n",
       "      <th>TestAcc</th>\n",
       "      <th>TrainF1</th>\n",
       "      <th>TestF1</th>\n",
       "    </tr>\n",
       "  </thead>\n",
       "  <tbody>\n",
       "    <tr>\n",
       "      <th>0</th>\n",
       "      <td>9</td>\n",
       "      <td>0.867</td>\n",
       "      <td>0.850</td>\n",
       "      <td>[0.9301811378518582, 0.9421728971962617, 0.857...</td>\n",
       "      <td>[0.9164989939637826, 0.944636678200692, 0.841,...</td>\n",
       "    </tr>\n",
       "    <tr>\n",
       "      <th>1</th>\n",
       "      <td>10</td>\n",
       "      <td>0.900</td>\n",
       "      <td>0.866</td>\n",
       "      <td>[0.9436477138518644, 0.960053361002001, 0.9000...</td>\n",
       "      <td>[0.9209864116758933, 0.9530495831505046, 0.848...</td>\n",
       "    </tr>\n",
       "    <tr>\n",
       "      <th>2</th>\n",
       "      <td>11</td>\n",
       "      <td>0.928</td>\n",
       "      <td>0.874</td>\n",
       "      <td>[0.9613668883090649, 0.9665711556829036, 0.925...</td>\n",
       "      <td>[0.9254783484390735, 0.951718138321009, 0.8589...</td>\n",
       "    </tr>\n",
       "    <tr>\n",
       "      <th>3</th>\n",
       "      <td>12</td>\n",
       "      <td>0.949</td>\n",
       "      <td>0.879</td>\n",
       "      <td>[0.9770838579702846, 0.9782608695652174, 0.948...</td>\n",
       "      <td>[0.9342770475227503, 0.9591926283457657, 0.861...</td>\n",
       "    </tr>\n",
       "    <tr>\n",
       "      <th>4</th>\n",
       "      <td>13</td>\n",
       "      <td>0.965</td>\n",
       "      <td>0.879</td>\n",
       "      <td>[0.983804648821012, 0.9825259898252598, 0.9636...</td>\n",
       "      <td>[0.9247743229689067, 0.9597550306211724, 0.864...</td>\n",
       "    </tr>\n",
       "    <tr>\n",
       "      <th>5</th>\n",
       "      <td>14</td>\n",
       "      <td>0.977</td>\n",
       "      <td>0.881</td>\n",
       "      <td>[0.989978947368421, 0.9863033873343152, 0.9781...</td>\n",
       "      <td>[0.9254783484390735, 0.9585333915320821, 0.861...</td>\n",
       "    </tr>\n",
       "    <tr>\n",
       "      <th>6</th>\n",
       "      <td>15</td>\n",
       "      <td>0.984</td>\n",
       "      <td>0.883</td>\n",
       "      <td>[0.9915966386554621, 0.9910641754670998, 0.984...</td>\n",
       "      <td>[0.9303030303030304, 0.9610843900306079, 0.867...</td>\n",
       "    </tr>\n",
       "    <tr>\n",
       "      <th>7</th>\n",
       "      <td>16</td>\n",
       "      <td>0.988</td>\n",
       "      <td>0.881</td>\n",
       "      <td>[0.9937001259974801, 0.992609016999261, 0.9884...</td>\n",
       "      <td>[0.9220713926596279, 0.9614035087719298, 0.862...</td>\n",
       "    </tr>\n",
       "    <tr>\n",
       "      <th>8</th>\n",
       "      <td>17</td>\n",
       "      <td>0.991</td>\n",
       "      <td>0.879</td>\n",
       "      <td>[0.9952072647776004, 0.9940837154267119, 0.991...</td>\n",
       "      <td>[0.9288956127080182, 0.9600351339481774, 0.868...</td>\n",
       "    </tr>\n",
       "    <tr>\n",
       "      <th>9</th>\n",
       "      <td>18</td>\n",
       "      <td>0.993</td>\n",
       "      <td>0.880</td>\n",
       "      <td>[0.9960467659180756, 0.9946001923219172, 0.993...</td>\n",
       "      <td>[0.9198184568835098, 0.9567118495846086, 0.863...</td>\n",
       "    </tr>\n",
       "    <tr>\n",
       "      <th>10</th>\n",
       "      <td>19</td>\n",
       "      <td>0.994</td>\n",
       "      <td>0.880</td>\n",
       "      <td>[0.9973045822102427, 0.9954884993713484, 0.995...</td>\n",
       "      <td>[0.9236947791164658, 0.9567118495846086, 0.868...</td>\n",
       "    </tr>\n",
       "    <tr>\n",
       "      <th>11</th>\n",
       "      <td>20</td>\n",
       "      <td>0.995</td>\n",
       "      <td>0.882</td>\n",
       "      <td>[0.9977255496588325, 0.9958567623557265, 0.996...</td>\n",
       "      <td>[0.9287518948964124, 0.9533769063180828, 0.871...</td>\n",
       "    </tr>\n",
       "    <tr>\n",
       "      <th>12</th>\n",
       "      <td>21</td>\n",
       "      <td>0.996</td>\n",
       "      <td>0.879</td>\n",
       "      <td>[0.9978099730458221, 0.9962258565825501, 0.996...</td>\n",
       "      <td>[0.9243107769423559, 0.9569420035149385, 0.853...</td>\n",
       "    </tr>\n",
       "    <tr>\n",
       "      <th>13</th>\n",
       "      <td>22</td>\n",
       "      <td>0.996</td>\n",
       "      <td>0.880</td>\n",
       "      <td>[0.998230386786888, 0.9963733254385315, 0.9970...</td>\n",
       "      <td>[0.9251012145748988, 0.957017543859649, 0.8677...</td>\n",
       "    </tr>\n",
       "    <tr>\n",
       "      <th>14</th>\n",
       "      <td>23</td>\n",
       "      <td>0.997</td>\n",
       "      <td>0.880</td>\n",
       "      <td>[0.9984828051247472, 0.9965223825379207, 0.997...</td>\n",
       "      <td>[0.9274193548387096, 0.9567496723460026, 0.868...</td>\n",
       "    </tr>\n",
       "    <tr>\n",
       "      <th>15</th>\n",
       "      <td>24</td>\n",
       "      <td>0.997</td>\n",
       "      <td>0.879</td>\n",
       "      <td>[0.9985669729410773, 0.9967436352871522, 0.998...</td>\n",
       "      <td>[0.9223790322580645, 0.9583150504607283, 0.869...</td>\n",
       "    </tr>\n",
       "    <tr>\n",
       "      <th>16</th>\n",
       "      <td>25</td>\n",
       "      <td>0.997</td>\n",
       "      <td>0.880</td>\n",
       "      <td>[0.9986511549485754, 0.9970409823938453, 0.998...</td>\n",
       "      <td>[0.9283900457084815, 0.961335676625659, 0.8655...</td>\n",
       "    </tr>\n",
       "    <tr>\n",
       "      <th>17</th>\n",
       "      <td>26</td>\n",
       "      <td>0.998</td>\n",
       "      <td>0.877</td>\n",
       "      <td>[0.9987353511508305, 0.9973364900858241, 0.999...</td>\n",
       "      <td>[0.9262626262626263, 0.9580786026200873, 0.861...</td>\n",
       "    </tr>\n",
       "    <tr>\n",
       "      <th>18</th>\n",
       "      <td>27</td>\n",
       "      <td>0.998</td>\n",
       "      <td>0.880</td>\n",
       "      <td>[0.9988195615514334, 0.997484462858834, 0.9997...</td>\n",
       "      <td>[0.9219143576826196, 0.9557599649583881, 0.867...</td>\n",
       "    </tr>\n",
       "    <tr>\n",
       "      <th>19</th>\n",
       "      <td>28</td>\n",
       "      <td>0.998</td>\n",
       "      <td>0.882</td>\n",
       "      <td>[0.9989037861539759, 0.997558268590455, 0.9997...</td>\n",
       "      <td>[0.9251012145748988, 0.9576973397296119, 0.864...</td>\n",
       "    </tr>\n",
       "    <tr>\n",
       "      <th>20</th>\n",
       "      <td>29</td>\n",
       "      <td>0.998</td>\n",
       "      <td>0.878</td>\n",
       "      <td>[0.9990722779792528, 0.997558268590455, 0.9997...</td>\n",
       "      <td>[0.9297625063163214, 0.9577836411609498, 0.862...</td>\n",
       "    </tr>\n",
       "  </tbody>\n",
       "</table>\n",
       "</div>"
      ],
      "text/plain": [
       "    MaxDepth  TrainAcc  TestAcc  \\\n",
       "0          9     0.867    0.850   \n",
       "1         10     0.900    0.866   \n",
       "2         11     0.928    0.874   \n",
       "3         12     0.949    0.879   \n",
       "4         13     0.965    0.879   \n",
       "5         14     0.977    0.881   \n",
       "6         15     0.984    0.883   \n",
       "7         16     0.988    0.881   \n",
       "8         17     0.991    0.879   \n",
       "9         18     0.993    0.880   \n",
       "10        19     0.994    0.880   \n",
       "11        20     0.995    0.882   \n",
       "12        21     0.996    0.879   \n",
       "13        22     0.996    0.880   \n",
       "14        23     0.997    0.880   \n",
       "15        24     0.997    0.879   \n",
       "16        25     0.997    0.880   \n",
       "17        26     0.998    0.877   \n",
       "18        27     0.998    0.880   \n",
       "19        28     0.998    0.882   \n",
       "20        29     0.998    0.878   \n",
       "\n",
       "                                              TrainF1  \\\n",
       "0   [0.9301811378518582, 0.9421728971962617, 0.857...   \n",
       "1   [0.9436477138518644, 0.960053361002001, 0.9000...   \n",
       "2   [0.9613668883090649, 0.9665711556829036, 0.925...   \n",
       "3   [0.9770838579702846, 0.9782608695652174, 0.948...   \n",
       "4   [0.983804648821012, 0.9825259898252598, 0.9636...   \n",
       "5   [0.989978947368421, 0.9863033873343152, 0.9781...   \n",
       "6   [0.9915966386554621, 0.9910641754670998, 0.984...   \n",
       "7   [0.9937001259974801, 0.992609016999261, 0.9884...   \n",
       "8   [0.9952072647776004, 0.9940837154267119, 0.991...   \n",
       "9   [0.9960467659180756, 0.9946001923219172, 0.993...   \n",
       "10  [0.9973045822102427, 0.9954884993713484, 0.995...   \n",
       "11  [0.9977255496588325, 0.9958567623557265, 0.996...   \n",
       "12  [0.9978099730458221, 0.9962258565825501, 0.996...   \n",
       "13  [0.998230386786888, 0.9963733254385315, 0.9970...   \n",
       "14  [0.9984828051247472, 0.9965223825379207, 0.997...   \n",
       "15  [0.9985669729410773, 0.9967436352871522, 0.998...   \n",
       "16  [0.9986511549485754, 0.9970409823938453, 0.998...   \n",
       "17  [0.9987353511508305, 0.9973364900858241, 0.999...   \n",
       "18  [0.9988195615514334, 0.997484462858834, 0.9997...   \n",
       "19  [0.9989037861539759, 0.997558268590455, 0.9997...   \n",
       "20  [0.9990722779792528, 0.997558268590455, 0.9997...   \n",
       "\n",
       "                                               TestF1  \n",
       "0   [0.9164989939637826, 0.944636678200692, 0.841,...  \n",
       "1   [0.9209864116758933, 0.9530495831505046, 0.848...  \n",
       "2   [0.9254783484390735, 0.951718138321009, 0.8589...  \n",
       "3   [0.9342770475227503, 0.9591926283457657, 0.861...  \n",
       "4   [0.9247743229689067, 0.9597550306211724, 0.864...  \n",
       "5   [0.9254783484390735, 0.9585333915320821, 0.861...  \n",
       "6   [0.9303030303030304, 0.9610843900306079, 0.867...  \n",
       "7   [0.9220713926596279, 0.9614035087719298, 0.862...  \n",
       "8   [0.9288956127080182, 0.9600351339481774, 0.868...  \n",
       "9   [0.9198184568835098, 0.9567118495846086, 0.863...  \n",
       "10  [0.9236947791164658, 0.9567118495846086, 0.868...  \n",
       "11  [0.9287518948964124, 0.9533769063180828, 0.871...  \n",
       "12  [0.9243107769423559, 0.9569420035149385, 0.853...  \n",
       "13  [0.9251012145748988, 0.957017543859649, 0.8677...  \n",
       "14  [0.9274193548387096, 0.9567496723460026, 0.868...  \n",
       "15  [0.9223790322580645, 0.9583150504607283, 0.869...  \n",
       "16  [0.9283900457084815, 0.961335676625659, 0.8655...  \n",
       "17  [0.9262626262626263, 0.9580786026200873, 0.861...  \n",
       "18  [0.9219143576826196, 0.9557599649583881, 0.867...  \n",
       "19  [0.9251012145748988, 0.9576973397296119, 0.864...  \n",
       "20  [0.9297625063163214, 0.9577836411609498, 0.862...  "
      ]
     },
     "execution_count": 22,
     "metadata": {},
     "output_type": "execute_result"
    }
   ],
   "source": [
    "dt_train_acc, dt_test_acc = [], []\n",
    "dt_train_f1, dt_test_f1 = [], []\n",
    "\n",
    "para_depth = list(range(9, 30))\n",
    "\n",
    "for n in para_depth:\n",
    "    dt = DecisionTreeClassifier(random_state=1234, max_depth=n)\n",
    "    dt.fit(x_train, y_train)\n",
    "    dt_train_acc.append(dt.score(x_train, y_train))\n",
    "    dt_test_acc.append(dt.score(x_test, y_test))    \n",
    "    \n",
    "    train_pred = dt.predict(x_train)\n",
    "    test_pred = dt.predict(x_test)\n",
    "    dt_train_f1.append(f1_score(y_train, train_pred, average=None))\n",
    "    dt_test_f1.append(f1_score(y_test, test_pred, average=None))    \n",
    "\n",
    "# 결과 저장\n",
    "dt_score_depth = pd.DataFrame()\n",
    "dt_score_depth['MaxDepth'] = para_depth\n",
    "dt_score_depth['TrainAcc'] = dt_train_acc\n",
    "dt_score_depth['TestAcc'] = dt_test_acc\n",
    "dt_score_depth['TrainF1'] = dt_train_f1\n",
    "dt_score_depth['TestF1'] = dt_test_f1\n",
    "\n",
    "\n",
    "dt_score_depth.round(3)"
   ]
  },
  {
   "cell_type": "code",
   "execution_count": 39,
   "id": "13a404fd",
   "metadata": {
    "scrolled": true
   },
   "outputs": [
    {
     "name": "stdout",
     "output_type": "stream",
     "text": [
      "0 0.8481829868184491\n",
      "1 0.8640644118292193\n",
      "2 0.8721766023186269\n",
      "3 0.8771319085463407\n",
      "4 0.8775504911741304\n",
      "5 0.8793839195887188\n",
      "6 0.8812172193137597\n",
      "7 0.8794004270946016\n",
      "8 0.8775050198115858\n",
      "9 0.8787627001277356\n",
      "10 0.8785535047073114\n",
      "11 0.8806003381893841\n",
      "12 0.8774694086453547\n",
      "13 0.8785172303340971\n",
      "14 0.8784708136835931\n",
      "15 0.8773373995330251\n",
      "16 0.8778054894865901\n",
      "17 0.8755781514083946\n",
      "18 0.8781138069677672\n",
      "19 0.8803981311828141\n",
      "20 0.876154143739414\n"
     ]
    }
   ],
   "source": [
    "for i in range(21):\n",
    "    print(i, dt_score_depth['TestF1'][i].mean())"
   ]
  },
  {
   "cell_type": "code",
   "execution_count": 37,
   "id": "3ffbf48c",
   "metadata": {},
   "outputs": [
    {
     "data": {
      "text/plain": [
       "0.8640644118292193"
      ]
     },
     "execution_count": 37,
     "metadata": {},
     "output_type": "execute_result"
    }
   ],
   "source": []
  },
  {
   "cell_type": "code",
   "execution_count": 34,
   "id": "01d8410d",
   "metadata": {},
   "outputs": [
    {
     "data": {
      "text/plain": [
       "<matplotlib.legend.Legend at 0x28b5394c1c0>"
      ]
     },
     "execution_count": 34,
     "metadata": {},
     "output_type": "execute_result"
    },
    {
     "data": {
      "image/png": "[encoded data removed]",
      "text/plain": [
       "<Figure size 720x432 with 1 Axes>"
      ]
     },
     "metadata": {
      "needs_background": "light"
     },
     "output_type": "display_data"
    }
   ],
   "source": [
    "# 모델 설명력 그래프 확인\n",
    "number = list(range(0, 10))\n",
    "count = list(range(11, 21))\n",
    "colors = ['red', 'blue', 'green', 'gray', 'black', 'pink', 'yellow', 'cyan', 'lime', 'plum', 'olive']\n",
    "plt.figure(figsize = (10, 6))\n",
    "c = 0\n",
    "for i in count:\n",
    "    for j in number:\n",
    "        plt.plot(j, dt_train_f1[i][j], linestyle = '-', label = 'Train F1')\n",
    "        plt.plot(j, dt_test_f1[i][j], linestyle = '--', label = 'Test F1')\n",
    "        \n",
    "plt.legend()"
   ]
  },
  {
   "cell_type": "markdown",
   "id": "634322b4",
   "metadata": {},
   "source": []
  },
  {
   "cell_type": "code",
   "execution_count": 44,
   "id": "8a34ed5e",
   "metadata": {},
   "outputs": [
    {
     "name": "stdout",
     "output_type": "stream",
     "text": [
      "학습용 데이터 Accuracy:  0.73825\n",
      "학습용 데이터 Accuracy:  0.7415\n",
      "학습용 데이터 F1 score:  0.7361239721923478\n",
      "평가용 데이터 F1 score:  0.738910829415407\n",
      "\n",
      "학습용 데이터 혼동행렬: \n",
      " [[4547    2   61  215  354  206  109   92  211  126]\n",
      " [   4 5936  230   70    6   68  167   51  205    5]\n",
      " [ 112  241 4330   51  230  248  269   83  244  150]\n",
      " [  73   76  316 4232  224  450  118   62  195  385]\n",
      " [  20   20    9   79 4425  216  189  183  131  570]\n",
      " [ 137   74   67  757  490 3122  239  203  182  150]\n",
      " [  88  137   61   42  789  282 4209   39  200   71]\n",
      " [   9  172  201   65  111   77   25 4939  170  496]\n",
      " [  22  181  102  225  401  309  294   22 3999  296]\n",
      " [  23   83   15  204  273  238  138  232  187 4556]]\n",
      "평가용 데이터 혼동행렬: \n",
      " [[786   0  11  21  64  27   8  19  22  22]\n",
      " [  1 996  40  20   0   6  28   6  38   0]\n",
      " [ 16  61 725   8  39  40  54  19  51  19]\n",
      " [ 13  13  60 734  29  71  13   6  26  45]\n",
      " [  3   7   2  11 733  33  40  23  32  98]\n",
      " [ 21  12  14 122  78 514  34  49  29  19]\n",
      " [ 22  19   6   6 146  45 673   3  25  13]\n",
      " [  2  33  47   4  10  13   6 813  28  72]\n",
      " [  3  21  23  33  65  55  50   6 662  56]\n",
      " [  4  11   6  28  58  36  13  36  38 779]]\n",
      "\n",
      "학습용 데이터\n",
      "               precision    recall  f1-score   support\n",
      "\n",
      "           0       0.90      0.77      0.83      5923\n",
      "           1       0.86      0.88      0.87      6742\n",
      "           2       0.80      0.73      0.76      5958\n",
      "           3       0.71      0.69      0.70      6131\n",
      "           4       0.61      0.76      0.67      5842\n",
      "           5       0.60      0.58      0.59      5421\n",
      "           6       0.73      0.71      0.72      5918\n",
      "           7       0.84      0.79      0.81      6265\n",
      "           8       0.70      0.68      0.69      5851\n",
      "           9       0.67      0.77      0.71      5949\n",
      "\n",
      "    accuracy                           0.74     60000\n",
      "   macro avg       0.74      0.73      0.74     60000\n",
      "weighted avg       0.75      0.74      0.74     60000\n",
      "\n",
      "평가용 데이터\n",
      "               precision    recall  f1-score   support\n",
      "\n",
      "           0       0.90      0.80      0.85       980\n",
      "           1       0.85      0.88      0.86      1135\n",
      "           2       0.78      0.70      0.74      1032\n",
      "           3       0.74      0.73      0.74      1010\n",
      "           4       0.60      0.75      0.67       982\n",
      "           5       0.61      0.58      0.59       892\n",
      "           6       0.73      0.70      0.72       958\n",
      "           7       0.83      0.79      0.81      1028\n",
      "           8       0.70      0.68      0.69       974\n",
      "           9       0.69      0.77      0.73      1009\n",
      "\n",
      "    accuracy                           0.74     10000\n",
      "   macro avg       0.74      0.74      0.74     10000\n",
      "weighted avg       0.75      0.74      0.74     10000\n",
      "\n"
     ]
    }
   ],
   "source": [
    "# 최종 모델 결정, max depth = 6\n",
    "dt_final = DecisionTreeClassifier(random_state = 1234, max_depth = 6)\n",
    "dt_final.fit(x_train, y_train)\n",
    "dt_train_pred = dt_final.predict(x_train)\n",
    "dt_test_pred = dt_final.predict(x_test)\n",
    "\n",
    "\n",
    "print('학습용 데이터 Accuracy: ', dt_final.score(x_train, y_train))\n",
    "print('학습용 데이터 Accuracy: ', dt_final.score(x_test, y_test))\n",
    "print('학습용 데이터 F1 score: ', f1_score(y_train, dt_train_pred, average = None).mean())\n",
    "print('평가용 데이터 F1 score: ', f1_score(y_test, dt_test_pred, average = None).mean())\n",
    "\n",
    "print('\\n학습용 데이터 혼동행렬: \\n', confusion_matrix(y_train, dt_train_pred))\n",
    "print('평가용 데이터 혼동행렬: \\n', confusion_matrix(y_test, dt_test_pred))\n",
    "\n",
    "print('\\n학습용 데이터\\n', classification_report(y_train, dt_train_pred))\n",
    "print('평가용 데이터\\n', classification_report(y_test, dt_test_pred))\n",
    "\n",
    "\n"
   ]
  },
  {
   "cell_type": "markdown",
   "id": "16336001",
   "metadata": {},
   "source": [
    "### 랜덤포레스트"
   ]
  },
  {
   "cell_type": "code",
   "execution_count": 45,
   "id": "c7ff3c68",
   "metadata": {},
   "outputs": [
    {
     "name": "stdout",
     "output_type": "stream",
     "text": [
      "학습용 데이터의 정확도:  1.0\n",
      "평가용 데이터의 정확도:  0.9712\n"
     ]
    }
   ],
   "source": [
    "rf_uncustomized = RandomForestClassifier(random_state=1234)\n",
    "rf_uncustomized.fit(x_train, y_train)\n",
    "\n",
    "print('학습용 데이터의 정확도: ', rf_uncustomized.score(x_train, y_train))\n",
    "print('평가용 데이터의 정확도: ', rf_uncustomized.score(x_test, y_test))"
   ]
  },
  {
   "cell_type": "markdown",
   "id": "2df04509",
   "metadata": {},
   "source": [
    "###### depth 결정"
   ]
  },
  {
   "cell_type": "code",
   "execution_count": 46,
   "id": "f1a76daf",
   "metadata": {},
   "outputs": [
    {
     "name": "stdout",
     "output_type": "stream",
     "text": [
      "5\n",
      "{'bootstrap': True, 'ccp_alpha': 0.0, 'class_weight': None, 'criterion': 'gini', 'max_depth': 5, 'max_features': 'auto', 'max_leaf_nodes': None, 'max_samples': None, 'min_impurity_decrease': 0.0, 'min_impurity_split': None, 'min_samples_leaf': 1, 'min_samples_split': 2, 'min_weight_fraction_leaf': 0.0, 'n_estimators': 100, 'n_jobs': None, 'oob_score': False, 'random_state': 1234, 'verbose': 0, 'warm_start': False}\n",
      "6\n",
      "{'bootstrap': True, 'ccp_alpha': 0.0, 'class_weight': None, 'criterion': 'gini', 'max_depth': 6, 'max_features': 'auto', 'max_leaf_nodes': None, 'max_samples': None, 'min_impurity_decrease': 0.0, 'min_impurity_split': None, 'min_samples_leaf': 1, 'min_samples_split': 2, 'min_weight_fraction_leaf': 0.0, 'n_estimators': 100, 'n_jobs': None, 'oob_score': False, 'random_state': 1234, 'verbose': 0, 'warm_start': False}\n",
      "7\n",
      "{'bootstrap': True, 'ccp_alpha': 0.0, 'class_weight': None, 'criterion': 'gini', 'max_depth': 7, 'max_features': 'auto', 'max_leaf_nodes': None, 'max_samples': None, 'min_impurity_decrease': 0.0, 'min_impurity_split': None, 'min_samples_leaf': 1, 'min_samples_split': 2, 'min_weight_fraction_leaf': 0.0, 'n_estimators': 100, 'n_jobs': None, 'oob_score': False, 'random_state': 1234, 'verbose': 0, 'warm_start': False}\n",
      "8\n",
      "{'bootstrap': True, 'ccp_alpha': 0.0, 'class_weight': None, 'criterion': 'gini', 'max_depth': 8, 'max_features': 'auto', 'max_leaf_nodes': None, 'max_samples': None, 'min_impurity_decrease': 0.0, 'min_impurity_split': None, 'min_samples_leaf': 1, 'min_samples_split': 2, 'min_weight_fraction_leaf': 0.0, 'n_estimators': 100, 'n_jobs': None, 'oob_score': False, 'random_state': 1234, 'verbose': 0, 'warm_start': False}\n",
      "9\n",
      "{'bootstrap': True, 'ccp_alpha': 0.0, 'class_weight': None, 'criterion': 'gini', 'max_depth': 9, 'max_features': 'auto', 'max_leaf_nodes': None, 'max_samples': None, 'min_impurity_decrease': 0.0, 'min_impurity_split': None, 'min_samples_leaf': 1, 'min_samples_split': 2, 'min_weight_fraction_leaf': 0.0, 'n_estimators': 100, 'n_jobs': None, 'oob_score': False, 'random_state': 1234, 'verbose': 0, 'warm_start': False}\n",
      "10\n",
      "{'bootstrap': True, 'ccp_alpha': 0.0, 'class_weight': None, 'criterion': 'gini', 'max_depth': 10, 'max_features': 'auto', 'max_leaf_nodes': None, 'max_samples': None, 'min_impurity_decrease': 0.0, 'min_impurity_split': None, 'min_samples_leaf': 1, 'min_samples_split': 2, 'min_weight_fraction_leaf': 0.0, 'n_estimators': 100, 'n_jobs': None, 'oob_score': False, 'random_state': 1234, 'verbose': 0, 'warm_start': False}\n",
      "11\n",
      "{'bootstrap': True, 'ccp_alpha': 0.0, 'class_weight': None, 'criterion': 'gini', 'max_depth': 11, 'max_features': 'auto', 'max_leaf_nodes': None, 'max_samples': None, 'min_impurity_decrease': 0.0, 'min_impurity_split': None, 'min_samples_leaf': 1, 'min_samples_split': 2, 'min_weight_fraction_leaf': 0.0, 'n_estimators': 100, 'n_jobs': None, 'oob_score': False, 'random_state': 1234, 'verbose': 0, 'warm_start': False}\n",
      "12\n",
      "{'bootstrap': True, 'ccp_alpha': 0.0, 'class_weight': None, 'criterion': 'gini', 'max_depth': 12, 'max_features': 'auto', 'max_leaf_nodes': None, 'max_samples': None, 'min_impurity_decrease': 0.0, 'min_impurity_split': None, 'min_samples_leaf': 1, 'min_samples_split': 2, 'min_weight_fraction_leaf': 0.0, 'n_estimators': 100, 'n_jobs': None, 'oob_score': False, 'random_state': 1234, 'verbose': 0, 'warm_start': False}\n",
      "13\n",
      "{'bootstrap': True, 'ccp_alpha': 0.0, 'class_weight': None, 'criterion': 'gini', 'max_depth': 13, 'max_features': 'auto', 'max_leaf_nodes': None, 'max_samples': None, 'min_impurity_decrease': 0.0, 'min_impurity_split': None, 'min_samples_leaf': 1, 'min_samples_split': 2, 'min_weight_fraction_leaf': 0.0, 'n_estimators': 100, 'n_jobs': None, 'oob_score': False, 'random_state': 1234, 'verbose': 0, 'warm_start': False}\n",
      "14\n",
      "{'bootstrap': True, 'ccp_alpha': 0.0, 'class_weight': None, 'criterion': 'gini', 'max_depth': 14, 'max_features': 'auto', 'max_leaf_nodes': None, 'max_samples': None, 'min_impurity_decrease': 0.0, 'min_impurity_split': None, 'min_samples_leaf': 1, 'min_samples_split': 2, 'min_weight_fraction_leaf': 0.0, 'n_estimators': 100, 'n_jobs': None, 'oob_score': False, 'random_state': 1234, 'verbose': 0, 'warm_start': False}\n",
      "15\n",
      "{'bootstrap': True, 'ccp_alpha': 0.0, 'class_weight': None, 'criterion': 'gini', 'max_depth': 15, 'max_features': 'auto', 'max_leaf_nodes': None, 'max_samples': None, 'min_impurity_decrease': 0.0, 'min_impurity_split': None, 'min_samples_leaf': 1, 'min_samples_split': 2, 'min_weight_fraction_leaf': 0.0, 'n_estimators': 100, 'n_jobs': None, 'oob_score': False, 'random_state': 1234, 'verbose': 0, 'warm_start': False}\n",
      "16\n",
      "{'bootstrap': True, 'ccp_alpha': 0.0, 'class_weight': None, 'criterion': 'gini', 'max_depth': 16, 'max_features': 'auto', 'max_leaf_nodes': None, 'max_samples': None, 'min_impurity_decrease': 0.0, 'min_impurity_split': None, 'min_samples_leaf': 1, 'min_samples_split': 2, 'min_weight_fraction_leaf': 0.0, 'n_estimators': 100, 'n_jobs': None, 'oob_score': False, 'random_state': 1234, 'verbose': 0, 'warm_start': False}\n",
      "17\n",
      "{'bootstrap': True, 'ccp_alpha': 0.0, 'class_weight': None, 'criterion': 'gini', 'max_depth': 17, 'max_features': 'auto', 'max_leaf_nodes': None, 'max_samples': None, 'min_impurity_decrease': 0.0, 'min_impurity_split': None, 'min_samples_leaf': 1, 'min_samples_split': 2, 'min_weight_fraction_leaf': 0.0, 'n_estimators': 100, 'n_jobs': None, 'oob_score': False, 'random_state': 1234, 'verbose': 0, 'warm_start': False}\n",
      "18\n",
      "{'bootstrap': True, 'ccp_alpha': 0.0, 'class_weight': None, 'criterion': 'gini', 'max_depth': 18, 'max_features': 'auto', 'max_leaf_nodes': None, 'max_samples': None, 'min_impurity_decrease': 0.0, 'min_impurity_split': None, 'min_samples_leaf': 1, 'min_samples_split': 2, 'min_weight_fraction_leaf': 0.0, 'n_estimators': 100, 'n_jobs': None, 'oob_score': False, 'random_state': 1234, 'verbose': 0, 'warm_start': False}\n",
      "19\n",
      "{'bootstrap': True, 'ccp_alpha': 0.0, 'class_weight': None, 'criterion': 'gini', 'max_depth': 19, 'max_features': 'auto', 'max_leaf_nodes': None, 'max_samples': None, 'min_impurity_decrease': 0.0, 'min_impurity_split': None, 'min_samples_leaf': 1, 'min_samples_split': 2, 'min_weight_fraction_leaf': 0.0, 'n_estimators': 100, 'n_jobs': None, 'oob_score': False, 'random_state': 1234, 'verbose': 0, 'warm_start': False}\n",
      "20\n",
      "{'bootstrap': True, 'ccp_alpha': 0.0, 'class_weight': None, 'criterion': 'gini', 'max_depth': 20, 'max_features': 'auto', 'max_leaf_nodes': None, 'max_samples': None, 'min_impurity_decrease': 0.0, 'min_impurity_split': None, 'min_samples_leaf': 1, 'min_samples_split': 2, 'min_weight_fraction_leaf': 0.0, 'n_estimators': 100, 'n_jobs': None, 'oob_score': False, 'random_state': 1234, 'verbose': 0, 'warm_start': False}\n"
     ]
    },
    {
     "data": {
      "text/html": [
       "<div>\n",
       "<style scoped>\n",
       "    .dataframe tbody tr th:only-of-type {\n",
       "        vertical-align: middle;\n",
       "    }\n",
       "\n",
       "    .dataframe tbody tr th {\n",
       "        vertical-align: top;\n",
       "    }\n",
       "\n",
       "    .dataframe thead th {\n",
       "        text-align: right;\n",
       "    }\n",
       "</style>\n",
       "<table border=\"1\" class=\"dataframe\">\n",
       "  <thead>\n",
       "    <tr style=\"text-align: right;\">\n",
       "      <th></th>\n",
       "      <th>MaxDepth</th>\n",
       "      <th>TrainAcc</th>\n",
       "      <th>TestAcc</th>\n",
       "      <th>TrainF1</th>\n",
       "      <th>TestF1</th>\n",
       "    </tr>\n",
       "  </thead>\n",
       "  <tbody>\n",
       "    <tr>\n",
       "      <th>0</th>\n",
       "      <td>5</td>\n",
       "      <td>0.855</td>\n",
       "      <td>0.860</td>\n",
       "      <td>[0.93553963941714, 0.9010266940451745, 0.87040...</td>\n",
       "      <td>[0.9385365853658536, 0.9229494614747307, 0.881...</td>\n",
       "    </tr>\n",
       "    <tr>\n",
       "      <th>1</th>\n",
       "      <td>6</td>\n",
       "      <td>0.892</td>\n",
       "      <td>0.895</td>\n",
       "      <td>[0.9519599666388656, 0.9307686867972562, 0.894...</td>\n",
       "      <td>[0.9501726689689196, 0.9504273504273505, 0.896...</td>\n",
       "    </tr>\n",
       "    <tr>\n",
       "      <th>2</th>\n",
       "      <td>7</td>\n",
       "      <td>0.914</td>\n",
       "      <td>0.914</td>\n",
       "      <td>[0.9639624539054643, 0.9476949715027776, 0.917...</td>\n",
       "      <td>[0.9605591612581129, 0.9657860545690775, 0.918...</td>\n",
       "    </tr>\n",
       "    <tr>\n",
       "      <th>3</th>\n",
       "      <td>8</td>\n",
       "      <td>0.933</td>\n",
       "      <td>0.929</td>\n",
       "      <td>[0.973781512605042, 0.9605531295487627, 0.9362...</td>\n",
       "      <td>[0.9660000000000001, 0.9721496953872933, 0.930...</td>\n",
       "    </tr>\n",
       "    <tr>\n",
       "      <th>4</th>\n",
       "      <td>9</td>\n",
       "      <td>0.949</td>\n",
       "      <td>0.938</td>\n",
       "      <td>[0.9809988229359341, 0.9690873045010647, 0.949...</td>\n",
       "      <td>[0.9747983870967741, 0.9799126637554585, 0.937...</td>\n",
       "    </tr>\n",
       "    <tr>\n",
       "      <th>5</th>\n",
       "      <td>10</td>\n",
       "      <td>0.964</td>\n",
       "      <td>0.948</td>\n",
       "      <td>[0.9888720283257462, 0.9768194863492531, 0.965...</td>\n",
       "      <td>[0.9748490945674045, 0.9802890932982917, 0.940...</td>\n",
       "    </tr>\n",
       "    <tr>\n",
       "      <th>6</th>\n",
       "      <td>11</td>\n",
       "      <td>0.977</td>\n",
       "      <td>0.953</td>\n",
       "      <td>[0.9946813001266356, 0.9836234877544998, 0.978...</td>\n",
       "      <td>[0.9772612430520464, 0.9859525899912203, 0.947...</td>\n",
       "    </tr>\n",
       "    <tr>\n",
       "      <th>7</th>\n",
       "      <td>12</td>\n",
       "      <td>0.986</td>\n",
       "      <td>0.959</td>\n",
       "      <td>[0.9978059071729958, 0.9890742654658202, 0.987...</td>\n",
       "      <td>[0.9802731411229135, 0.984628897672376, 0.9545...</td>\n",
       "    </tr>\n",
       "    <tr>\n",
       "      <th>8</th>\n",
       "      <td>13</td>\n",
       "      <td>0.992</td>\n",
       "      <td>0.962</td>\n",
       "      <td>[0.9990716516161702, 0.9930555555555555, 0.994...</td>\n",
       "      <td>[0.9792615073343449, 0.986830553116769, 0.9570...</td>\n",
       "    </tr>\n",
       "    <tr>\n",
       "      <th>9</th>\n",
       "      <td>14</td>\n",
       "      <td>0.995</td>\n",
       "      <td>0.964</td>\n",
       "      <td>[0.999493670886076, 0.9957830879633055, 0.9968...</td>\n",
       "      <td>[0.9822784810126581, 0.9876977152899824, 0.963...</td>\n",
       "    </tr>\n",
       "    <tr>\n",
       "      <th>10</th>\n",
       "      <td>15</td>\n",
       "      <td>0.997</td>\n",
       "      <td>0.966</td>\n",
       "      <td>[0.99983119513842, 0.9972614906372586, 0.99815...</td>\n",
       "      <td>[0.980253164556962, 0.9885462555066079, 0.9639...</td>\n",
       "    </tr>\n",
       "    <tr>\n",
       "      <th>11</th>\n",
       "      <td>16</td>\n",
       "      <td>0.998</td>\n",
       "      <td>0.968</td>\n",
       "      <td>[0.99983119513842, 0.9979268473271138, 0.99899...</td>\n",
       "      <td>[0.9817997977755308, 0.9876977152899824, 0.965...</td>\n",
       "    </tr>\n",
       "    <tr>\n",
       "      <th>12</th>\n",
       "      <td>17</td>\n",
       "      <td>0.999</td>\n",
       "      <td>0.968</td>\n",
       "      <td>[0.99983119513842, 0.9982966748130047, 0.99924...</td>\n",
       "      <td>[0.9798387096774194, 0.9894551845342707, 0.962...</td>\n",
       "    </tr>\n",
       "    <tr>\n",
       "      <th>13</th>\n",
       "      <td>18</td>\n",
       "      <td>0.999</td>\n",
       "      <td>0.968</td>\n",
       "      <td>[0.9999155904448384, 0.9982230119946692, 0.999...</td>\n",
       "      <td>[0.9788092835519677, 0.9889916336415676, 0.964...</td>\n",
       "    </tr>\n",
       "    <tr>\n",
       "      <th>14</th>\n",
       "      <td>19</td>\n",
       "      <td>0.999</td>\n",
       "      <td>0.968</td>\n",
       "      <td>[0.9999155904448384, 0.9986666666666667, 0.999...</td>\n",
       "      <td>[0.9797979797979798, 0.9894366197183099, 0.963...</td>\n",
       "    </tr>\n",
       "    <tr>\n",
       "      <th>15</th>\n",
       "      <td>20</td>\n",
       "      <td>0.999</td>\n",
       "      <td>0.968</td>\n",
       "      <td>[1.0, 0.998518737964746, 0.999916072177927, 0....</td>\n",
       "      <td>[0.9802331474911303, 0.9894273127753304, 0.965...</td>\n",
       "    </tr>\n",
       "  </tbody>\n",
       "</table>\n",
       "</div>"
      ],
      "text/plain": [
       "    MaxDepth  TrainAcc  TestAcc  \\\n",
       "0          5     0.855    0.860   \n",
       "1          6     0.892    0.895   \n",
       "2          7     0.914    0.914   \n",
       "3          8     0.933    0.929   \n",
       "4          9     0.949    0.938   \n",
       "5         10     0.964    0.948   \n",
       "6         11     0.977    0.953   \n",
       "7         12     0.986    0.959   \n",
       "8         13     0.992    0.962   \n",
       "9         14     0.995    0.964   \n",
       "10        15     0.997    0.966   \n",
       "11        16     0.998    0.968   \n",
       "12        17     0.999    0.968   \n",
       "13        18     0.999    0.968   \n",
       "14        19     0.999    0.968   \n",
       "15        20     0.999    0.968   \n",
       "\n",
       "                                              TrainF1  \\\n",
       "0   [0.93553963941714, 0.9010266940451745, 0.87040...   \n",
       "1   [0.9519599666388656, 0.9307686867972562, 0.894...   \n",
       "2   [0.9639624539054643, 0.9476949715027776, 0.917...   \n",
       "3   [0.973781512605042, 0.9605531295487627, 0.9362...   \n",
       "4   [0.9809988229359341, 0.9690873045010647, 0.949...   \n",
       "5   [0.9888720283257462, 0.9768194863492531, 0.965...   \n",
       "6   [0.9946813001266356, 0.9836234877544998, 0.978...   \n",
       "7   [0.9978059071729958, 0.9890742654658202, 0.987...   \n",
       "8   [0.9990716516161702, 0.9930555555555555, 0.994...   \n",
       "9   [0.999493670886076, 0.9957830879633055, 0.9968...   \n",
       "10  [0.99983119513842, 0.9972614906372586, 0.99815...   \n",
       "11  [0.99983119513842, 0.9979268473271138, 0.99899...   \n",
       "12  [0.99983119513842, 0.9982966748130047, 0.99924...   \n",
       "13  [0.9999155904448384, 0.9982230119946692, 0.999...   \n",
       "14  [0.9999155904448384, 0.9986666666666667, 0.999...   \n",
       "15  [1.0, 0.998518737964746, 0.999916072177927, 0....   \n",
       "\n",
       "                                               TestF1  \n",
       "0   [0.9385365853658536, 0.9229494614747307, 0.881...  \n",
       "1   [0.9501726689689196, 0.9504273504273505, 0.896...  \n",
       "2   [0.9605591612581129, 0.9657860545690775, 0.918...  \n",
       "3   [0.9660000000000001, 0.9721496953872933, 0.930...  \n",
       "4   [0.9747983870967741, 0.9799126637554585, 0.937...  \n",
       "5   [0.9748490945674045, 0.9802890932982917, 0.940...  \n",
       "6   [0.9772612430520464, 0.9859525899912203, 0.947...  \n",
       "7   [0.9802731411229135, 0.984628897672376, 0.9545...  \n",
       "8   [0.9792615073343449, 0.986830553116769, 0.9570...  \n",
       "9   [0.9822784810126581, 0.9876977152899824, 0.963...  \n",
       "10  [0.980253164556962, 0.9885462555066079, 0.9639...  \n",
       "11  [0.9817997977755308, 0.9876977152899824, 0.965...  \n",
       "12  [0.9798387096774194, 0.9894551845342707, 0.962...  \n",
       "13  [0.9788092835519677, 0.9889916336415676, 0.964...  \n",
       "14  [0.9797979797979798, 0.9894366197183099, 0.963...  \n",
       "15  [0.9802331474911303, 0.9894273127753304, 0.965...  "
      ]
     },
     "execution_count": 46,
     "metadata": {},
     "output_type": "execute_result"
    }
   ],
   "source": [
    "rf_train_acc, rf_test_acc = [], []\n",
    "rf_train_f1, rf_test_f1 = [], []\n",
    "\n",
    "para_depth = list(range(5, 21))\n",
    "\n",
    "for n in para_depth:\n",
    "    rf = RandomForestClassifier(random_state=1234, max_depth=n)\n",
    "    rf.fit(x_train, y_train)\n",
    "    rf_train_acc.append(rf.score(x_train, y_train))\n",
    "    rf_test_acc.append(rf.score(x_test, y_test))    \n",
    "    \n",
    "    train_pred = rf.predict(x_train)\n",
    "    test_pred = rf.predict(x_test)\n",
    "    rf_train_f1.append(f1_score(y_train, train_pred, average=None))\n",
    "    rf_test_f1.append(f1_score(y_test, test_pred, average=None))    \n",
    "    print(n)\n",
    "    print(rf.get_params())\n",
    "\n",
    "# 결과 저장\n",
    "rf_score_depth = pd.DataFrame()\n",
    "rf_score_depth['MaxDepth'] = para_depth\n",
    "rf_score_depth['TrainAcc'] = rf_train_acc\n",
    "rf_score_depth['TestAcc'] = rf_test_acc\n",
    "rf_score_depth['TrainF1'] = rf_train_f1\n",
    "rf_score_depth['TestF1'] = rf_test_f1\n",
    "\n",
    "\n",
    "rf_score_depth.round(3)"
   ]
  },
  {
   "cell_type": "code",
   "execution_count": 48,
   "id": "2f658d4e",
   "metadata": {},
   "outputs": [
    {
     "name": "stdout",
     "output_type": "stream",
     "text": [
      "0 0.8564447271968728\n",
      "1 0.8935373535494098\n",
      "2 0.9132011782673665\n",
      "3 0.9282946022618033\n",
      "4 0.9376152790561418\n",
      "5 0.9471255527875628\n",
      "6 0.9528378398508437\n",
      "7 0.9587419489049266\n",
      "8 0.961767757136335\n",
      "9 0.9641493853593894\n",
      "10 0.9660620687784695\n",
      "11 0.9678839335702122\n",
      "12 0.9674718083743725\n",
      "13 0.9675518998705872\n",
      "14 0.968304129780041\n",
      "15 0.9681418252061071\n"
     ]
    }
   ],
   "source": [
    "for i in range(16):\n",
    "    print(i, rf_score_depth['TestF1'][i].mean())"
   ]
  },
  {
   "cell_type": "code",
   "execution_count": 49,
   "id": "651c37f4",
   "metadata": {},
   "outputs": [
    {
     "name": "stdout",
     "output_type": "stream",
     "text": [
      "학습용 데이터 Accuracy:  0.9953666666666666\n",
      "학습용 데이터 Accuracy:  0.9644\n",
      "\n",
      "학습용 데이터 혼동행렬: \n",
      " [[5922    0    0    0    1    0    0    0    0    0]\n",
      " [   0 6730    2    0    3    0    0    3    1    3]\n",
      " [   0    2 5934    0    2    0    0   15    3    2]\n",
      " [   0    2    6 6085    0    3    0   19    7    9]\n",
      " [   1    4    0    0 5797    0    3    2    0   35]\n",
      " [   1    3    0    1    2 5408    5    0    0    1]\n",
      " [   1    6    0    0    1    0 5910    0    0    0]\n",
      " [   0    7    3    0    2    0    0 6228    0   25]\n",
      " [   0   18    2    0    0    0    0    0 5812   19]\n",
      " [   2    3    0    5   16    1    0   25    1 5896]]\n",
      "평가용 데이터 혼동행렬: \n",
      " [[ 970    0    0    0    0    2    3    1    3    1]\n",
      " [   0 1124    3    3    0    1    3    0    1    0]\n",
      " [   4    0  998    6    4    0    4    8    7    1]\n",
      " [   0    0   10  964    0   13    0    9    9    5]\n",
      " [   1    0    1    0  944    0    7    0    3   26]\n",
      " [   3    2    0   16    3  854    5    2    5    2]\n",
      " [   6    3    1    0    4    4  938    0    2    0]\n",
      " [   1    5   22    1    1    0    0  974    5   19]\n",
      " [   4    1    4   10    5    4    6    4  923   13]\n",
      " [   6    6    1   14   12    4    1    4    6  955]]\n",
      "\n",
      "학습용 데이터\n",
      "               precision    recall  f1-score   support\n",
      "\n",
      "           0       1.00      1.00      1.00      5923\n",
      "           1       0.99      1.00      1.00      6742\n",
      "           2       1.00      1.00      1.00      5958\n",
      "           3       1.00      0.99      1.00      6131\n",
      "           4       1.00      0.99      0.99      5842\n",
      "           5       1.00      1.00      1.00      5421\n",
      "           6       1.00      1.00      1.00      5918\n",
      "           7       0.99      0.99      0.99      6265\n",
      "           8       1.00      0.99      1.00      5851\n",
      "           9       0.98      0.99      0.99      5949\n",
      "\n",
      "    accuracy                           1.00     60000\n",
      "   macro avg       1.00      1.00      1.00     60000\n",
      "weighted avg       1.00      1.00      1.00     60000\n",
      "\n",
      "평가용 데이터\n",
      "               precision    recall  f1-score   support\n",
      "\n",
      "           0       0.97      0.99      0.98       980\n",
      "           1       0.99      0.99      0.99      1135\n",
      "           2       0.96      0.97      0.96      1032\n",
      "           3       0.95      0.95      0.95      1010\n",
      "           4       0.97      0.96      0.97       982\n",
      "           5       0.97      0.96      0.96       892\n",
      "           6       0.97      0.98      0.97       958\n",
      "           7       0.97      0.95      0.96      1028\n",
      "           8       0.96      0.95      0.95       974\n",
      "           9       0.93      0.95      0.94      1009\n",
      "\n",
      "    accuracy                           0.96     10000\n",
      "   macro avg       0.96      0.96      0.96     10000\n",
      "weighted avg       0.96      0.96      0.96     10000\n",
      "\n"
     ]
    }
   ],
   "source": [
    "# 최종 모델 결정, max depth = 14\n",
    "rf_final = RandomForestClassifier(random_state = 1234, max_depth = 14, n_estimators = 100)\n",
    "rf_final.fit(x_train, y_train)\n",
    "rf_train_pred = rf_final.predict(x_train)\n",
    "rf_test_pred = rf_final.predict(x_test)\n",
    "\n",
    "\n",
    "print('학습용 데이터 Accuracy: ', rf_final.score(x_train, y_train))\n",
    "print('학습용 데이터 Accuracy: ', rf_final.score(x_test, y_test))\n",
    "\n",
    "print('\\n학습용 데이터 혼동행렬: \\n', confusion_matrix(y_train, rf_train_pred))\n",
    "print('평가용 데이터 혼동행렬: \\n', confusion_matrix(y_test, rf_test_pred))\n",
    "\n",
    "print('\\n학습용 데이터\\n', classification_report(y_train, rf_train_pred))\n",
    "print('평가용 데이터\\n', classification_report(y_test, rf_test_pred))\n"
   ]
  },
  {
   "cell_type": "markdown",
   "id": "f987751b",
   "metadata": {},
   "source": [
    "### 그래디언트 부스팅"
   ]
  },
  {
   "cell_type": "code",
   "execution_count": 53,
   "id": "e92f303d",
   "metadata": {},
   "outputs": [
    {
     "name": "stdout",
     "output_type": "stream",
     "text": [
      "학습용 데이터의 정확도:  1.0\n",
      "평가용 데이터의 정확도:  0.9693\n"
     ]
    }
   ],
   "source": [
    "gb_uncustomized = GradientBoostingClassifier(random_state = 1234, max_depth = 6)\n",
    "gb_uncustomized.fit(x_train, y_train)\n",
    "\n",
    "print('학습용 데이터의 정확도: ', gb_uncustomized.score(x_train, y_train))\n",
    "print('평가용 데이터의 정확도: ', gb_uncustomized.score(x_test, y_test))"
   ]
  },
  {
   "cell_type": "markdown",
   "id": "eefff3e9",
   "metadata": {},
   "source": [
    "###### Depth 결정"
   ]
  },
  {
   "cell_type": "code",
   "execution_count": 52,
   "id": "bf72e9fa",
   "metadata": {},
   "outputs": [
    {
     "ename": "KeyboardInterrupt",
     "evalue": "",
     "output_type": "error",
     "traceback": [
      "\u001b[1;31m---------------------------------------------------------------------------\u001b[0m",
      "\u001b[1;31mKeyboardInterrupt\u001b[0m                         Traceback (most recent call last)",
      "\u001b[1;32m~\\AppData\\Local\\Temp/ipykernel_4672/3561227908.py\u001b[0m in \u001b[0;36m<module>\u001b[1;34m\u001b[0m\n\u001b[0;32m      6\u001b[0m \u001b[1;32mfor\u001b[0m \u001b[0mn\u001b[0m \u001b[1;32min\u001b[0m \u001b[0mpara_depth\u001b[0m\u001b[1;33m:\u001b[0m\u001b[1;33m\u001b[0m\u001b[1;33m\u001b[0m\u001b[0m\n\u001b[0;32m      7\u001b[0m     \u001b[0mgb\u001b[0m \u001b[1;33m=\u001b[0m \u001b[0mGradientBoostingClassifier\u001b[0m\u001b[1;33m(\u001b[0m\u001b[0mrandom_state\u001b[0m\u001b[1;33m=\u001b[0m\u001b[1;36m1234\u001b[0m\u001b[1;33m,\u001b[0m \u001b[0mmax_depth\u001b[0m\u001b[1;33m=\u001b[0m\u001b[0mn\u001b[0m\u001b[1;33m)\u001b[0m\u001b[1;33m\u001b[0m\u001b[1;33m\u001b[0m\u001b[0m\n\u001b[1;32m----> 8\u001b[1;33m     \u001b[0mgb\u001b[0m\u001b[1;33m.\u001b[0m\u001b[0mfit\u001b[0m\u001b[1;33m(\u001b[0m\u001b[0mx_train\u001b[0m\u001b[1;33m,\u001b[0m \u001b[0my_train\u001b[0m\u001b[1;33m)\u001b[0m\u001b[1;33m\u001b[0m\u001b[1;33m\u001b[0m\u001b[0m\n\u001b[0m\u001b[0;32m      9\u001b[0m     \u001b[0mgb_train_acc\u001b[0m\u001b[1;33m.\u001b[0m\u001b[0mappend\u001b[0m\u001b[1;33m(\u001b[0m\u001b[0mgb\u001b[0m\u001b[1;33m.\u001b[0m\u001b[0mscore\u001b[0m\u001b[1;33m(\u001b[0m\u001b[0mx_train\u001b[0m\u001b[1;33m,\u001b[0m \u001b[0my_train\u001b[0m\u001b[1;33m)\u001b[0m\u001b[1;33m)\u001b[0m\u001b[1;33m\u001b[0m\u001b[1;33m\u001b[0m\u001b[0m\n\u001b[0;32m     10\u001b[0m     \u001b[0mgb_test_acc\u001b[0m\u001b[1;33m.\u001b[0m\u001b[0mappend\u001b[0m\u001b[1;33m(\u001b[0m\u001b[0mgb\u001b[0m\u001b[1;33m.\u001b[0m\u001b[0mscore\u001b[0m\u001b[1;33m(\u001b[0m\u001b[0mx_test\u001b[0m\u001b[1;33m,\u001b[0m \u001b[0my_test\u001b[0m\u001b[1;33m)\u001b[0m\u001b[1;33m)\u001b[0m\u001b[1;33m\u001b[0m\u001b[1;33m\u001b[0m\u001b[0m\n",
      "\u001b[1;32m~\\anaconda3\\lib\\site-packages\\sklearn\\ensemble\\_gb.py\u001b[0m in \u001b[0;36mfit\u001b[1;34m(self, X, y, sample_weight, monitor)\u001b[0m\n\u001b[0;32m    502\u001b[0m \u001b[1;33m\u001b[0m\u001b[0m\n\u001b[0;32m    503\u001b[0m         \u001b[1;31m# fit the boosting stages\u001b[0m\u001b[1;33m\u001b[0m\u001b[1;33m\u001b[0m\u001b[0m\n\u001b[1;32m--> 504\u001b[1;33m         n_stages = self._fit_stages(\n\u001b[0m\u001b[0;32m    505\u001b[0m             \u001b[0mX\u001b[0m\u001b[1;33m,\u001b[0m \u001b[0my\u001b[0m\u001b[1;33m,\u001b[0m \u001b[0mraw_predictions\u001b[0m\u001b[1;33m,\u001b[0m \u001b[0msample_weight\u001b[0m\u001b[1;33m,\u001b[0m \u001b[0mself\u001b[0m\u001b[1;33m.\u001b[0m\u001b[0m_rng\u001b[0m\u001b[1;33m,\u001b[0m \u001b[0mX_val\u001b[0m\u001b[1;33m,\u001b[0m \u001b[0my_val\u001b[0m\u001b[1;33m,\u001b[0m\u001b[1;33m\u001b[0m\u001b[1;33m\u001b[0m\u001b[0m\n\u001b[0;32m    506\u001b[0m             sample_weight_val, begin_at_stage, monitor)\n",
      "\u001b[1;32m~\\anaconda3\\lib\\site-packages\\sklearn\\ensemble\\_gb.py\u001b[0m in \u001b[0;36m_fit_stages\u001b[1;34m(self, X, y, raw_predictions, sample_weight, random_state, X_val, y_val, sample_weight_val, begin_at_stage, monitor)\u001b[0m\n\u001b[0;32m    559\u001b[0m \u001b[1;33m\u001b[0m\u001b[0m\n\u001b[0;32m    560\u001b[0m             \u001b[1;31m# fit next stage of trees\u001b[0m\u001b[1;33m\u001b[0m\u001b[1;33m\u001b[0m\u001b[0m\n\u001b[1;32m--> 561\u001b[1;33m             raw_predictions = self._fit_stage(\n\u001b[0m\u001b[0;32m    562\u001b[0m                 \u001b[0mi\u001b[0m\u001b[1;33m,\u001b[0m \u001b[0mX\u001b[0m\u001b[1;33m,\u001b[0m \u001b[0my\u001b[0m\u001b[1;33m,\u001b[0m \u001b[0mraw_predictions\u001b[0m\u001b[1;33m,\u001b[0m \u001b[0msample_weight\u001b[0m\u001b[1;33m,\u001b[0m \u001b[0msample_mask\u001b[0m\u001b[1;33m,\u001b[0m\u001b[1;33m\u001b[0m\u001b[1;33m\u001b[0m\u001b[0m\n\u001b[0;32m    563\u001b[0m                 random_state, X_csc, X_csr)\n",
      "\u001b[1;32m~\\anaconda3\\lib\\site-packages\\sklearn\\ensemble\\_gb.py\u001b[0m in \u001b[0;36m_fit_stage\u001b[1;34m(self, i, X, y, raw_predictions, sample_weight, sample_mask, random_state, X_csc, X_csr)\u001b[0m\n\u001b[0;32m    212\u001b[0m \u001b[1;33m\u001b[0m\u001b[0m\n\u001b[0;32m    213\u001b[0m             \u001b[0mX\u001b[0m \u001b[1;33m=\u001b[0m \u001b[0mX_csr\u001b[0m \u001b[1;32mif\u001b[0m \u001b[0mX_csr\u001b[0m \u001b[1;32mis\u001b[0m \u001b[1;32mnot\u001b[0m \u001b[1;32mNone\u001b[0m \u001b[1;32melse\u001b[0m \u001b[0mX\u001b[0m\u001b[1;33m\u001b[0m\u001b[1;33m\u001b[0m\u001b[0m\n\u001b[1;32m--> 214\u001b[1;33m             tree.fit(X, residual, sample_weight=sample_weight,\n\u001b[0m\u001b[0;32m    215\u001b[0m                      check_input=False)\n\u001b[0;32m    216\u001b[0m \u001b[1;33m\u001b[0m\u001b[0m\n",
      "\u001b[1;32m~\\anaconda3\\lib\\site-packages\\sklearn\\tree\\_classes.py\u001b[0m in \u001b[0;36mfit\u001b[1;34m(self, X, y, sample_weight, check_input, X_idx_sorted)\u001b[0m\n\u001b[0;32m   1250\u001b[0m         \"\"\"\n\u001b[0;32m   1251\u001b[0m \u001b[1;33m\u001b[0m\u001b[0m\n\u001b[1;32m-> 1252\u001b[1;33m         super().fit(\n\u001b[0m\u001b[0;32m   1253\u001b[0m             \u001b[0mX\u001b[0m\u001b[1;33m,\u001b[0m \u001b[0my\u001b[0m\u001b[1;33m,\u001b[0m\u001b[1;33m\u001b[0m\u001b[1;33m\u001b[0m\u001b[0m\n\u001b[0;32m   1254\u001b[0m             \u001b[0msample_weight\u001b[0m\u001b[1;33m=\u001b[0m\u001b[0msample_weight\u001b[0m\u001b[1;33m,\u001b[0m\u001b[1;33m\u001b[0m\u001b[1;33m\u001b[0m\u001b[0m\n",
      "\u001b[1;32m~\\anaconda3\\lib\\site-packages\\sklearn\\tree\\_classes.py\u001b[0m in \u001b[0;36mfit\u001b[1;34m(self, X, y, sample_weight, check_input, X_idx_sorted)\u001b[0m\n\u001b[0;32m    392\u001b[0m                                            min_impurity_split)\n\u001b[0;32m    393\u001b[0m \u001b[1;33m\u001b[0m\u001b[0m\n\u001b[1;32m--> 394\u001b[1;33m         \u001b[0mbuilder\u001b[0m\u001b[1;33m.\u001b[0m\u001b[0mbuild\u001b[0m\u001b[1;33m(\u001b[0m\u001b[0mself\u001b[0m\u001b[1;33m.\u001b[0m\u001b[0mtree_\u001b[0m\u001b[1;33m,\u001b[0m \u001b[0mX\u001b[0m\u001b[1;33m,\u001b[0m \u001b[0my\u001b[0m\u001b[1;33m,\u001b[0m \u001b[0msample_weight\u001b[0m\u001b[1;33m)\u001b[0m\u001b[1;33m\u001b[0m\u001b[1;33m\u001b[0m\u001b[0m\n\u001b[0m\u001b[0;32m    395\u001b[0m \u001b[1;33m\u001b[0m\u001b[0m\n\u001b[0;32m    396\u001b[0m         \u001b[1;32mif\u001b[0m \u001b[0mself\u001b[0m\u001b[1;33m.\u001b[0m\u001b[0mn_outputs_\u001b[0m \u001b[1;33m==\u001b[0m \u001b[1;36m1\u001b[0m \u001b[1;32mand\u001b[0m \u001b[0mis_classifier\u001b[0m\u001b[1;33m(\u001b[0m\u001b[0mself\u001b[0m\u001b[1;33m)\u001b[0m\u001b[1;33m:\u001b[0m\u001b[1;33m\u001b[0m\u001b[1;33m\u001b[0m\u001b[0m\n",
      "\u001b[1;31mKeyboardInterrupt\u001b[0m: "
     ]
    }
   ],
   "source": [
    "gb_train_acc, gb_test_acc = [], []\n",
    "gb_train_f1, gb_test_f1 = [], []\n",
    "\n",
    "para_depth = list(range(10, 21))\n",
    "\n",
    "for n in para_depth:\n",
    "    gb = GradientBoostingClassifier(random_state=1234, max_depth=n)\n",
    "    gb.fit(x_train, y_train)\n",
    "    gb_train_acc.append(gb.score(x_train, y_train))\n",
    "    gb_test_acc.append(gb.score(x_test, y_test))    \n",
    "    \n",
    "    train_pred = gb.predict(x_train)\n",
    "    test_pred = gb.predict(x_test)\n",
    "    gb_train_f1.append(f1_score(y_train, train_pred, average=None))\n",
    "    gb_test_f1.append(f1_score(y_test, test_pred, average=None))    \n",
    "    print(n)\n",
    "    print(gb.get_params())\n",
    "\n",
    "# 결과 저장\n",
    "gb_score_depth = pd.DataFrame()\n",
    "gb_score_depth['MaxDepth'] = para_depth\n",
    "gb_score_depth['TrainAcc'] = gb_train_acc\n",
    "gb_score_depth['TestAcc'] = gb_test_acc\n",
    "gb_score_depth['TrainF1'] = gb_train_f1\n",
    "gb_score_depth['TestF1'] = gb_test_f1\n",
    "\n",
    "\n",
    "gb_score_depth.round(3)"
   ]
  },
  {
   "cell_type": "code",
   "execution_count": null,
   "id": "1e6fce6a",
   "metadata": {},
   "outputs": [],
   "source": [
    "for i in range(21):\n",
    "    print(i, gb_score_depth['TestF1'][i].mean())"
   ]
  },
  {
   "cell_type": "code",
   "execution_count": null,
   "id": "300bc7c8",
   "metadata": {},
   "outputs": [],
   "source": [
    "# 최종 모델 결정, max depth = \n",
    "gb_final = GradientBoostingClassifier(random_state = 1234, max_depth = )\n",
    "gb_final.fit(x_train, y_train)\n",
    "gb_train_pred = gb_final.predict(x_train)\n",
    "gb_test_pred = gb_final.predict(x_test)\n",
    "\n",
    "\n",
    "print('학습용 데이터 Accuracy: ', gb_final.score(x_train, y_train))\n",
    "print('학습용 데이터 Accuracy: ', gb_final.score(x_test, y_test))\n",
    "\n",
    "print('\\n학습용 데이터 혼동행렬: \\n', confusion_matrix(y_train, gb_train_pred))\n",
    "print('평가용 데이터 혼동행렬: \\n', confusion_matrix(y_test, gb_test_pred))\n",
    "\n",
    "print('\\n학습용 데이터\\n', classification_report(y_train, gb_train_pred))\n",
    "print('평가용 데이터\\n', classification_report(y_test, gb_test_pred))\n"
   ]
  },
  {
   "cell_type": "markdown",
   "id": "02e35ad7",
   "metadata": {},
   "source": [
    "### XGBoost"
   ]
  },
  {
   "cell_type": "code",
   "execution_count": null,
   "id": "11c5d0f8",
   "metadata": {},
   "outputs": [],
   "source": [
    "xgb_uncustomized = XGBClassifier(random_state = 1234)\n",
    "xgb_uncustomized.fit(x_train, y_train)\n",
    "\n",
    "print('학습용 데이터의 정확도: ', xgb_uncustomized.score(x_train, y_train))\n",
    "print('평가용 데이터의 정확도: ', xgb_uncustomized.score(x_test, y_test))\n",
    "\n",
    "train_pred = xgb_uncustomized.predict(x_train)\n",
    "test_pred = xgb_uncustomized.predict(x_test)\n",
    "\n",
    "print('\\n학습용 데이터 혼동행렬: \\n', confusion_matrix(y_train, train_pred))\n",
    "print('평가용 데이터 혼동행렬: \\n', confusion_matrix(y_test, test_pred))\n",
    "\n",
    "print('\\n학습용 데이터\\n', classification_report(y_train, xgb_train_pred))\n",
    "print('평가용 데이터\\n', classification_report(y_test, xgb_test_pred))\n"
   ]
  },
  {
   "cell_type": "markdown",
   "id": "90fc80dd",
   "metadata": {},
   "source": [
    "###### Depth 결정"
   ]
  },
  {
   "cell_type": "code",
   "execution_count": 52,
   "id": "4eb479f6",
   "metadata": {},
   "outputs": [
    {
     "ename": "KeyboardInterrupt",
     "evalue": "",
     "output_type": "error",
     "traceback": [
      "\u001b[1;31m---------------------------------------------------------------------------\u001b[0m",
      "\u001b[1;31mKeyboardInterrupt\u001b[0m                         Traceback (most recent call last)",
      "\u001b[1;32m~\\AppData\\Local\\Temp/ipykernel_4672/3561227908.py\u001b[0m in \u001b[0;36m<module>\u001b[1;34m\u001b[0m\n\u001b[0;32m      6\u001b[0m \u001b[1;32mfor\u001b[0m \u001b[0mn\u001b[0m \u001b[1;32min\u001b[0m \u001b[0mpara_depth\u001b[0m\u001b[1;33m:\u001b[0m\u001b[1;33m\u001b[0m\u001b[1;33m\u001b[0m\u001b[0m\n\u001b[0;32m      7\u001b[0m     \u001b[0mgb\u001b[0m \u001b[1;33m=\u001b[0m \u001b[0mGradientBoostingClassifier\u001b[0m\u001b[1;33m(\u001b[0m\u001b[0mrandom_state\u001b[0m\u001b[1;33m=\u001b[0m\u001b[1;36m1234\u001b[0m\u001b[1;33m,\u001b[0m \u001b[0mmax_depth\u001b[0m\u001b[1;33m=\u001b[0m\u001b[0mn\u001b[0m\u001b[1;33m)\u001b[0m\u001b[1;33m\u001b[0m\u001b[1;33m\u001b[0m\u001b[0m\n\u001b[1;32m----> 8\u001b[1;33m     \u001b[0mgb\u001b[0m\u001b[1;33m.\u001b[0m\u001b[0mfit\u001b[0m\u001b[1;33m(\u001b[0m\u001b[0mx_train\u001b[0m\u001b[1;33m,\u001b[0m \u001b[0my_train\u001b[0m\u001b[1;33m)\u001b[0m\u001b[1;33m\u001b[0m\u001b[1;33m\u001b[0m\u001b[0m\n\u001b[0m\u001b[0;32m      9\u001b[0m     \u001b[0mgb_train_acc\u001b[0m\u001b[1;33m.\u001b[0m\u001b[0mappend\u001b[0m\u001b[1;33m(\u001b[0m\u001b[0mgb\u001b[0m\u001b[1;33m.\u001b[0m\u001b[0mscore\u001b[0m\u001b[1;33m(\u001b[0m\u001b[0mx_train\u001b[0m\u001b[1;33m,\u001b[0m \u001b[0my_train\u001b[0m\u001b[1;33m)\u001b[0m\u001b[1;33m)\u001b[0m\u001b[1;33m\u001b[0m\u001b[1;33m\u001b[0m\u001b[0m\n\u001b[0;32m     10\u001b[0m     \u001b[0mgb_test_acc\u001b[0m\u001b[1;33m.\u001b[0m\u001b[0mappend\u001b[0m\u001b[1;33m(\u001b[0m\u001b[0mgb\u001b[0m\u001b[1;33m.\u001b[0m\u001b[0mscore\u001b[0m\u001b[1;33m(\u001b[0m\u001b[0mx_test\u001b[0m\u001b[1;33m,\u001b[0m \u001b[0my_test\u001b[0m\u001b[1;33m)\u001b[0m\u001b[1;33m)\u001b[0m\u001b[1;33m\u001b[0m\u001b[1;33m\u001b[0m\u001b[0m\n",
      "\u001b[1;32m~\\anaconda3\\lib\\site-packages\\sklearn\\ensemble\\_gb.py\u001b[0m in \u001b[0;36mfit\u001b[1;34m(self, X, y, sample_weight, monitor)\u001b[0m\n\u001b[0;32m    502\u001b[0m \u001b[1;33m\u001b[0m\u001b[0m\n\u001b[0;32m    503\u001b[0m         \u001b[1;31m# fit the boosting stages\u001b[0m\u001b[1;33m\u001b[0m\u001b[1;33m\u001b[0m\u001b[0m\n\u001b[1;32m--> 504\u001b[1;33m         n_stages = self._fit_stages(\n\u001b[0m\u001b[0;32m    505\u001b[0m             \u001b[0mX\u001b[0m\u001b[1;33m,\u001b[0m \u001b[0my\u001b[0m\u001b[1;33m,\u001b[0m \u001b[0mraw_predictions\u001b[0m\u001b[1;33m,\u001b[0m \u001b[0msample_weight\u001b[0m\u001b[1;33m,\u001b[0m \u001b[0mself\u001b[0m\u001b[1;33m.\u001b[0m\u001b[0m_rng\u001b[0m\u001b[1;33m,\u001b[0m \u001b[0mX_val\u001b[0m\u001b[1;33m,\u001b[0m \u001b[0my_val\u001b[0m\u001b[1;33m,\u001b[0m\u001b[1;33m\u001b[0m\u001b[1;33m\u001b[0m\u001b[0m\n\u001b[0;32m    506\u001b[0m             sample_weight_val, begin_at_stage, monitor)\n",
      "\u001b[1;32m~\\anaconda3\\lib\\site-packages\\sklearn\\ensemble\\_gb.py\u001b[0m in \u001b[0;36m_fit_stages\u001b[1;34m(self, X, y, raw_predictions, sample_weight, random_state, X_val, y_val, sample_weight_val, begin_at_stage, monitor)\u001b[0m\n\u001b[0;32m    559\u001b[0m \u001b[1;33m\u001b[0m\u001b[0m\n\u001b[0;32m    560\u001b[0m             \u001b[1;31m# fit next stage of trees\u001b[0m\u001b[1;33m\u001b[0m\u001b[1;33m\u001b[0m\u001b[0m\n\u001b[1;32m--> 561\u001b[1;33m             raw_predictions = self._fit_stage(\n\u001b[0m\u001b[0;32m    562\u001b[0m                 \u001b[0mi\u001b[0m\u001b[1;33m,\u001b[0m \u001b[0mX\u001b[0m\u001b[1;33m,\u001b[0m \u001b[0my\u001b[0m\u001b[1;33m,\u001b[0m \u001b[0mraw_predictions\u001b[0m\u001b[1;33m,\u001b[0m \u001b[0msample_weight\u001b[0m\u001b[1;33m,\u001b[0m \u001b[0msample_mask\u001b[0m\u001b[1;33m,\u001b[0m\u001b[1;33m\u001b[0m\u001b[1;33m\u001b[0m\u001b[0m\n\u001b[0;32m    563\u001b[0m                 random_state, X_csc, X_csr)\n",
      "\u001b[1;32m~\\anaconda3\\lib\\site-packages\\sklearn\\ensemble\\_gb.py\u001b[0m in \u001b[0;36m_fit_stage\u001b[1;34m(self, i, X, y, raw_predictions, sample_weight, sample_mask, random_state, X_csc, X_csr)\u001b[0m\n\u001b[0;32m    212\u001b[0m \u001b[1;33m\u001b[0m\u001b[0m\n\u001b[0;32m    213\u001b[0m             \u001b[0mX\u001b[0m \u001b[1;33m=\u001b[0m \u001b[0mX_csr\u001b[0m \u001b[1;32mif\u001b[0m \u001b[0mX_csr\u001b[0m \u001b[1;32mis\u001b[0m \u001b[1;32mnot\u001b[0m \u001b[1;32mNone\u001b[0m \u001b[1;32melse\u001b[0m \u001b[0mX\u001b[0m\u001b[1;33m\u001b[0m\u001b[1;33m\u001b[0m\u001b[0m\n\u001b[1;32m--> 214\u001b[1;33m             tree.fit(X, residual, sample_weight=sample_weight,\n\u001b[0m\u001b[0;32m    215\u001b[0m                      check_input=False)\n\u001b[0;32m    216\u001b[0m \u001b[1;33m\u001b[0m\u001b[0m\n",
      "\u001b[1;32m~\\anaconda3\\lib\\site-packages\\sklearn\\tree\\_classes.py\u001b[0m in \u001b[0;36mfit\u001b[1;34m(self, X, y, sample_weight, check_input, X_idx_sorted)\u001b[0m\n\u001b[0;32m   1250\u001b[0m         \"\"\"\n\u001b[0;32m   1251\u001b[0m \u001b[1;33m\u001b[0m\u001b[0m\n\u001b[1;32m-> 1252\u001b[1;33m         super().fit(\n\u001b[0m\u001b[0;32m   1253\u001b[0m             \u001b[0mX\u001b[0m\u001b[1;33m,\u001b[0m \u001b[0my\u001b[0m\u001b[1;33m,\u001b[0m\u001b[1;33m\u001b[0m\u001b[1;33m\u001b[0m\u001b[0m\n\u001b[0;32m   1254\u001b[0m             \u001b[0msample_weight\u001b[0m\u001b[1;33m=\u001b[0m\u001b[0msample_weight\u001b[0m\u001b[1;33m,\u001b[0m\u001b[1;33m\u001b[0m\u001b[1;33m\u001b[0m\u001b[0m\n",
      "\u001b[1;32m~\\anaconda3\\lib\\site-packages\\sklearn\\tree\\_classes.py\u001b[0m in \u001b[0;36mfit\u001b[1;34m(self, X, y, sample_weight, check_input, X_idx_sorted)\u001b[0m\n\u001b[0;32m    392\u001b[0m                                            min_impurity_split)\n\u001b[0;32m    393\u001b[0m \u001b[1;33m\u001b[0m\u001b[0m\n\u001b[1;32m--> 394\u001b[1;33m         \u001b[0mbuilder\u001b[0m\u001b[1;33m.\u001b[0m\u001b[0mbuild\u001b[0m\u001b[1;33m(\u001b[0m\u001b[0mself\u001b[0m\u001b[1;33m.\u001b[0m\u001b[0mtree_\u001b[0m\u001b[1;33m,\u001b[0m \u001b[0mX\u001b[0m\u001b[1;33m,\u001b[0m \u001b[0my\u001b[0m\u001b[1;33m,\u001b[0m \u001b[0msample_weight\u001b[0m\u001b[1;33m)\u001b[0m\u001b[1;33m\u001b[0m\u001b[1;33m\u001b[0m\u001b[0m\n\u001b[0m\u001b[0;32m    395\u001b[0m \u001b[1;33m\u001b[0m\u001b[0m\n\u001b[0;32m    396\u001b[0m         \u001b[1;32mif\u001b[0m \u001b[0mself\u001b[0m\u001b[1;33m.\u001b[0m\u001b[0mn_outputs_\u001b[0m \u001b[1;33m==\u001b[0m \u001b[1;36m1\u001b[0m \u001b[1;32mand\u001b[0m \u001b[0mis_classifier\u001b[0m\u001b[1;33m(\u001b[0m\u001b[0mself\u001b[0m\u001b[1;33m)\u001b[0m\u001b[1;33m:\u001b[0m\u001b[1;33m\u001b[0m\u001b[1;33m\u001b[0m\u001b[0m\n",
      "\u001b[1;31mKeyboardInterrupt\u001b[0m: "
     ]
    }
   ],
   "source": [
    "xgb_train_acc, xgb_test_acc = [], []\n",
    "xgb_train_f1, xgb_test_f1 = [], []\n",
    "\n",
    "para_depth = list(range(10, 21))\n",
    "\n",
    "for n in para_depth:\n",
    "    xgb = XGBClassifier(random_state=1234, max_depth=n)\n",
    "    xgb.fit(x_train, y_train)\n",
    "    xgb_train_acc.append(xgb.score(x_train, y_train))\n",
    "    xgb_test_acc.append(xgb.score(x_test, y_test))    \n",
    "    \n",
    "    train_pred = xgb.predict(x_train)\n",
    "    test_pred = xgb.predict(x_test)\n",
    "    xgb_train_f1.append(f1_score(y_train, train_pred, average=None))\n",
    "    xgb_test_f1.append(f1_score(y_test, test_pred, average=None))    \n",
    "    print(n)\n",
    "    print(xgb.get_params())\n",
    "\n",
    "# 결과 저장\n",
    "xgb_score_depth = pd.DataFrame()\n",
    "xgb_score_depth['MaxDepth'] = para_depth\n",
    "xgb_score_depth['TrainAcc'] = xgb_train_acc\n",
    "xgb_score_depth['TestAcc'] = xgb_test_acc\n",
    "xgb_score_depth['TrainF1'] = xgb_train_f1\n",
    "xgb_score_depth['TestF1'] = xgb_test_f1\n",
    "\n",
    "\n",
    "xgb_score_depth.round(3)"
   ]
  },
  {
   "cell_type": "code",
   "execution_count": null,
   "id": "16986282",
   "metadata": {},
   "outputs": [],
   "source": []
  }
 ],
 "metadata": {
  "kernelspec": {
   "display_name": "Python 3 (ipykernel)",
   "language": "python",
   "name": "python3"
  },
  "language_info": {
   "codemirror_mode": {
    "name": "ipython",
    "version": 3
   },
   "file_extension": ".py",
   "mimetype": "text/x-python",
   "name": "python",
   "nbconvert_exporter": "python",
   "pygments_lexer": "ipython3",
   "version": "3.9.7"
  }
 },
 "nbformat": 4,
 "nbformat_minor": 5
}
