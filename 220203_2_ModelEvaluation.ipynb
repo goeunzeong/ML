{
 "cells": [
  {
   "cell_type": "code",
   "execution_count": 1,
   "id": "be46ae24",
   "metadata": {},
   "outputs": [],
   "source": [
    "import pandas as pd \n",
    "import numpy as np \n",
    "import matplotlib as mpl\n",
    "import matplotlib.pyplot as plt\n",
    "mpl.rc('font', family = 'Malgun Gothic')\n",
    "plt.rcParams['axes.unicode_minus'] = False\n",
    "plt.rcParams['font.family'] = 'Malgun Gothic'\n",
    "import seaborn as sns\n",
    "import scipy.stats as stats"
   ]
  },
  {
   "cell_type": "code",
   "execution_count": 55,
   "id": "460bac43",
   "metadata": {},
   "outputs": [],
   "source": [
    "from sklearn.model_selection import train_test_split\n",
    "\n",
    "from sklearn.tree import DecisionTreeClassifier\n",
    "from sklearn.ensemble import RandomForestClassifier\n",
    "from sklearn.ensemble import GradientBoostingClassifier\n",
    "from xgboost import XGBClassifier\n",
    "\n",
    "from sklearn.preprocessing import StandardScaler\n",
    "from sklearn.svm import SVC\n",
    "from sklearn.neighbors import KNeighborsClassifier\n",
    "\n",
    "from sklearn.metrics import f1_score, roc_curve, roc_auc_score, accuracy_score\n",
    "\n"
   ]
  },
  {
   "cell_type": "code",
   "execution_count": 3,
   "id": "5174f0a2",
   "metadata": {},
   "outputs": [
    {
     "name": "stdout",
     "output_type": "stream",
     "text": [
      "학습용 데이터의 크기: (2998, 19)\n",
      "평가용 데이터의 크기: (750, 19)\n"
     ]
    },
    {
     "name": "stderr",
     "output_type": "stream",
     "text": [
      "C:\\Users\\User\\AppData\\Local\\Temp/ipykernel_11512/1690711287.py:3: FutureWarning: Dropping of nuisance columns in DataFrame reductions (with 'numeric_only=None') is deprecated; in a future version this will raise TypeError.  Select only valid columns before calling the reduction.\n",
      "  df_raw.fillna(df_raw.mean(), inplace = True)\n"
     ]
    }
   ],
   "source": [
    "df_raw = pd.read_csv('data/bank.csv')\n",
    "df_raw['JOB'].fillna('Other', inplace = True)\n",
    "df_raw.fillna(df_raw.mean(), inplace = True)\n",
    "\n",
    "df_raw_dummy = pd.get_dummies(df_raw)\n",
    "\n",
    "df_train, df_test = train_test_split(df_raw_dummy, test_size= 0.2, random_state=1234)\n",
    "print('학습용 데이터의 크기: {}'.format(df_train.shape))\n",
    "print('평가용 데이터의 크기: {}'.format(df_test.shape))\n",
    "\n",
    "df_train_y = df_train['BAD']\n",
    "df_train_x = df_train.drop(columns = 'BAD', inplace = False)\n",
    "df_test_y = df_test['BAD']\n",
    "df_test_x = df_test.drop(columns = 'BAD', inplace = False)"
   ]
  },
  {
   "cell_type": "code",
   "execution_count": 4,
   "id": "e5e3240d",
   "metadata": {},
   "outputs": [],
   "source": [
    "v_feature_name = df_train_x.columns\n",
    "scalar = StandardScaler()\n",
    "df_train_scaled_x = scalar.fit_transform(df_train_x)\n",
    "df_test_scaled_x = scalar.transform(df_test_x)\n",
    "df_train_scaled_x = pd.DataFrame(df_train_scaled_x, columns = v_feature_name)\n",
    "df_test_scaled_x = pd.DataFrame(df_test_scaled_x, columns = v_feature_name)"
   ]
  },
  {
   "cell_type": "code",
   "execution_count": 94,
   "id": "cf5ec44b",
   "metadata": {},
   "outputs": [],
   "source": [
    "# 평가 저장\n",
    "\n",
    "model = ['DecisionTree', 'RandomForest', 'GradientBoosting', 'XGBoost', 'SVC', 'KNN', 'Logistic']\n",
    "train_accuracy = []\n",
    "test_accuracy = []\n",
    "model_f1_score = []\n",
    "model_auc = []"
   ]
  },
  {
   "cell_type": "markdown",
   "id": "6246b8a2",
   "metadata": {},
   "source": [
    "- 의사결정나무"
   ]
  },
  {
   "cell_type": "code",
   "execution_count": 95,
   "id": "f8a460ba",
   "metadata": {},
   "outputs": [],
   "source": [
    "dt_model = DecisionTreeClassifier(random_state= 1234, max_depth = 10, min_samples_leaf=2, min_samples_split= 10)\n",
    "dt_model.fit(df_train_x, df_train_y)\n",
    "y_pred = dt_model.predict(df_test_x)"
   ]
  },
  {
   "cell_type": "code",
   "execution_count": 96,
   "id": "732c9fc2",
   "metadata": {},
   "outputs": [],
   "source": [
    "train_accuracy.append(dt_model.score(df_train_x, df_train_y))\n",
    "test_accuracy.append(dt_model.score(df_test_x, df_test_y))\n",
    "model_auc.append(roc_auc_score(df_test_y, y_pred))\n",
    "model_f1_score.append(f1_score(df_test_y, y_pred))"
   ]
  },
  {
   "cell_type": "markdown",
   "id": "edb3b04b",
   "metadata": {},
   "source": [
    "- 랜덤포레스트"
   ]
  },
  {
   "cell_type": "code",
   "execution_count": 97,
   "id": "8a9ff105",
   "metadata": {},
   "outputs": [],
   "source": [
    "rf_model = RandomForestClassifier(n_estimators=10, min_samples_split=20, min_samples_leaf=1, max_depth=70, random_state=1234)\n",
    "rf_model.fit(df_train_x, df_train_y)\n",
    "y_pred = rf_model.predict(df_test_x)"
   ]
  },
  {
   "cell_type": "code",
   "execution_count": 98,
   "id": "284918b3",
   "metadata": {},
   "outputs": [],
   "source": [
    "train_accuracy.append(rf_model.score(df_train_x, df_train_y))\n",
    "test_accuracy.append(rf_model.score(df_test_x, df_test_y))\n",
    "model_auc.append(roc_auc_score(df_test_y, y_pred))\n",
    "model_f1_score.append(f1_score(df_test_y, y_pred))"
   ]
  },
  {
   "cell_type": "markdown",
   "id": "e6203c3a",
   "metadata": {},
   "source": [
    "- 그라디언트부스팅"
   ]
  },
  {
   "cell_type": "code",
   "execution_count": 99,
   "id": "e8109e4a",
   "metadata": {},
   "outputs": [],
   "source": [
    "gb_final = GradientBoostingClassifier(random_state=1234, max_depth=12, min_samples_split=8, min_samples_leaf=1, learning_rate=0.1, n_estimators=100)\n",
    "gb_final.fit(df_train_x, df_train_y)\n",
    "y_pred = gb_final.predict(df_test_x) \n",
    "\n",
    "train_accuracy.append(gb_final.score(df_train_x, df_train_y))\n",
    "test_accuracy.append(gb_final.score(df_test_x, df_test_y))\n",
    "model_auc.append(roc_auc_score(df_test_y, y_pred))\n",
    "model_f1_score.append(f1_score(df_test_y, y_pred))"
   ]
  },
  {
   "cell_type": "markdown",
   "id": "d1ad276d",
   "metadata": {},
   "source": [
    "- XGBoost"
   ]
  },
  {
   "cell_type": "code",
   "execution_count": 100,
   "id": "467f3fff",
   "metadata": {},
   "outputs": [
    {
     "name": "stderr",
     "output_type": "stream",
     "text": [
      "C:\\Users\\User\\anaconda3\\lib\\site-packages\\xgboost\\sklearn.py:1224: UserWarning: The use of label encoder in XGBClassifier is deprecated and will be removed in a future release. To remove this warning, do the following: 1) Pass option use_label_encoder=False when constructing XGBClassifier object; and 2) Encode your labels (y) as integers starting with 0, i.e. 0, 1, 2, ..., [num_class - 1].\n",
      "  warnings.warn(label_encoder_deprecation_msg, UserWarning)\n"
     ]
    },
    {
     "name": "stdout",
     "output_type": "stream",
     "text": [
      "[14:48:49] WARNING: C:/Users/Administrator/workspace/xgboost-win64_release_1.5.1/src/learner.cc:1115: Starting in XGBoost 1.3.0, the default evaluation metric used with the objective 'binary:logistic' was changed from 'error' to 'logloss'. Explicitly set eval_metric if you'd like to restore the old behavior.\n"
     ]
    }
   ],
   "source": [
    "xgb_final = XGBClassifier(learning_rate = 0.3, booster = 'gbtree', max_depth = 5, n_estimators = 150, gamma = 0, objective = 'binary:logistic', random_state = 1234)\n",
    "xgb_final.fit(df_train_x, df_train_y)\n",
    "y_pred = xgb_final.predict(df_test_x)\n",
    "\n",
    "train_accuracy.append(xgb_final.score(df_train_x, df_train_y))\n",
    "test_accuracy.append(xgb_final.score(df_test_x, df_test_y))\n",
    "model_auc.append(roc_auc_score(df_test_y, y_pred))\n",
    "model_f1_score.append(f1_score(df_test_y, y_pred))"
   ]
  },
  {
   "cell_type": "markdown",
   "id": "eb7665e1",
   "metadata": {},
   "source": [
    "- SVC"
   ]
  },
  {
   "cell_type": "code",
   "execution_count": 101,
   "id": "bb13e8c9",
   "metadata": {},
   "outputs": [],
   "source": [
    "svc_final = SVC(gamma = 0.1, C = 10, random_state=1234)\n",
    "svc_final.fit(df_train_scaled_x, df_train_y)\n",
    "y_pred = svc_final.predict(df_test_scaled_x)\n",
    "\n",
    "train_accuracy.append(svc_final.score(df_train_scaled_x, df_train_y))\n",
    "test_accuracy.append(svc_final.score(df_test_scaled_x, df_test_y))\n",
    "model_auc.append(roc_auc_score(df_test_y, y_pred))\n",
    "model_f1_score.append(f1_score(df_test_y, y_pred))"
   ]
  },
  {
   "cell_type": "markdown",
   "id": "650df368",
   "metadata": {},
   "source": [
    "- KNN"
   ]
  },
  {
   "cell_type": "code",
   "execution_count": 102,
   "id": "c5e05ccb",
   "metadata": {},
   "outputs": [],
   "source": [
    "knn_final = KNeighborsClassifier(n_neighbors=3, weights='uniform', metric = 'euclidean')\n",
    "knn_final.fit(df_train_scaled_x, df_train_y)\n",
    "y_pred = knn_final.predict(df_test_scaled_x)\n",
    "\n",
    "train_accuracy.append(knn_final.score(df_train_scaled_x, df_train_y))\n",
    "test_accuracy.append(knn_final.score(df_test_scaled_x, df_test_y))\n",
    "model_auc.append(roc_auc_score(df_test_y, y_pred))\n",
    "model_f1_score.append(f1_score(df_test_y, y_pred))"
   ]
  },
  {
   "cell_type": "markdown",
   "id": "875790e1",
   "metadata": {},
   "source": [
    "- 로지스틱회귀 추가"
   ]
  },
  {
   "cell_type": "code",
   "execution_count": 103,
   "id": "9e61ccad",
   "metadata": {},
   "outputs": [],
   "source": [
    "# 로지스틱 회귀모델\n",
    "from statsmodels.api import Logit"
   ]
  },
  {
   "cell_type": "code",
   "execution_count": 104,
   "id": "ea3f1371",
   "metadata": {},
   "outputs": [],
   "source": [
    "df_train, df_test = train_test_split(df_raw, test_size= 0.2, random_state=1234)"
   ]
  },
  {
   "cell_type": "code",
   "execution_count": 105,
   "id": "735c8a94",
   "metadata": {},
   "outputs": [
    {
     "name": "stdout",
     "output_type": "stream",
     "text": [
      "Optimization terminated successfully.\n",
      "         Current function value: 0.241170\n",
      "         Iterations 7\n",
      "                           Logit Regression Results                           \n",
      "==============================================================================\n",
      "Dep. Variable:                    BAD   No. Observations:                 2998\n",
      "Model:                          Logit   Df Residuals:                     2986\n",
      "Method:                           MLE   Df Model:                           11\n",
      "Date:                Thu, 03 Feb 2022   Pseudo R-squ.:                  0.2209\n",
      "Time:                        14:48:54   Log-Likelihood:                -723.03\n",
      "converged:                       True   LL-Null:                       -928.08\n",
      "Covariance Type:            nonrobust   LLR p-value:                 4.385e-81\n",
      "=====================================================================================\n",
      "                        coef    std err          z      P>|z|      [0.025      0.975]\n",
      "-------------------------------------------------------------------------------------\n",
      "Intercept            -4.9575      0.487    -10.190      0.000      -5.911      -4.004\n",
      "C(JOB)[T.Office]     -0.6684      0.265     -2.518      0.012      -1.189      -0.148\n",
      "C(JOB)[T.Other]      -0.3017      0.211     -1.433      0.152      -0.715       0.111\n",
      "C(JOB)[T.ProfExe]    -0.2963      0.248     -1.197      0.231      -0.782       0.189\n",
      "C(JOB)[T.Sales]       1.1113      0.433      2.565      0.010       0.262       1.960\n",
      "C(JOB)[T.Self]       -0.1106      0.409     -0.271      0.787      -0.912       0.691\n",
      "DEROG                 0.6212      0.094      6.599      0.000       0.437       0.806\n",
      "DELINQ                0.7554      0.072     10.530      0.000       0.615       0.896\n",
      "CLAGE                -0.0057      0.001     -5.323      0.000      -0.008      -0.004\n",
      "NINQ                  0.0983      0.039      2.534      0.011       0.022       0.174\n",
      "CLNO                 -0.0246      0.008     -3.113      0.002      -0.040      -0.009\n",
      "DEBTINC               0.1052      0.011      9.420      0.000       0.083       0.127\n",
      "=====================================================================================\n"
     ]
    }
   ],
   "source": [
    "log_model = Logit.from_formula(\"BAD ~ C(JOB) + DEROG + DELINQ + CLAGE + NINQ + CLNO + DEBTINC\", df_train_log)\n",
    "\n",
    "log_result = log_model.fit()\n",
    "\n",
    "print(log_result.summary())"
   ]
  },
  {
   "cell_type": "code",
   "execution_count": 106,
   "id": "f9c7b620",
   "metadata": {},
   "outputs": [],
   "source": [
    "y_pred = log_result.predict(df_train_log)\n",
    "y_pred_class = (y_pred > 0.5).astype(int)\n",
    "\n",
    "train_accuracy.append(accuracy_score(df_train_log['BAD'], y_pred_class))\n",
    "\n",
    "\n",
    "#평가용 데이터 예측\n",
    "y_pred = log_result.predict(df_test_log)\n",
    "y_pred_class = (y_pred > 0.5).astype(int)\n",
    "\n",
    "test_accuracy.append(accuracy_score(df_test_log['BAD'], y_pred_class))\n",
    "\n",
    "model_f1_score.append(f1_score(df_test_log['BAD'], y_pred_class))\n",
    "model_auc.append(roc_auc_score(df_test_log['BAD'], y_pred_class))\n"
   ]
  },
  {
   "cell_type": "code",
   "execution_count": null,
   "id": "ee43f678",
   "metadata": {},
   "outputs": [],
   "source": []
  },
  {
   "cell_type": "code",
   "execution_count": 107,
   "id": "7dacf8ea",
   "metadata": {},
   "outputs": [
    {
     "data": {
      "text/html": [
       "<div>\n",
       "<style scoped>\n",
       "    .dataframe tbody tr th:only-of-type {\n",
       "        vertical-align: middle;\n",
       "    }\n",
       "\n",
       "    .dataframe tbody tr th {\n",
       "        vertical-align: top;\n",
       "    }\n",
       "\n",
       "    .dataframe thead th {\n",
       "        text-align: right;\n",
       "    }\n",
       "</style>\n",
       "<table border=\"1\" class=\"dataframe\">\n",
       "  <thead>\n",
       "    <tr style=\"text-align: right;\">\n",
       "      <th></th>\n",
       "      <th>TrainAccuracy</th>\n",
       "      <th>TestAccuracy</th>\n",
       "      <th>F1Score</th>\n",
       "      <th>AUC</th>\n",
       "    </tr>\n",
       "  </thead>\n",
       "  <tbody>\n",
       "    <tr>\n",
       "      <th>DecisionTree</th>\n",
       "      <td>0.957</td>\n",
       "      <td>0.935</td>\n",
       "      <td>0.484</td>\n",
       "      <td>0.670</td>\n",
       "    </tr>\n",
       "    <tr>\n",
       "      <th>RandomForest</th>\n",
       "      <td>0.957</td>\n",
       "      <td>0.945</td>\n",
       "      <td>0.559</td>\n",
       "      <td>0.696</td>\n",
       "    </tr>\n",
       "    <tr>\n",
       "      <th>GradientBoosting</th>\n",
       "      <td>1.000</td>\n",
       "      <td>0.957</td>\n",
       "      <td>0.680</td>\n",
       "      <td>0.758</td>\n",
       "    </tr>\n",
       "    <tr>\n",
       "      <th>XGBoost</th>\n",
       "      <td>1.000</td>\n",
       "      <td>0.953</td>\n",
       "      <td>0.646</td>\n",
       "      <td>0.742</td>\n",
       "    </tr>\n",
       "    <tr>\n",
       "      <th>SVC</th>\n",
       "      <td>0.987</td>\n",
       "      <td>0.961</td>\n",
       "      <td>0.729</td>\n",
       "      <td>0.794</td>\n",
       "    </tr>\n",
       "    <tr>\n",
       "      <th>KNN</th>\n",
       "      <td>0.961</td>\n",
       "      <td>0.937</td>\n",
       "      <td>0.447</td>\n",
       "      <td>0.644</td>\n",
       "    </tr>\n",
       "    <tr>\n",
       "      <th>Logistic</th>\n",
       "      <td>0.921</td>\n",
       "      <td>0.928</td>\n",
       "      <td>0.341</td>\n",
       "      <td>0.605</td>\n",
       "    </tr>\n",
       "  </tbody>\n",
       "</table>\n",
       "</div>"
      ],
      "text/plain": [
       "                  TrainAccuracy  TestAccuracy  F1Score    AUC\n",
       "DecisionTree              0.957         0.935    0.484  0.670\n",
       "RandomForest              0.957         0.945    0.559  0.696\n",
       "GradientBoosting          1.000         0.957    0.680  0.758\n",
       "XGBoost                   1.000         0.953    0.646  0.742\n",
       "SVC                       0.987         0.961    0.729  0.794\n",
       "KNN                       0.961         0.937    0.447  0.644\n",
       "Logistic                  0.921         0.928    0.341  0.605"
      ]
     },
     "execution_count": 107,
     "metadata": {},
     "output_type": "execute_result"
    }
   ],
   "source": [
    "# 모델 별 정확도 산출 및 평가\n",
    "\n",
    "df_eval = pd.DataFrame(index = model)\n",
    "df_eval['TrainAccuracy'] = train_accuracy\n",
    "df_eval['TestAccuracy'] = test_accuracy\n",
    "df_eval['F1Score'] = model_f1_score\n",
    "df_eval['AUC'] = model_auc\n",
    "df_eval.round(3)"
   ]
  },
  {
   "cell_type": "code",
   "execution_count": 42,
   "id": "7ec90ae2",
   "metadata": {},
   "outputs": [
    {
     "data": {
      "image/png": "[encoded data removed]",
      "text/plain": [
       "<Figure size 720x432 with 1 Axes>"
      ]
     },
     "metadata": {
      "needs_background": "light"
     },
     "output_type": "display_data"
    }
   ],
   "source": [
    "df_eval.plot.bar(rot = 0, figsize = (10, 6))\n",
    "plt.legend(loc = 'lower right')\n",
    "plt.grid(axis = 'y')"
   ]
  },
  {
   "cell_type": "markdown",
   "id": "2b4cc450",
   "metadata": {},
   "source": [
    "# 실습"
   ]
  },
  {
   "cell_type": "code",
   "execution_count": 108,
   "id": "fcb549e3",
   "metadata": {},
   "outputs": [],
   "source": [
    "df_tel = pd.read_csv('data/tele_customer.csv')\n",
    "df_tel['CHURN'].replace({'Active': 0, 'Churned': 1}, inplace = True)\n",
    "df_tel_dummy = pd.get_dummies(df_tel)\n",
    "df_tel_y = df_tel_dummy['CHURN']\n",
    "df_tel_x = df_tel_dummy.drop(columns = 'CHURN')\n",
    "\n",
    "df_train_x, df_test_x, df_train_y, df_test_y = train_test_split(df_tel_x, df_tel_y, test_size=0.2, random_state=1234)"
   ]
  },
  {
   "cell_type": "code",
   "execution_count": 109,
   "id": "73299980",
   "metadata": {},
   "outputs": [],
   "source": [
    "df_train, df_test = train_test_split(df_tel, test_size= 0.2, random_state=1234)"
   ]
  },
  {
   "cell_type": "code",
   "execution_count": null,
   "id": "8dc0124c",
   "metadata": {},
   "outputs": [],
   "source": []
  },
  {
   "cell_type": "code",
   "execution_count": null,
   "id": "3518ed89",
   "metadata": {},
   "outputs": [],
   "source": []
  },
  {
   "cell_type": "code",
   "execution_count": null,
   "id": "f1eff9c5",
   "metadata": {},
   "outputs": [],
   "source": []
  }
 ],
 "metadata": {
  "kernelspec": {
   "display_name": "Python 3 (ipykernel)",
   "language": "python",
   "name": "python3"
  },
  "language_info": {
   "codemirror_mode": {
    "name": "ipython",
    "version": 3
   },
   "file_extension": ".py",
   "mimetype": "text/x-python",
   "name": "python",
   "nbconvert_exporter": "python",
   "pygments_lexer": "ipython3",
   "version": "3.8.12"
  }
 },
 "nbformat": 4,
 "nbformat_minor": 5
}
