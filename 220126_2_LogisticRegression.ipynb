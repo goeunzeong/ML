{
 "cells": [
  {
   "cell_type": "code",
   "execution_count": 1,
   "id": "6be51ea0",
   "metadata": {},
   "outputs": [],
   "source": [
    "import pandas as pd \n",
    "import numpy as np \n",
    "import matplotlib as mpl\n",
    "import matplotlib.pyplot as plt\n",
    "mpl.rc('font', family = 'Malgun Gothic')\n",
    "plt.rcParams['axes.unicode_minus'] = False\n",
    "plt.rcParams['font.family'] = 'Malgun Gothic'\n",
    "import seaborn as sns"
   ]
  },
  {
   "cell_type": "code",
   "execution_count": 4,
   "id": "5460b332",
   "metadata": {},
   "outputs": [],
   "source": [
    "from sklearn.model_selection import train_test_split\n",
    "# 로지스틱 회귀모델\n",
    "from statsmodels.api import Logit\n",
    "# 평가 함수\n",
    "from sklearn.metrics import accuracy_score\n",
    "# 혼동 행렬\n",
    "from sklearn.metrics import confusion_matrix\n",
    "# 분류 성능 리포트\n",
    "from sklearn.metrics import classification_report"
   ]
  },
  {
   "cell_type": "code",
   "execution_count": 5,
   "id": "4ce6930e",
   "metadata": {},
   "outputs": [
    {
     "data": {
      "text/html": [
       "<div>\n",
       "<style scoped>\n",
       "    .dataframe tbody tr th:only-of-type {\n",
       "        vertical-align: middle;\n",
       "    }\n",
       "\n",
       "    .dataframe tbody tr th {\n",
       "        vertical-align: top;\n",
       "    }\n",
       "\n",
       "    .dataframe thead th {\n",
       "        text-align: right;\n",
       "    }\n",
       "</style>\n",
       "<table border=\"1\" class=\"dataframe\">\n",
       "  <thead>\n",
       "    <tr style=\"text-align: right;\">\n",
       "      <th></th>\n",
       "      <th>BAD</th>\n",
       "      <th>LOAN</th>\n",
       "      <th>MORTDUE</th>\n",
       "      <th>VALUE</th>\n",
       "      <th>REASON</th>\n",
       "      <th>JOB</th>\n",
       "      <th>YOJ</th>\n",
       "      <th>DEROG</th>\n",
       "      <th>DELINQ</th>\n",
       "      <th>CLAGE</th>\n",
       "      <th>NINQ</th>\n",
       "      <th>CLNO</th>\n",
       "      <th>DEBTINC</th>\n",
       "    </tr>\n",
       "  </thead>\n",
       "  <tbody>\n",
       "    <tr>\n",
       "      <th>0</th>\n",
       "      <td>1</td>\n",
       "      <td>1700</td>\n",
       "      <td>30548</td>\n",
       "      <td>40320.0</td>\n",
       "      <td>HomeImp</td>\n",
       "      <td>Other</td>\n",
       "      <td>9.0</td>\n",
       "      <td>0</td>\n",
       "      <td>0.0</td>\n",
       "      <td>101.466002</td>\n",
       "      <td>1.0</td>\n",
       "      <td>8</td>\n",
       "      <td>37.113614</td>\n",
       "    </tr>\n",
       "    <tr>\n",
       "      <th>1</th>\n",
       "      <td>1</td>\n",
       "      <td>1800</td>\n",
       "      <td>28502</td>\n",
       "      <td>43034.0</td>\n",
       "      <td>HomeImp</td>\n",
       "      <td>Other</td>\n",
       "      <td>11.0</td>\n",
       "      <td>0</td>\n",
       "      <td>0.0</td>\n",
       "      <td>88.766030</td>\n",
       "      <td>0.0</td>\n",
       "      <td>8</td>\n",
       "      <td>36.884894</td>\n",
       "    </tr>\n",
       "    <tr>\n",
       "      <th>2</th>\n",
       "      <td>0</td>\n",
       "      <td>2300</td>\n",
       "      <td>102370</td>\n",
       "      <td>120953.0</td>\n",
       "      <td>HomeImp</td>\n",
       "      <td>Office</td>\n",
       "      <td>2.0</td>\n",
       "      <td>0</td>\n",
       "      <td>0.0</td>\n",
       "      <td>90.992533</td>\n",
       "      <td>0.0</td>\n",
       "      <td>13</td>\n",
       "      <td>31.588503</td>\n",
       "    </tr>\n",
       "    <tr>\n",
       "      <th>3</th>\n",
       "      <td>1</td>\n",
       "      <td>2400</td>\n",
       "      <td>34863</td>\n",
       "      <td>47471.0</td>\n",
       "      <td>HomeImp</td>\n",
       "      <td>Mgr</td>\n",
       "      <td>12.0</td>\n",
       "      <td>0</td>\n",
       "      <td>0.0</td>\n",
       "      <td>70.491080</td>\n",
       "      <td>1.0</td>\n",
       "      <td>21</td>\n",
       "      <td>38.263601</td>\n",
       "    </tr>\n",
       "    <tr>\n",
       "      <th>4</th>\n",
       "      <td>0</td>\n",
       "      <td>2400</td>\n",
       "      <td>98449</td>\n",
       "      <td>117195.0</td>\n",
       "      <td>HomeImp</td>\n",
       "      <td>Office</td>\n",
       "      <td>4.0</td>\n",
       "      <td>0</td>\n",
       "      <td>0.0</td>\n",
       "      <td>93.811775</td>\n",
       "      <td>0.0</td>\n",
       "      <td>13</td>\n",
       "      <td>29.681827</td>\n",
       "    </tr>\n",
       "  </tbody>\n",
       "</table>\n",
       "</div>"
      ],
      "text/plain": [
       "   BAD  LOAN  MORTDUE     VALUE   REASON     JOB   YOJ  DEROG  DELINQ  \\\n",
       "0    1  1700    30548   40320.0  HomeImp   Other   9.0      0     0.0   \n",
       "1    1  1800    28502   43034.0  HomeImp   Other  11.0      0     0.0   \n",
       "2    0  2300   102370  120953.0  HomeImp  Office   2.0      0     0.0   \n",
       "3    1  2400    34863   47471.0  HomeImp     Mgr  12.0      0     0.0   \n",
       "4    0  2400    98449  117195.0  HomeImp  Office   4.0      0     0.0   \n",
       "\n",
       "        CLAGE  NINQ  CLNO    DEBTINC  \n",
       "0  101.466002   1.0     8  37.113614  \n",
       "1   88.766030   0.0     8  36.884894  \n",
       "2   90.992533   0.0    13  31.588503  \n",
       "3   70.491080   1.0    21  38.263601  \n",
       "4   93.811775   0.0    13  29.681827  "
      ]
     },
     "execution_count": 5,
     "metadata": {},
     "output_type": "execute_result"
    }
   ],
   "source": [
    "df_raw = pd.read_csv('data/bank.csv')\n",
    "df_raw.head()"
   ]
  },
  {
   "cell_type": "code",
   "execution_count": 6,
   "id": "539a96de",
   "metadata": {},
   "outputs": [
    {
     "data": {
      "text/plain": [
       "BAD          0\n",
       "LOAN         0\n",
       "MORTDUE      0\n",
       "VALUE       14\n",
       "REASON       0\n",
       "JOB         81\n",
       "YOJ        205\n",
       "DEROG        0\n",
       "DELINQ      30\n",
       "CLAGE       37\n",
       "NINQ        56\n",
       "CLNO         0\n",
       "DEBTINC      0\n",
       "dtype: int64"
      ]
     },
     "execution_count": 6,
     "metadata": {},
     "output_type": "execute_result"
    }
   ],
   "source": [
    "# 결측치 확인\n",
    "\n",
    "df_raw.isnull().sum(axis = 0)"
   ]
  },
  {
   "cell_type": "code",
   "execution_count": 7,
   "id": "72437aed",
   "metadata": {},
   "outputs": [
    {
     "name": "stderr",
     "output_type": "stream",
     "text": [
      "C:\\Users\\User\\AppData\\Local\\Temp/ipykernel_9036/490492403.py:5: FutureWarning: Dropping of nuisance columns in DataFrame reductions (with 'numeric_only=None') is deprecated; in a future version this will raise TypeError.  Select only valid columns before calling the reduction.\n",
      "  df_raw.fillna(df_raw.mean(), inplace = True)\n"
     ]
    }
   ],
   "source": [
    "# 결측치 처리\n",
    "\n",
    "# job 은 other(기타)로, 나머지는 변수의 평균값으로 대체\n",
    "df_raw['JOB'].fillna('Other', inplace = True)\n",
    "df_raw.fillna(df_raw.mean(), inplace = True)"
   ]
  },
  {
   "cell_type": "code",
   "execution_count": 8,
   "id": "bda0f013",
   "metadata": {},
   "outputs": [
    {
     "data": {
      "text/plain": [
       "BAD        0\n",
       "LOAN       0\n",
       "MORTDUE    0\n",
       "VALUE      0\n",
       "REASON     0\n",
       "JOB        0\n",
       "YOJ        0\n",
       "DEROG      0\n",
       "DELINQ     0\n",
       "CLAGE      0\n",
       "NINQ       0\n",
       "CLNO       0\n",
       "DEBTINC    0\n",
       "dtype: int64"
      ]
     },
     "execution_count": 8,
     "metadata": {},
     "output_type": "execute_result"
    }
   ],
   "source": [
    "df_raw.isnull().sum(axis = 0)"
   ]
  },
  {
   "cell_type": "code",
   "execution_count": 9,
   "id": "55a8bdcd",
   "metadata": {},
   "outputs": [
    {
     "name": "stdout",
     "output_type": "stream",
     "text": [
      "학습용 데이터 크기: (2623, 13)\n",
      "평가용 데이터 크기: (1125, 13)\n"
     ]
    }
   ],
   "source": [
    "# 데이터 분할\n",
    "df_train, df_test = train_test_split(df_raw, test_size= 0.3, random_state=1234)\n",
    "print('학습용 데이터 크기: {}'.format(df_train.shape))\n",
    "print('평가용 데이터 크기: {}'.format(df_test.shape))"
   ]
  },
  {
   "cell_type": "code",
   "execution_count": 19,
   "id": "b15b86f2",
   "metadata": {},
   "outputs": [
    {
     "name": "stdout",
     "output_type": "stream",
     "text": [
      "Optimization terminated successfully.\n",
      "         Current function value: 0.237614\n",
      "         Iterations 8\n",
      "                           Logit Regression Results                           \n",
      "==============================================================================\n",
      "Dep. Variable:                    BAD   No. Observations:                 2623\n",
      "Model:                          Logit   Df Residuals:                     2606\n",
      "Method:                           MLE   Df Model:                           16\n",
      "Date:                Wed, 26 Jan 2022   Pseudo R-squ.:                  0.2257\n",
      "Time:                        16:51:26   Log-Likelihood:                -623.26\n",
      "converged:                       True   LL-Null:                       -804.91\n",
      "Covariance Type:            nonrobust   LLR p-value:                 1.743e-67\n",
      "========================================================================================\n",
      "                           coef    std err          z      P>|z|      [0.025      0.975]\n",
      "----------------------------------------------------------------------------------------\n",
      "Intercept               -5.0942      0.560     -9.100      0.000      -6.191      -3.997\n",
      "C(REASON)[T.HomeImp]    -0.0080      0.176     -0.045      0.964      -0.354       0.338\n",
      "C(JOB)[T.Office]        -0.8256      0.294     -2.807      0.005      -1.402      -0.249\n",
      "C(JOB)[T.Other]         -0.3304      0.227     -1.454      0.146      -0.776       0.115\n",
      "C(JOB)[T.ProfExe]       -0.4247      0.271     -1.566      0.117      -0.956       0.107\n",
      "C(JOB)[T.Sales]          1.1323      0.476      2.381      0.017       0.200       2.064\n",
      "C(JOB)[T.Self]          -0.0454      0.432     -0.105      0.916      -0.892       0.801\n",
      "LOAN                 -1.223e-05   8.08e-06     -1.514      0.130   -2.81e-05     3.6e-06\n",
      "MORTDUE               -2.14e-06   3.57e-06     -0.599      0.549   -9.15e-06    4.87e-06\n",
      "VALUE                 3.061e-06   3.04e-06      1.008      0.313   -2.89e-06    9.01e-06\n",
      "YOJ                     -0.0053      0.012     -0.461      0.645      -0.028       0.017\n",
      "DEROG                    0.6221      0.103      6.043      0.000       0.420       0.824\n",
      "DELINQ                   0.7456      0.077      9.648      0.000       0.594       0.897\n",
      "CLAGE                   -0.0050      0.001     -4.320      0.000      -0.007      -0.003\n",
      "NINQ                     0.0939      0.044      2.131      0.033       0.008       0.180\n",
      "CLNO                    -0.0230      0.009     -2.587      0.010      -0.040      -0.006\n",
      "DEBTINC                  0.1097      0.012      8.829      0.000       0.085       0.134\n",
      "========================================================================================\n"
     ]
    }
   ],
   "source": [
    "# 모델 및 회귀계수 검토\n",
    "\n",
    "# from_formula 함수를 이용하여 변수 역할 지정\n",
    "log_model = Logit.from_formula(\"BAD ~ LOAN + MORTDUE + VALUE + C(REASON) + C(JOB) + YOJ + DEROG + DELINQ + CLAGE + NINQ + CLNO + DEBTINC\", df_train)\n",
    "\n",
    "# 모델 적용\n",
    "log_result = log_model.fit()\n",
    "\n",
    "# 결과 출력\n",
    "print(log_result.summary())"
   ]
  },
  {
   "cell_type": "code",
   "execution_count": 20,
   "id": "943d8eee",
   "metadata": {},
   "outputs": [
    {
     "name": "stdout",
     "output_type": "stream",
     "text": [
      "Optimization terminated successfully.\n",
      "         Current function value: 0.237614\n",
      "         Iterations 8\n",
      "                           Logit Regression Results                           \n",
      "==============================================================================\n",
      "Dep. Variable:                    BAD   No. Observations:                 2623\n",
      "Model:                          Logit   Df Residuals:                     2607\n",
      "Method:                           MLE   Df Model:                           15\n",
      "Date:                Wed, 26 Jan 2022   Pseudo R-squ.:                  0.2257\n",
      "Time:                        16:51:51   Log-Likelihood:                -623.26\n",
      "converged:                       True   LL-Null:                       -804.91\n",
      "Covariance Type:            nonrobust   LLR p-value:                 3.476e-68\n",
      "=====================================================================================\n",
      "                        coef    std err          z      P>|z|      [0.025      0.975]\n",
      "-------------------------------------------------------------------------------------\n",
      "Intercept            -5.0970      0.556     -9.160      0.000      -6.188      -4.006\n",
      "C(JOB)[T.Office]     -0.8253      0.294     -2.807      0.005      -1.402      -0.249\n",
      "C(JOB)[T.Other]      -0.3303      0.227     -1.454      0.146      -0.776       0.115\n",
      "C(JOB)[T.ProfExe]    -0.4251      0.271     -1.569      0.117      -0.956       0.106\n",
      "C(JOB)[T.Sales]       1.1333      0.475      2.385      0.017       0.202       2.065\n",
      "C(JOB)[T.Self]       -0.0476      0.429     -0.111      0.912      -0.889       0.793\n",
      "LOAN              -1.219e-05   8.01e-06     -1.521      0.128   -2.79e-05    3.52e-06\n",
      "MORTDUE            -2.13e-06   3.57e-06     -0.597      0.550   -9.12e-06    4.86e-06\n",
      "VALUE              3.051e-06   3.03e-06      1.008      0.313   -2.88e-06    8.98e-06\n",
      "YOJ                  -0.0054      0.012     -0.463      0.643      -0.028       0.017\n",
      "DEROG                 0.6221      0.103      6.041      0.000       0.420       0.824\n",
      "DELINQ                0.7454      0.077      9.671      0.000       0.594       0.896\n",
      "CLAGE                -0.0050      0.001     -4.320      0.000      -0.007      -0.003\n",
      "NINQ                  0.0941      0.044      2.152      0.031       0.008       0.180\n",
      "CLNO                 -0.0229      0.009     -2.597      0.009      -0.040      -0.006\n",
      "DEBTINC               0.1097      0.012      8.834      0.000       0.085       0.134\n",
      "=====================================================================================\n"
     ]
    }
   ],
   "source": [
    "log_model = Logit.from_formula(\"BAD ~ LOAN + MORTDUE + VALUE + C(JOB) + YOJ + DEROG + DELINQ + CLAGE + NINQ + CLNO + DEBTINC\", df_train)\n",
    "\n",
    "log_result = log_model.fit()\n",
    "\n",
    "print(log_result.summary())"
   ]
  },
  {
   "cell_type": "code",
   "execution_count": 21,
   "id": "5f39a180",
   "metadata": {},
   "outputs": [
    {
     "name": "stdout",
     "output_type": "stream",
     "text": [
      "Optimization terminated successfully.\n",
      "         Current function value: 0.237655\n",
      "         Iterations 8\n",
      "                           Logit Regression Results                           \n",
      "==============================================================================\n",
      "Dep. Variable:                    BAD   No. Observations:                 2623\n",
      "Model:                          Logit   Df Residuals:                     2608\n",
      "Method:                           MLE   Df Model:                           14\n",
      "Date:                Wed, 26 Jan 2022   Pseudo R-squ.:                  0.2255\n",
      "Time:                        16:52:22   Log-Likelihood:                -623.37\n",
      "converged:                       True   LL-Null:                       -804.91\n",
      "Covariance Type:            nonrobust   LLR p-value:                 7.421e-69\n",
      "=====================================================================================\n",
      "                        coef    std err          z      P>|z|      [0.025      0.975]\n",
      "-------------------------------------------------------------------------------------\n",
      "Intercept            -5.1408      0.549     -9.364      0.000      -6.217      -4.065\n",
      "C(JOB)[T.Office]     -0.8144      0.293     -2.782      0.005      -1.388      -0.241\n",
      "C(JOB)[T.Other]      -0.3287      0.227     -1.448      0.148      -0.774       0.116\n",
      "C(JOB)[T.ProfExe]    -0.4161      0.270     -1.539      0.124      -0.946       0.114\n",
      "C(JOB)[T.Sales]       1.1524      0.474      2.432      0.015       0.224       2.081\n",
      "C(JOB)[T.Self]       -0.0261      0.427     -0.061      0.951      -0.862       0.810\n",
      "LOAN              -1.265e-05   7.95e-06     -1.592      0.111   -2.82e-05    2.93e-06\n",
      "MORTDUE           -1.908e-06   3.54e-06     -0.539      0.590   -8.85e-06    5.03e-06\n",
      "VALUE              2.907e-06   3.01e-06      0.964      0.335      -3e-06    8.82e-06\n",
      "DEROG                 0.6263      0.103      6.103      0.000       0.425       0.827\n",
      "DELINQ                0.7435      0.077      9.680      0.000       0.593       0.894\n",
      "CLAGE                -0.0052      0.001     -4.493      0.000      -0.007      -0.003\n",
      "NINQ                  0.0952      0.044      2.184      0.029       0.010       0.181\n",
      "CLNO                 -0.0231      0.009     -2.620      0.009      -0.040      -0.006\n",
      "DEBTINC               0.1103      0.012      8.916      0.000       0.086       0.135\n",
      "=====================================================================================\n"
     ]
    }
   ],
   "source": [
    "log_model = Logit.from_formula(\"BAD ~ LOAN + MORTDUE + VALUE + C(JOB) + DEROG + DELINQ + CLAGE + NINQ + CLNO + DEBTINC\", df_train)\n",
    "\n",
    "log_result = log_model.fit()\n",
    "\n",
    "print(log_result.summary())"
   ]
  },
  {
   "cell_type": "code",
   "execution_count": 16,
   "id": "dc55160f",
   "metadata": {},
   "outputs": [
    {
     "name": "stdout",
     "output_type": "stream",
     "text": [
      "Optimization terminated successfully.\n",
      "         Current function value: 0.237713\n",
      "         Iterations 8\n",
      "                           Logit Regression Results                           \n",
      "==============================================================================\n",
      "Dep. Variable:                    BAD   No. Observations:                 2623\n",
      "Model:                          Logit   Df Residuals:                     2609\n",
      "Method:                           MLE   Df Model:                           13\n",
      "Date:                Wed, 26 Jan 2022   Pseudo R-squ.:                  0.2254\n",
      "Time:                        16:50:04   Log-Likelihood:                -623.52\n",
      "converged:                       True   LL-Null:                       -804.91\n",
      "Covariance Type:            nonrobust   LLR p-value:                 1.589e-69\n",
      "==================================================================================\n",
      "                     coef    std err          z      P>|z|      [0.025      0.975]\n",
      "----------------------------------------------------------------------------------\n",
      "Intercept         -5.1303      0.549     -9.337      0.000      -6.207      -4.053\n",
      "JOB[T.Office]     -0.7899      0.289     -2.731      0.006      -1.357      -0.223\n",
      "JOB[T.Other]      -0.3107      0.225     -1.381      0.167      -0.752       0.130\n",
      "JOB[T.ProfExe]    -0.3971      0.269     -1.479      0.139      -0.924       0.129\n",
      "JOB[T.Sales]       1.1732      0.474      2.475      0.013       0.244       2.102\n",
      "JOB[T.Self]       -0.0043      0.425     -0.010      0.992      -0.837       0.828\n",
      "LOAN           -1.191e-05   7.81e-06     -1.524      0.128   -2.72e-05    3.41e-06\n",
      "VALUE           1.593e-06   1.73e-06      0.919      0.358    -1.8e-06    4.99e-06\n",
      "DEROG              0.6274      0.103      6.121      0.000       0.427       0.828\n",
      "DELINQ             0.7445      0.077      9.693      0.000       0.594       0.895\n",
      "CLAGE             -0.0052      0.001     -4.477      0.000      -0.007      -0.003\n",
      "NINQ               0.0936      0.044      2.149      0.032       0.008       0.179\n",
      "CLNO              -0.0246      0.008     -2.915      0.004      -0.041      -0.008\n",
      "DEBTINC            0.1098      0.012      8.891      0.000       0.086       0.134\n",
      "==================================================================================\n"
     ]
    }
   ],
   "source": [
    "log_model = Logit.from_formula(\"BAD ~ LOAN + VALUE + C(JOB) + DEROG + DELINQ + CLAGE + NINQ + CLNO + DEBTINC\", df_train)\n",
    "\n",
    "log_result = log_model.fit()\n",
    "\n",
    "print(log_result.summary())"
   ]
  },
  {
   "cell_type": "code",
   "execution_count": 22,
   "id": "e40c0525",
   "metadata": {},
   "outputs": [
    {
     "name": "stdout",
     "output_type": "stream",
     "text": [
      "Optimization terminated successfully.\n",
      "         Current function value: 0.237870\n",
      "         Iterations 8\n",
      "                           Logit Regression Results                           \n",
      "==============================================================================\n",
      "Dep. Variable:                    BAD   No. Observations:                 2623\n",
      "Model:                          Logit   Df Residuals:                     2610\n",
      "Method:                           MLE   Df Model:                           12\n",
      "Date:                Wed, 26 Jan 2022   Pseudo R-squ.:                  0.2248\n",
      "Time:                        16:52:57   Log-Likelihood:                -623.93\n",
      "converged:                       True   LL-Null:                       -804.91\n",
      "Covariance Type:            nonrobust   LLR p-value:                 4.215e-70\n",
      "=====================================================================================\n",
      "                        coef    std err          z      P>|z|      [0.025      0.975]\n",
      "-------------------------------------------------------------------------------------\n",
      "Intercept            -5.0446      0.542     -9.314      0.000      -6.106      -3.983\n",
      "C(JOB)[T.Office]     -0.8030      0.289     -2.780      0.005      -1.369      -0.237\n",
      "C(JOB)[T.Other]      -0.3318      0.224     -1.483      0.138      -0.770       0.107\n",
      "C(JOB)[T.ProfExe]    -0.3711      0.267     -1.390      0.165      -0.895       0.152\n",
      "C(JOB)[T.Sales]       1.1964      0.473      2.531      0.011       0.270       2.123\n",
      "C(JOB)[T.Self]        0.0429      0.423      0.101      0.919      -0.786       0.872\n",
      "LOAN              -9.748e-06   7.35e-06     -1.326      0.185   -2.42e-05    4.66e-06\n",
      "DEROG                 0.6233      0.102      6.086      0.000       0.423       0.824\n",
      "DELINQ                0.7392      0.076      9.686      0.000       0.590       0.889\n",
      "CLAGE                -0.0050      0.001     -4.408      0.000      -0.007      -0.003\n",
      "NINQ                  0.0902      0.043      2.078      0.038       0.005       0.175\n",
      "CLNO                 -0.0241      0.008     -2.873      0.004      -0.041      -0.008\n",
      "DEBTINC               0.1104      0.012      8.942      0.000       0.086       0.135\n",
      "=====================================================================================\n"
     ]
    }
   ],
   "source": [
    "log_model = Logit.from_formula(\"BAD ~ LOAN + C(JOB) + DEROG + DELINQ + CLAGE + NINQ + CLNO + DEBTINC\", df_train)\n",
    "\n",
    "log_result = log_model.fit()\n",
    "\n",
    "print(log_result.summary())"
   ]
  },
  {
   "cell_type": "code",
   "execution_count": 23,
   "id": "ce5a982d",
   "metadata": {},
   "outputs": [
    {
     "name": "stdout",
     "output_type": "stream",
     "text": [
      "Optimization terminated successfully.\n",
      "         Current function value: 0.238224\n",
      "         Iterations 8\n",
      "                           Logit Regression Results                           \n",
      "==============================================================================\n",
      "Dep. Variable:                    BAD   No. Observations:                 2623\n",
      "Model:                          Logit   Df Residuals:                     2611\n",
      "Method:                           MLE   Df Model:                           11\n",
      "Date:                Wed, 26 Jan 2022   Pseudo R-squ.:                  0.2237\n",
      "Time:                        16:53:27   Log-Likelihood:                -624.86\n",
      "converged:                       True   LL-Null:                       -804.91\n",
      "Covariance Type:            nonrobust   LLR p-value:                 1.774e-70\n",
      "=====================================================================================\n",
      "                        coef    std err          z      P>|z|      [0.025      0.975]\n",
      "-------------------------------------------------------------------------------------\n",
      "Intercept            -5.1652      0.534     -9.664      0.000      -6.213      -4.118\n",
      "C(JOB)[T.Office]     -0.8003      0.289     -2.773      0.006      -1.366      -0.235\n",
      "C(JOB)[T.Other]      -0.3125      0.223     -1.401      0.161      -0.750       0.125\n",
      "C(JOB)[T.ProfExe]    -0.3513      0.267     -1.317      0.188      -0.874       0.171\n",
      "C(JOB)[T.Sales]       1.2886      0.467      2.762      0.006       0.374       2.203\n",
      "C(JOB)[T.Self]       -0.0369      0.419     -0.088      0.930      -0.858       0.784\n",
      "DEROG                 0.6269      0.102      6.121      0.000       0.426       0.828\n",
      "DELINQ                0.7513      0.076      9.851      0.000       0.602       0.901\n",
      "CLAGE                -0.0052      0.001     -4.539      0.000      -0.007      -0.003\n",
      "NINQ                  0.0875      0.043      2.016      0.044       0.002       0.173\n",
      "CLNO                 -0.0248      0.008     -2.965      0.003      -0.041      -0.008\n",
      "DEBTINC               0.1092      0.012      8.882      0.000       0.085       0.133\n",
      "=====================================================================================\n"
     ]
    }
   ],
   "source": [
    "log_model = Logit.from_formula(\"BAD ~ C(JOB) + DEROG + DELINQ + CLAGE + NINQ + CLNO + DEBTINC\", df_train)\n",
    "\n",
    "log_result = log_model.fit()\n",
    "\n",
    "print(log_result.summary())"
   ]
  },
  {
   "cell_type": "code",
   "execution_count": 29,
   "id": "a00616de",
   "metadata": {},
   "outputs": [
    {
     "name": "stdout",
     "output_type": "stream",
     "text": [
      "학습용 데이터 정확도: 0.921\n",
      "평가용 데이터 정확도: 0.924\n"
     ]
    }
   ],
   "source": [
    "# 예측 및 성능 평가\n",
    "\n",
    "# 학습용 데이터 예측\n",
    "y_pred = log_result.predict(df_train)\n",
    "# 0과 1의 값을 가진 클래스로 변환\n",
    "# 0.5를 기준으로 0.5 이상이면 1, 아니면 0\n",
    "y_pred_class = (y_pred > 0.5).astype(int)\n",
    "print('학습용 데이터 정확도: {:.3}'.format(accuracy_score(df_train['BAD'], y_pred_class)))\n",
    "#평가용 데이터 예측\n",
    "y_pred = log_result.predict(df_test)\n",
    "y_pred_class = (y_pred > 0.5).astype(int)\n",
    "print('평가용 데이터 정확도: {:.3}'.format(accuracy_score(df_test['BAD'], y_pred_class)))"
   ]
  },
  {
   "cell_type": "code",
   "execution_count": 30,
   "id": "552dd51c",
   "metadata": {},
   "outputs": [
    {
     "name": "stdout",
     "output_type": "stream",
     "text": [
      "Confusion Matrix : \n",
      "[[1016    5]\n",
      " [  81   23]]\n"
     ]
    }
   ],
   "source": [
    "# 혼동행렬\n",
    "print('Confusion Matrix : \\n{}'.format(confusion_matrix(df_test['BAD'], y_pred_class)))"
   ]
  },
  {
   "cell_type": "code",
   "execution_count": 31,
   "id": "a9ada75e",
   "metadata": {},
   "outputs": [
    {
     "name": "stdout",
     "output_type": "stream",
     "text": [
      "Classification Report: \n",
      "               precision    recall  f1-score   support\n",
      "\n",
      "           0       0.93      1.00      0.96      1021\n",
      "           1       0.82      0.22      0.35       104\n",
      "\n",
      "    accuracy                           0.92      1125\n",
      "   macro avg       0.87      0.61      0.65      1125\n",
      "weighted avg       0.92      0.92      0.90      1125\n",
      "\n"
     ]
    }
   ],
   "source": [
    "# 평가\n",
    "print('Classification Report: \\n', classification_report(df_test['BAD'], y_pred_class))"
   ]
  },
  {
   "cell_type": "code",
   "execution_count": null,
   "id": "2e95f460",
   "metadata": {},
   "outputs": [],
   "source": [
    "# 설명변수 중요도\n",
    "\n",
    "df_logistic_coef = pd.DataFrame({'Coef': log_result.params.values[1:]}, index = log_model.exog_names[1:])\n",
    "df_logistic_coef.plot.barh( y = 'Coef')"
   ]
  },
  {
   "cell_type": "markdown",
   "id": "e628e71f",
   "metadata": {},
   "source": [
    "## 실습해보기"
   ]
  },
  {
   "cell_type": "code",
   "execution_count": 32,
   "id": "d8d92a5c",
   "metadata": {},
   "outputs": [
    {
     "data": {
      "text/html": [
       "<div>\n",
       "<style scoped>\n",
       "    .dataframe tbody tr th:only-of-type {\n",
       "        vertical-align: middle;\n",
       "    }\n",
       "\n",
       "    .dataframe tbody tr th {\n",
       "        vertical-align: top;\n",
       "    }\n",
       "\n",
       "    .dataframe thead th {\n",
       "        text-align: right;\n",
       "    }\n",
       "</style>\n",
       "<table border=\"1\" class=\"dataframe\">\n",
       "  <thead>\n",
       "    <tr style=\"text-align: right;\">\n",
       "      <th></th>\n",
       "      <th>CHURN</th>\n",
       "      <th>CUSTOMER_ID</th>\n",
       "      <th>GENDER</th>\n",
       "      <th>AGE</th>\n",
       "      <th>CHARGE_TYPE</th>\n",
       "      <th>HANDSET</th>\n",
       "      <th>USAGE_BAND</th>\n",
       "      <th>SERVICE_DURATION</th>\n",
       "      <th>DROPPED_CALLS</th>\n",
       "      <th>PEAK_CALLS_NO</th>\n",
       "      <th>PEAK_CALLS_TIME</th>\n",
       "      <th>WEEKEND_CALLS_NO</th>\n",
       "      <th>WEEKEND_CALLS_TIME</th>\n",
       "      <th>TOTAL_CALLS_NO</th>\n",
       "      <th>TOTAL_CALLS_TIME</th>\n",
       "    </tr>\n",
       "  </thead>\n",
       "  <tbody>\n",
       "    <tr>\n",
       "      <th>0</th>\n",
       "      <td>Active</td>\n",
       "      <td>K102990</td>\n",
       "      <td>F</td>\n",
       "      <td>31</td>\n",
       "      <td>CAT 100</td>\n",
       "      <td>ASAD170</td>\n",
       "      <td>Med</td>\n",
       "      <td>33.33</td>\n",
       "      <td>6</td>\n",
       "      <td>218</td>\n",
       "      <td>379.8</td>\n",
       "      <td>9</td>\n",
       "      <td>21.6</td>\n",
       "      <td>366</td>\n",
       "      <td>632.4</td>\n",
       "    </tr>\n",
       "    <tr>\n",
       "      <th>1</th>\n",
       "      <td>Active</td>\n",
       "      <td>K103280</td>\n",
       "      <td>M</td>\n",
       "      <td>27</td>\n",
       "      <td>CAT 100</td>\n",
       "      <td>S50</td>\n",
       "      <td>Med</td>\n",
       "      <td>30.87</td>\n",
       "      <td>10</td>\n",
       "      <td>373</td>\n",
       "      <td>656.4</td>\n",
       "      <td>11</td>\n",
       "      <td>28.0</td>\n",
       "      <td>411</td>\n",
       "      <td>810.4</td>\n",
       "    </tr>\n",
       "    <tr>\n",
       "      <th>2</th>\n",
       "      <td>Active</td>\n",
       "      <td>K103660</td>\n",
       "      <td>M</td>\n",
       "      <td>27</td>\n",
       "      <td>CAT 100</td>\n",
       "      <td>ASAD170</td>\n",
       "      <td>Med</td>\n",
       "      <td>49.40</td>\n",
       "      <td>11</td>\n",
       "      <td>260</td>\n",
       "      <td>582.0</td>\n",
       "      <td>0</td>\n",
       "      <td>0.0</td>\n",
       "      <td>265</td>\n",
       "      <td>614.1</td>\n",
       "    </tr>\n",
       "    <tr>\n",
       "      <th>3</th>\n",
       "      <td>Active</td>\n",
       "      <td>K103730</td>\n",
       "      <td>M</td>\n",
       "      <td>61</td>\n",
       "      <td>CAT 100</td>\n",
       "      <td>ASAD170</td>\n",
       "      <td>Med</td>\n",
       "      <td>48.60</td>\n",
       "      <td>1</td>\n",
       "      <td>294</td>\n",
       "      <td>661.8</td>\n",
       "      <td>14</td>\n",
       "      <td>101.5</td>\n",
       "      <td>326</td>\n",
       "      <td>844.0</td>\n",
       "    </tr>\n",
       "    <tr>\n",
       "      <th>4</th>\n",
       "      <td>Active</td>\n",
       "      <td>K104560</td>\n",
       "      <td>F</td>\n",
       "      <td>52</td>\n",
       "      <td>CAT 100</td>\n",
       "      <td>S50</td>\n",
       "      <td>Med</td>\n",
       "      <td>56.03</td>\n",
       "      <td>0</td>\n",
       "      <td>221</td>\n",
       "      <td>555.6</td>\n",
       "      <td>7</td>\n",
       "      <td>25.0</td>\n",
       "      <td>274</td>\n",
       "      <td>673.0</td>\n",
       "    </tr>\n",
       "  </tbody>\n",
       "</table>\n",
       "</div>"
      ],
      "text/plain": [
       "    CHURN CUSTOMER_ID GENDER  AGE CHARGE_TYPE  HANDSET USAGE_BAND  \\\n",
       "0  Active     K102990      F   31     CAT 100  ASAD170        Med   \n",
       "1  Active     K103280      M   27     CAT 100      S50        Med   \n",
       "2  Active     K103660      M   27     CAT 100  ASAD170        Med   \n",
       "3  Active     K103730      M   61     CAT 100  ASAD170        Med   \n",
       "4  Active     K104560      F   52     CAT 100      S50        Med   \n",
       "\n",
       "   SERVICE_DURATION  DROPPED_CALLS  PEAK_CALLS_NO  PEAK_CALLS_TIME  \\\n",
       "0             33.33              6            218            379.8   \n",
       "1             30.87             10            373            656.4   \n",
       "2             49.40             11            260            582.0   \n",
       "3             48.60              1            294            661.8   \n",
       "4             56.03              0            221            555.6   \n",
       "\n",
       "   WEEKEND_CALLS_NO  WEEKEND_CALLS_TIME  TOTAL_CALLS_NO  TOTAL_CALLS_TIME  \n",
       "0                 9                21.6             366             632.4  \n",
       "1                11                28.0             411             810.4  \n",
       "2                 0                 0.0             265             614.1  \n",
       "3                14               101.5             326             844.0  \n",
       "4                 7                25.0             274             673.0  "
      ]
     },
     "execution_count": 32,
     "metadata": {},
     "output_type": "execute_result"
    }
   ],
   "source": [
    "df_tel = pd.read_csv('data/tele_customer.csv')\n",
    "df_tel.head()"
   ]
  },
  {
   "cell_type": "code",
   "execution_count": 33,
   "id": "033be492",
   "metadata": {},
   "outputs": [
    {
     "data": {
      "text/plain": [
       "CHURN                 0\n",
       "CUSTOMER_ID           0\n",
       "GENDER                0\n",
       "AGE                   0\n",
       "CHARGE_TYPE           0\n",
       "HANDSET               0\n",
       "USAGE_BAND            0\n",
       "SERVICE_DURATION      0\n",
       "DROPPED_CALLS         0\n",
       "PEAK_CALLS_NO         0\n",
       "PEAK_CALLS_TIME       0\n",
       "WEEKEND_CALLS_NO      0\n",
       "WEEKEND_CALLS_TIME    0\n",
       "TOTAL_CALLS_NO        0\n",
       "TOTAL_CALLS_TIME      0\n",
       "dtype: int64"
      ]
     },
     "execution_count": 33,
     "metadata": {},
     "output_type": "execute_result"
    }
   ],
   "source": [
    "df_tel.isnull().sum()"
   ]
  },
  {
   "cell_type": "code",
   "execution_count": 34,
   "id": "151e15b6",
   "metadata": {},
   "outputs": [
    {
     "data": {
      "text/plain": [
       "(930, 15)"
      ]
     },
     "execution_count": 34,
     "metadata": {},
     "output_type": "execute_result"
    }
   ],
   "source": [
    "df_tel.shape"
   ]
  },
  {
   "cell_type": "markdown",
   "id": "c9405753",
   "metadata": {},
   "source": [
    "# 목표변수 이진화"
   ]
  },
  {
   "cell_type": "code",
   "execution_count": 36,
   "id": "0a28463f",
   "metadata": {},
   "outputs": [
    {
     "data": {
      "text/plain": [
       "array(['Active', 'Churned'], dtype=object)"
      ]
     },
     "execution_count": 36,
     "metadata": {},
     "output_type": "execute_result"
    }
   ],
   "source": [
    "df_tel['CHURN'].unique()"
   ]
  },
  {
   "cell_type": "code",
   "execution_count": 38,
   "id": "2539008e",
   "metadata": {},
   "outputs": [],
   "source": [
    "df_tel['CHURN'].replace({'Active': 0, 'Churned': 1}, inplace = True)"
   ]
  },
  {
   "cell_type": "code",
   "execution_count": 39,
   "id": "e6caa2f9",
   "metadata": {},
   "outputs": [
    {
     "data": {
      "text/html": [
       "<div>\n",
       "<style scoped>\n",
       "    .dataframe tbody tr th:only-of-type {\n",
       "        vertical-align: middle;\n",
       "    }\n",
       "\n",
       "    .dataframe tbody tr th {\n",
       "        vertical-align: top;\n",
       "    }\n",
       "\n",
       "    .dataframe thead th {\n",
       "        text-align: right;\n",
       "    }\n",
       "</style>\n",
       "<table border=\"1\" class=\"dataframe\">\n",
       "  <thead>\n",
       "    <tr style=\"text-align: right;\">\n",
       "      <th></th>\n",
       "      <th>CHURN</th>\n",
       "      <th>CUSTOMER_ID</th>\n",
       "      <th>GENDER</th>\n",
       "      <th>AGE</th>\n",
       "      <th>CHARGE_TYPE</th>\n",
       "      <th>HANDSET</th>\n",
       "      <th>USAGE_BAND</th>\n",
       "      <th>SERVICE_DURATION</th>\n",
       "      <th>DROPPED_CALLS</th>\n",
       "      <th>PEAK_CALLS_NO</th>\n",
       "      <th>PEAK_CALLS_TIME</th>\n",
       "      <th>WEEKEND_CALLS_NO</th>\n",
       "      <th>WEEKEND_CALLS_TIME</th>\n",
       "      <th>TOTAL_CALLS_NO</th>\n",
       "      <th>TOTAL_CALLS_TIME</th>\n",
       "    </tr>\n",
       "  </thead>\n",
       "  <tbody>\n",
       "    <tr>\n",
       "      <th>0</th>\n",
       "      <td>0</td>\n",
       "      <td>K102990</td>\n",
       "      <td>F</td>\n",
       "      <td>31</td>\n",
       "      <td>CAT 100</td>\n",
       "      <td>ASAD170</td>\n",
       "      <td>Med</td>\n",
       "      <td>33.33</td>\n",
       "      <td>6</td>\n",
       "      <td>218</td>\n",
       "      <td>379.8</td>\n",
       "      <td>9</td>\n",
       "      <td>21.6</td>\n",
       "      <td>366</td>\n",
       "      <td>632.4</td>\n",
       "    </tr>\n",
       "    <tr>\n",
       "      <th>1</th>\n",
       "      <td>0</td>\n",
       "      <td>K103280</td>\n",
       "      <td>M</td>\n",
       "      <td>27</td>\n",
       "      <td>CAT 100</td>\n",
       "      <td>S50</td>\n",
       "      <td>Med</td>\n",
       "      <td>30.87</td>\n",
       "      <td>10</td>\n",
       "      <td>373</td>\n",
       "      <td>656.4</td>\n",
       "      <td>11</td>\n",
       "      <td>28.0</td>\n",
       "      <td>411</td>\n",
       "      <td>810.4</td>\n",
       "    </tr>\n",
       "    <tr>\n",
       "      <th>2</th>\n",
       "      <td>0</td>\n",
       "      <td>K103660</td>\n",
       "      <td>M</td>\n",
       "      <td>27</td>\n",
       "      <td>CAT 100</td>\n",
       "      <td>ASAD170</td>\n",
       "      <td>Med</td>\n",
       "      <td>49.40</td>\n",
       "      <td>11</td>\n",
       "      <td>260</td>\n",
       "      <td>582.0</td>\n",
       "      <td>0</td>\n",
       "      <td>0.0</td>\n",
       "      <td>265</td>\n",
       "      <td>614.1</td>\n",
       "    </tr>\n",
       "    <tr>\n",
       "      <th>3</th>\n",
       "      <td>0</td>\n",
       "      <td>K103730</td>\n",
       "      <td>M</td>\n",
       "      <td>61</td>\n",
       "      <td>CAT 100</td>\n",
       "      <td>ASAD170</td>\n",
       "      <td>Med</td>\n",
       "      <td>48.60</td>\n",
       "      <td>1</td>\n",
       "      <td>294</td>\n",
       "      <td>661.8</td>\n",
       "      <td>14</td>\n",
       "      <td>101.5</td>\n",
       "      <td>326</td>\n",
       "      <td>844.0</td>\n",
       "    </tr>\n",
       "    <tr>\n",
       "      <th>4</th>\n",
       "      <td>0</td>\n",
       "      <td>K104560</td>\n",
       "      <td>F</td>\n",
       "      <td>52</td>\n",
       "      <td>CAT 100</td>\n",
       "      <td>S50</td>\n",
       "      <td>Med</td>\n",
       "      <td>56.03</td>\n",
       "      <td>0</td>\n",
       "      <td>221</td>\n",
       "      <td>555.6</td>\n",
       "      <td>7</td>\n",
       "      <td>25.0</td>\n",
       "      <td>274</td>\n",
       "      <td>673.0</td>\n",
       "    </tr>\n",
       "  </tbody>\n",
       "</table>\n",
       "</div>"
      ],
      "text/plain": [
       "   CHURN CUSTOMER_ID GENDER  AGE CHARGE_TYPE  HANDSET USAGE_BAND  \\\n",
       "0      0     K102990      F   31     CAT 100  ASAD170        Med   \n",
       "1      0     K103280      M   27     CAT 100      S50        Med   \n",
       "2      0     K103660      M   27     CAT 100  ASAD170        Med   \n",
       "3      0     K103730      M   61     CAT 100  ASAD170        Med   \n",
       "4      0     K104560      F   52     CAT 100      S50        Med   \n",
       "\n",
       "   SERVICE_DURATION  DROPPED_CALLS  PEAK_CALLS_NO  PEAK_CALLS_TIME  \\\n",
       "0             33.33              6            218            379.8   \n",
       "1             30.87             10            373            656.4   \n",
       "2             49.40             11            260            582.0   \n",
       "3             48.60              1            294            661.8   \n",
       "4             56.03              0            221            555.6   \n",
       "\n",
       "   WEEKEND_CALLS_NO  WEEKEND_CALLS_TIME  TOTAL_CALLS_NO  TOTAL_CALLS_TIME  \n",
       "0                 9                21.6             366             632.4  \n",
       "1                11                28.0             411             810.4  \n",
       "2                 0                 0.0             265             614.1  \n",
       "3                14               101.5             326             844.0  \n",
       "4                 7                25.0             274             673.0  "
      ]
     },
     "execution_count": 39,
     "metadata": {},
     "output_type": "execute_result"
    }
   ],
   "source": [
    "df_tel.head()"
   ]
  },
  {
   "cell_type": "markdown",
   "id": "7851b788",
   "metadata": {},
   "source": [
    "# 불필요한 column drop"
   ]
  },
  {
   "cell_type": "code",
   "execution_count": 40,
   "id": "1947b0a2",
   "metadata": {},
   "outputs": [],
   "source": [
    "df_tel.drop(columns = 'CUSTOMER_ID', inplace = True)"
   ]
  },
  {
   "cell_type": "code",
   "execution_count": 41,
   "id": "22bd944c",
   "metadata": {},
   "outputs": [
    {
     "data": {
      "text/html": [
       "<div>\n",
       "<style scoped>\n",
       "    .dataframe tbody tr th:only-of-type {\n",
       "        vertical-align: middle;\n",
       "    }\n",
       "\n",
       "    .dataframe tbody tr th {\n",
       "        vertical-align: top;\n",
       "    }\n",
       "\n",
       "    .dataframe thead th {\n",
       "        text-align: right;\n",
       "    }\n",
       "</style>\n",
       "<table border=\"1\" class=\"dataframe\">\n",
       "  <thead>\n",
       "    <tr style=\"text-align: right;\">\n",
       "      <th></th>\n",
       "      <th>CHURN</th>\n",
       "      <th>GENDER</th>\n",
       "      <th>AGE</th>\n",
       "      <th>CHARGE_TYPE</th>\n",
       "      <th>HANDSET</th>\n",
       "      <th>USAGE_BAND</th>\n",
       "      <th>SERVICE_DURATION</th>\n",
       "      <th>DROPPED_CALLS</th>\n",
       "      <th>PEAK_CALLS_NO</th>\n",
       "      <th>PEAK_CALLS_TIME</th>\n",
       "      <th>WEEKEND_CALLS_NO</th>\n",
       "      <th>WEEKEND_CALLS_TIME</th>\n",
       "      <th>TOTAL_CALLS_NO</th>\n",
       "      <th>TOTAL_CALLS_TIME</th>\n",
       "    </tr>\n",
       "  </thead>\n",
       "  <tbody>\n",
       "    <tr>\n",
       "      <th>0</th>\n",
       "      <td>0</td>\n",
       "      <td>F</td>\n",
       "      <td>31</td>\n",
       "      <td>CAT 100</td>\n",
       "      <td>ASAD170</td>\n",
       "      <td>Med</td>\n",
       "      <td>33.33</td>\n",
       "      <td>6</td>\n",
       "      <td>218</td>\n",
       "      <td>379.8</td>\n",
       "      <td>9</td>\n",
       "      <td>21.6</td>\n",
       "      <td>366</td>\n",
       "      <td>632.4</td>\n",
       "    </tr>\n",
       "    <tr>\n",
       "      <th>1</th>\n",
       "      <td>0</td>\n",
       "      <td>M</td>\n",
       "      <td>27</td>\n",
       "      <td>CAT 100</td>\n",
       "      <td>S50</td>\n",
       "      <td>Med</td>\n",
       "      <td>30.87</td>\n",
       "      <td>10</td>\n",
       "      <td>373</td>\n",
       "      <td>656.4</td>\n",
       "      <td>11</td>\n",
       "      <td>28.0</td>\n",
       "      <td>411</td>\n",
       "      <td>810.4</td>\n",
       "    </tr>\n",
       "    <tr>\n",
       "      <th>2</th>\n",
       "      <td>0</td>\n",
       "      <td>M</td>\n",
       "      <td>27</td>\n",
       "      <td>CAT 100</td>\n",
       "      <td>ASAD170</td>\n",
       "      <td>Med</td>\n",
       "      <td>49.40</td>\n",
       "      <td>11</td>\n",
       "      <td>260</td>\n",
       "      <td>582.0</td>\n",
       "      <td>0</td>\n",
       "      <td>0.0</td>\n",
       "      <td>265</td>\n",
       "      <td>614.1</td>\n",
       "    </tr>\n",
       "    <tr>\n",
       "      <th>3</th>\n",
       "      <td>0</td>\n",
       "      <td>M</td>\n",
       "      <td>61</td>\n",
       "      <td>CAT 100</td>\n",
       "      <td>ASAD170</td>\n",
       "      <td>Med</td>\n",
       "      <td>48.60</td>\n",
       "      <td>1</td>\n",
       "      <td>294</td>\n",
       "      <td>661.8</td>\n",
       "      <td>14</td>\n",
       "      <td>101.5</td>\n",
       "      <td>326</td>\n",
       "      <td>844.0</td>\n",
       "    </tr>\n",
       "    <tr>\n",
       "      <th>4</th>\n",
       "      <td>0</td>\n",
       "      <td>F</td>\n",
       "      <td>52</td>\n",
       "      <td>CAT 100</td>\n",
       "      <td>S50</td>\n",
       "      <td>Med</td>\n",
       "      <td>56.03</td>\n",
       "      <td>0</td>\n",
       "      <td>221</td>\n",
       "      <td>555.6</td>\n",
       "      <td>7</td>\n",
       "      <td>25.0</td>\n",
       "      <td>274</td>\n",
       "      <td>673.0</td>\n",
       "    </tr>\n",
       "  </tbody>\n",
       "</table>\n",
       "</div>"
      ],
      "text/plain": [
       "   CHURN GENDER  AGE CHARGE_TYPE  HANDSET USAGE_BAND  SERVICE_DURATION  \\\n",
       "0      0      F   31     CAT 100  ASAD170        Med             33.33   \n",
       "1      0      M   27     CAT 100      S50        Med             30.87   \n",
       "2      0      M   27     CAT 100  ASAD170        Med             49.40   \n",
       "3      0      M   61     CAT 100  ASAD170        Med             48.60   \n",
       "4      0      F   52     CAT 100      S50        Med             56.03   \n",
       "\n",
       "   DROPPED_CALLS  PEAK_CALLS_NO  PEAK_CALLS_TIME  WEEKEND_CALLS_NO  \\\n",
       "0              6            218            379.8                 9   \n",
       "1             10            373            656.4                11   \n",
       "2             11            260            582.0                 0   \n",
       "3              1            294            661.8                14   \n",
       "4              0            221            555.6                 7   \n",
       "\n",
       "   WEEKEND_CALLS_TIME  TOTAL_CALLS_NO  TOTAL_CALLS_TIME  \n",
       "0                21.6             366             632.4  \n",
       "1                28.0             411             810.4  \n",
       "2                 0.0             265             614.1  \n",
       "3               101.5             326             844.0  \n",
       "4                25.0             274             673.0  "
      ]
     },
     "execution_count": 41,
     "metadata": {},
     "output_type": "execute_result"
    }
   ],
   "source": [
    "df_tel.head()"
   ]
  },
  {
   "cell_type": "markdown",
   "id": "b8293faf",
   "metadata": {},
   "source": []
  },
  {
   "cell_type": "markdown",
   "id": "a0fc004e",
   "metadata": {},
   "source": [
    "# 데이터 분할"
   ]
  },
  {
   "cell_type": "code",
   "execution_count": 48,
   "id": "613f3861",
   "metadata": {},
   "outputs": [
    {
     "data": {
      "text/html": [
       "<div>\n",
       "<style scoped>\n",
       "    .dataframe tbody tr th:only-of-type {\n",
       "        vertical-align: middle;\n",
       "    }\n",
       "\n",
       "    .dataframe tbody tr th {\n",
       "        vertical-align: top;\n",
       "    }\n",
       "\n",
       "    .dataframe thead th {\n",
       "        text-align: right;\n",
       "    }\n",
       "</style>\n",
       "<table border=\"1\" class=\"dataframe\">\n",
       "  <thead>\n",
       "    <tr style=\"text-align: right;\">\n",
       "      <th></th>\n",
       "      <th>CHURN</th>\n",
       "      <th>GENDER</th>\n",
       "      <th>AGE</th>\n",
       "      <th>CHARGE_TYPE</th>\n",
       "      <th>HANDSET</th>\n",
       "      <th>USAGE_BAND</th>\n",
       "      <th>SERVICE_DURATION</th>\n",
       "      <th>DROPPED_CALLS</th>\n",
       "      <th>PEAK_CALLS_NO</th>\n",
       "      <th>PEAK_CALLS_TIME</th>\n",
       "      <th>WEEKEND_CALLS_NO</th>\n",
       "      <th>WEEKEND_CALLS_TIME</th>\n",
       "      <th>TOTAL_CALLS_NO</th>\n",
       "      <th>TOTAL_CALLS_TIME</th>\n",
       "    </tr>\n",
       "  </thead>\n",
       "  <tbody>\n",
       "    <tr>\n",
       "      <th>0</th>\n",
       "      <td>0</td>\n",
       "      <td>F</td>\n",
       "      <td>31</td>\n",
       "      <td>CAT 100</td>\n",
       "      <td>ASAD170</td>\n",
       "      <td>Med</td>\n",
       "      <td>33.33</td>\n",
       "      <td>6</td>\n",
       "      <td>218</td>\n",
       "      <td>379.8</td>\n",
       "      <td>9</td>\n",
       "      <td>21.6</td>\n",
       "      <td>366</td>\n",
       "      <td>632.4</td>\n",
       "    </tr>\n",
       "    <tr>\n",
       "      <th>1</th>\n",
       "      <td>0</td>\n",
       "      <td>M</td>\n",
       "      <td>27</td>\n",
       "      <td>CAT 100</td>\n",
       "      <td>S50</td>\n",
       "      <td>Med</td>\n",
       "      <td>30.87</td>\n",
       "      <td>10</td>\n",
       "      <td>373</td>\n",
       "      <td>656.4</td>\n",
       "      <td>11</td>\n",
       "      <td>28.0</td>\n",
       "      <td>411</td>\n",
       "      <td>810.4</td>\n",
       "    </tr>\n",
       "    <tr>\n",
       "      <th>2</th>\n",
       "      <td>0</td>\n",
       "      <td>M</td>\n",
       "      <td>27</td>\n",
       "      <td>CAT 100</td>\n",
       "      <td>ASAD170</td>\n",
       "      <td>Med</td>\n",
       "      <td>49.40</td>\n",
       "      <td>11</td>\n",
       "      <td>260</td>\n",
       "      <td>582.0</td>\n",
       "      <td>0</td>\n",
       "      <td>0.0</td>\n",
       "      <td>265</td>\n",
       "      <td>614.1</td>\n",
       "    </tr>\n",
       "    <tr>\n",
       "      <th>3</th>\n",
       "      <td>0</td>\n",
       "      <td>M</td>\n",
       "      <td>61</td>\n",
       "      <td>CAT 100</td>\n",
       "      <td>ASAD170</td>\n",
       "      <td>Med</td>\n",
       "      <td>48.60</td>\n",
       "      <td>1</td>\n",
       "      <td>294</td>\n",
       "      <td>661.8</td>\n",
       "      <td>14</td>\n",
       "      <td>101.5</td>\n",
       "      <td>326</td>\n",
       "      <td>844.0</td>\n",
       "    </tr>\n",
       "    <tr>\n",
       "      <th>4</th>\n",
       "      <td>0</td>\n",
       "      <td>F</td>\n",
       "      <td>52</td>\n",
       "      <td>CAT 100</td>\n",
       "      <td>S50</td>\n",
       "      <td>Med</td>\n",
       "      <td>56.03</td>\n",
       "      <td>0</td>\n",
       "      <td>221</td>\n",
       "      <td>555.6</td>\n",
       "      <td>7</td>\n",
       "      <td>25.0</td>\n",
       "      <td>274</td>\n",
       "      <td>673.0</td>\n",
       "    </tr>\n",
       "  </tbody>\n",
       "</table>\n",
       "</div>"
      ],
      "text/plain": [
       "   CHURN GENDER  AGE CHARGE_TYPE  HANDSET USAGE_BAND  SERVICE_DURATION  \\\n",
       "0      0      F   31     CAT 100  ASAD170        Med             33.33   \n",
       "1      0      M   27     CAT 100      S50        Med             30.87   \n",
       "2      0      M   27     CAT 100  ASAD170        Med             49.40   \n",
       "3      0      M   61     CAT 100  ASAD170        Med             48.60   \n",
       "4      0      F   52     CAT 100      S50        Med             56.03   \n",
       "\n",
       "   DROPPED_CALLS  PEAK_CALLS_NO  PEAK_CALLS_TIME  WEEKEND_CALLS_NO  \\\n",
       "0              6            218            379.8                 9   \n",
       "1             10            373            656.4                11   \n",
       "2             11            260            582.0                 0   \n",
       "3              1            294            661.8                14   \n",
       "4              0            221            555.6                 7   \n",
       "\n",
       "   WEEKEND_CALLS_TIME  TOTAL_CALLS_NO  TOTAL_CALLS_TIME  \n",
       "0                21.6             366             632.4  \n",
       "1                28.0             411             810.4  \n",
       "2                 0.0             265             614.1  \n",
       "3               101.5             326             844.0  \n",
       "4                25.0             274             673.0  "
      ]
     },
     "execution_count": 48,
     "metadata": {},
     "output_type": "execute_result"
    }
   ],
   "source": [
    "df_tel.head()"
   ]
  },
  {
   "cell_type": "code",
   "execution_count": 49,
   "id": "de20e0c3",
   "metadata": {},
   "outputs": [
    {
     "name": "stdout",
     "output_type": "stream",
     "text": [
      "학습용 데이터 크기: (744, 14)\n",
      "평가용 데이터 크기: (186, 14)\n"
     ]
    }
   ],
   "source": [
    "# 데이터 분할\n",
    "df_train, df_test = train_test_split(df_tel, test_size= 0.2, random_state=1234)\n",
    "print('학습용 데이터 크기: {}'.format(df_train.shape))\n",
    "print('평가용 데이터 크기: {}'.format(df_test.shape))"
   ]
  },
  {
   "cell_type": "markdown",
   "id": "bb449f6d",
   "metadata": {},
   "source": [
    "# 로지스틱 회귀분석"
   ]
  },
  {
   "cell_type": "code",
   "execution_count": 52,
   "id": "1d001d8d",
   "metadata": {},
   "outputs": [
    {
     "name": "stdout",
     "output_type": "stream",
     "text": [
      "Warning: Maximum number of iterations has been exceeded.\n",
      "         Current function value: 0.244441\n",
      "         Iterations: 35\n",
      "                           Logit Regression Results                           \n",
      "==============================================================================\n",
      "Dep. Variable:                  CHURN   No. Observations:                  744\n",
      "Model:                          Logit   Df Residuals:                      714\n",
      "Method:                           MLE   Df Model:                           29\n",
      "Date:                Wed, 26 Jan 2022   Pseudo R-squ.:                  0.5082\n",
      "Time:                        17:19:59   Log-Likelihood:                -181.86\n",
      "converged:                      False   LL-Null:                       -369.79\n",
      "Covariance Type:            nonrobust   LLR p-value:                 5.652e-62\n",
      "==============================================================================================\n",
      "                                 coef    std err          z      P>|z|      [0.025      0.975]\n",
      "----------------------------------------------------------------------------------------------\n",
      "Intercept                    -25.3097   5616.636     -0.005      0.996    -1.1e+04     1.1e+04\n",
      "C(GENDER)[T.M]                -0.4309      0.298     -1.447      0.148      -1.015       0.153\n",
      "C(CHARGE_TYPE)[T.CAT 200]     -0.6902      0.593     -1.163      0.245      -1.853       0.473\n",
      "C(CHARGE_TYPE)[T.CAT 50]      -1.6650      0.862     -1.931      0.054      -3.355       0.025\n",
      "C(CHARGE_TYPE)[T.Play 100]     1.4554      0.691      2.107      0.035       0.102       2.809\n",
      "C(CHARGE_TYPE)[T.Play 300]    -0.5609      0.769     -0.730      0.466      -2.068       0.946\n",
      "C(HANDSET)[T.ASAD90]          24.2714   5616.635      0.004      0.997    -1.1e+04     1.1e+04\n",
      "C(HANDSET)[T.BS110]           20.1236   5616.635      0.004      0.997    -1.1e+04     1.1e+04\n",
      "C(HANDSET)[T.BS210]           17.6135   5616.636      0.003      0.997    -1.1e+04     1.1e+04\n",
      "C(HANDSET)[T.CAS30]           23.3787   5616.635      0.004      0.997    -1.1e+04     1.1e+04\n",
      "C(HANDSET)[T.CAS60]          -15.2491   3.08e+07  -4.96e-07      1.000   -6.03e+07    6.03e+07\n",
      "C(HANDSET)[T.S50]             20.5281   5616.635      0.004      0.997    -1.1e+04     1.1e+04\n",
      "C(HANDSET)[T.S80]             19.1829   5616.635      0.003      0.997    -1.1e+04     1.1e+04\n",
      "C(HANDSET)[T.SOP10]           23.1058   5616.636      0.004      0.997    -1.1e+04     1.1e+04\n",
      "C(HANDSET)[T.SOP20]           40.0707   7836.406      0.005      0.996   -1.53e+04    1.54e+04\n",
      "C(HANDSET)[T.WC95]            -7.1669      2e+05  -3.59e-05      1.000   -3.91e+05    3.91e+05\n",
      "C(USAGE_BAND)[T.Low]           5.4923      2.076      2.646      0.008       1.424       9.561\n",
      "C(USAGE_BAND)[T.Med]           2.8710      1.323      2.169      0.030       0.277       5.465\n",
      "C(USAGE_BAND)[T.MedHigh]       1.4354      0.943      1.522      0.128      -0.413       3.284\n",
      "C(USAGE_BAND)[T.MedLow]        5.0195      1.659      3.026      0.002       1.768       8.271\n",
      "C(USAGE_BAND)[T.None]         -9.2793   1149.073     -0.008      0.994   -2261.421    2242.862\n",
      "AGE                           -0.0242      0.011     -2.202      0.028      -0.046      -0.003\n",
      "SERVICE_DURATION              -0.0239      0.010     -2.363      0.018      -0.044      -0.004\n",
      "DROPPED_CALLS                  0.1617      0.038      4.264      0.000       0.087       0.236\n",
      "PEAK_CALLS_NO                 -0.0010      0.002     -0.431      0.667      -0.006       0.004\n",
      "PEAK_CALLS_TIME                0.0021      0.001      1.519      0.129      -0.001       0.005\n",
      "WEEKEND_CALLS_NO           -8.536e-05      0.013     -0.007      0.995      -0.025       0.025\n",
      "WEEKEND_CALLS_TIME             0.0014      0.006      0.252      0.801      -0.010       0.012\n",
      "TOTAL_CALLS_NO                 0.0007      0.002      0.314      0.754      -0.004       0.005\n",
      "TOTAL_CALLS_TIME               0.0006      0.001      0.418      0.676      -0.002       0.003\n",
      "==============================================================================================\n",
      "\n",
      "Possibly complete quasi-separation: A fraction 0.27 of observations can be\n",
      "perfectly predicted. This might indicate that there is complete\n",
      "quasi-separation. In this case some parameters will not be identified.\n"
     ]
    },
    {
     "name": "stderr",
     "output_type": "stream",
     "text": [
      "C:\\Users\\User\\anaconda3\\lib\\site-packages\\statsmodels\\base\\model.py:566: ConvergenceWarning: Maximum Likelihood optimization failed to converge. Check mle_retvals\n",
      "  warnings.warn(\"Maximum Likelihood optimization failed to \"\n"
     ]
    }
   ],
   "source": [
    "# 모델 및 회귀계수 검토\n",
    "\n",
    "# from_formula 함수를 이용하여 변수 역할 지정\n",
    "log_model = Logit.from_formula('''CHURN ~ C(GENDER) + AGE + C(CHARGE_TYPE) + C(HANDSET) + C(USAGE_BAND) + SERVICE_DURATION + \n",
    "DROPPED_CALLS + PEAK_CALLS_NO + PEAK_CALLS_TIME + WEEKEND_CALLS_NO + WEEKEND_CALLS_TIME + TOTAL_CALLS_NO + TOTAL_CALLS_TIME''', df_train)\n",
    "\n",
    "# 모델 적용\n",
    "log_result = log_model.fit()\n",
    "\n",
    "# 결과 출력\n",
    "print(log_result.summary())"
   ]
  },
  {
   "cell_type": "code",
   "execution_count": 53,
   "id": "ffd0541c",
   "metadata": {},
   "outputs": [
    {
     "name": "stdout",
     "output_type": "stream",
     "text": [
      "Warning: Maximum number of iterations has been exceeded.\n",
      "         Current function value: 0.431065\n",
      "         Iterations: 35\n",
      "                           Logit Regression Results                           \n",
      "==============================================================================\n",
      "Dep. Variable:                  CHURN   No. Observations:                  744\n",
      "Model:                          Logit   Df Residuals:                      724\n",
      "Method:                           MLE   Df Model:                           19\n",
      "Date:                Wed, 26 Jan 2022   Pseudo R-squ.:                  0.1327\n",
      "Time:                        17:21:09   Log-Likelihood:                -320.71\n",
      "converged:                      False   LL-Null:                       -369.79\n",
      "Covariance Type:            nonrobust   LLR p-value:                 1.154e-12\n",
      "==============================================================================================\n",
      "                                 coef    std err          z      P>|z|      [0.025      0.975]\n",
      "----------------------------------------------------------------------------------------------\n",
      "Intercept                     -4.2930      1.458     -2.945      0.003      -7.150      -1.436\n",
      "C(GENDER)[T.M]                -0.0620      0.204     -0.303      0.762      -0.463       0.339\n",
      "C(CHARGE_TYPE)[T.CAT 200]     -0.4218      0.412     -1.024      0.306      -1.229       0.385\n",
      "C(CHARGE_TYPE)[T.CAT 50]      -2.5559      0.685     -3.729      0.000      -3.899      -1.212\n",
      "C(CHARGE_TYPE)[T.Play 100]    -0.4046      0.464     -0.871      0.384      -1.315       0.505\n",
      "C(CHARGE_TYPE)[T.Play 300]    -1.1967      0.485     -2.465      0.014      -2.148      -0.245\n",
      "C(USAGE_BAND)[T.Low]           7.1161      1.510      4.714      0.000       4.157      10.075\n",
      "C(USAGE_BAND)[T.Med]           1.8698      0.919      2.034      0.042       0.068       3.672\n",
      "C(USAGE_BAND)[T.MedHigh]       0.6424      0.655      0.981      0.327      -0.641       1.926\n",
      "C(USAGE_BAND)[T.MedLow]        4.7090      1.184      3.976      0.000       2.388       7.030\n",
      "C(USAGE_BAND)[T.None]        -15.7238   3.95e+04     -0.000      1.000   -7.74e+04    7.73e+04\n",
      "AGE                           -0.0195      0.008     -2.422      0.015      -0.035      -0.004\n",
      "SERVICE_DURATION              -0.0142      0.007     -1.971      0.049      -0.028   -7.76e-05\n",
      "DROPPED_CALLS                  0.1303      0.025      5.142      0.000       0.081       0.180\n",
      "PEAK_CALLS_NO                  0.0002      0.002      0.103      0.918      -0.003       0.003\n",
      "PEAK_CALLS_TIME               -0.0011      0.001     -1.183      0.237      -0.003       0.001\n",
      "WEEKEND_CALLS_NO              -0.0043      0.009     -0.493      0.622      -0.022       0.013\n",
      "WEEKEND_CALLS_TIME             0.0016      0.004      0.429      0.668      -0.006       0.009\n",
      "TOTAL_CALLS_NO                -0.0005      0.001     -0.365      0.715      -0.003       0.002\n",
      "TOTAL_CALLS_TIME               0.0029      0.001      2.831      0.005       0.001       0.005\n",
      "==============================================================================================\n"
     ]
    },
    {
     "name": "stderr",
     "output_type": "stream",
     "text": [
      "C:\\Users\\User\\anaconda3\\lib\\site-packages\\statsmodels\\base\\model.py:566: ConvergenceWarning: Maximum Likelihood optimization failed to converge. Check mle_retvals\n",
      "  warnings.warn(\"Maximum Likelihood optimization failed to \"\n"
     ]
    }
   ],
   "source": [
    "log_model = Logit.from_formula('''CHURN ~ C(GENDER) + AGE + C(CHARGE_TYPE) + C(USAGE_BAND) + SERVICE_DURATION + \n",
    "DROPPED_CALLS + PEAK_CALLS_NO + PEAK_CALLS_TIME + WEEKEND_CALLS_NO + WEEKEND_CALLS_TIME \n",
    "+ TOTAL_CALLS_NO + TOTAL_CALLS_TIME''', df_train)\n",
    "log_result = log_model.fit()\n",
    "print(log_result.summary())"
   ]
  },
  {
   "cell_type": "code",
   "execution_count": 55,
   "id": "848cdaa2",
   "metadata": {},
   "outputs": [
    {
     "name": "stdout",
     "output_type": "stream",
     "text": [
      "Warning: Maximum number of iterations has been exceeded.\n",
      "         Current function value: 0.431072\n",
      "         Iterations: 35\n",
      "                           Logit Regression Results                           \n",
      "==============================================================================\n",
      "Dep. Variable:                  CHURN   No. Observations:                  744\n",
      "Model:                          Logit   Df Residuals:                      725\n",
      "Method:                           MLE   Df Model:                           18\n",
      "Date:                Wed, 26 Jan 2022   Pseudo R-squ.:                  0.1327\n",
      "Time:                        17:22:56   Log-Likelihood:                -320.72\n",
      "converged:                      False   LL-Null:                       -369.79\n",
      "Covariance Type:            nonrobust   LLR p-value:                 4.836e-13\n",
      "==============================================================================================\n",
      "                                 coef    std err          z      P>|z|      [0.025      0.975]\n",
      "----------------------------------------------------------------------------------------------\n",
      "Intercept                     -4.3021      1.456     -2.955      0.003      -7.156      -1.448\n",
      "C(GENDER)[T.M]                -0.0612      0.204     -0.299      0.765      -0.462       0.339\n",
      "C(CHARGE_TYPE)[T.CAT 200]     -0.4228      0.412     -1.026      0.305      -1.230       0.384\n",
      "C(CHARGE_TYPE)[T.CAT 50]      -2.5538      0.685     -3.728      0.000      -3.897      -1.211\n",
      "C(CHARGE_TYPE)[T.Play 100]    -0.4025      0.464     -0.868      0.386      -1.312       0.507\n",
      "C(CHARGE_TYPE)[T.Play 300]    -1.1941      0.485     -2.463      0.014      -2.144      -0.244\n",
      "C(USAGE_BAND)[T.Low]           7.1197      1.510      4.716      0.000       4.161      10.079\n",
      "C(USAGE_BAND)[T.Med]           1.8748      0.919      2.041      0.041       0.074       3.675\n",
      "C(USAGE_BAND)[T.MedHigh]       0.6467      0.654      0.989      0.323      -0.635       1.929\n",
      "C(USAGE_BAND)[T.MedLow]        4.7119      1.184      3.978      0.000       2.390       7.033\n",
      "C(USAGE_BAND)[T.None]        -15.1455   2.96e+04     -0.001      1.000   -5.81e+04     5.8e+04\n",
      "AGE                           -0.0195      0.008     -2.420      0.016      -0.035      -0.004\n",
      "SERVICE_DURATION              -0.0141      0.007     -1.968      0.049      -0.028   -5.89e-05\n",
      "DROPPED_CALLS                  0.1303      0.025      5.143      0.000       0.081       0.180\n",
      "PEAK_CALLS_TIME               -0.0011      0.001     -1.387      0.165      -0.003       0.000\n",
      "WEEKEND_CALLS_NO              -0.0044      0.009     -0.505      0.613      -0.022       0.013\n",
      "WEEKEND_CALLS_TIME             0.0017      0.004      0.437      0.662      -0.006       0.009\n",
      "TOTAL_CALLS_NO                -0.0004      0.001     -0.686      0.493      -0.001       0.001\n",
      "TOTAL_CALLS_TIME               0.0029      0.001      3.089      0.002       0.001       0.005\n",
      "==============================================================================================\n"
     ]
    },
    {
     "name": "stderr",
     "output_type": "stream",
     "text": [
      "C:\\Users\\User\\anaconda3\\lib\\site-packages\\statsmodels\\base\\model.py:566: ConvergenceWarning: Maximum Likelihood optimization failed to converge. Check mle_retvals\n",
      "  warnings.warn(\"Maximum Likelihood optimization failed to \"\n"
     ]
    }
   ],
   "source": [
    "log_model = Logit.from_formula('''CHURN ~ C(GENDER) + AGE + C(CHARGE_TYPE) + C(USAGE_BAND) + SERVICE_DURATION + \n",
    "DROPPED_CALLS + PEAK_CALLS_TIME + WEEKEND_CALLS_NO + WEEKEND_CALLS_TIME \n",
    "+ TOTAL_CALLS_NO + TOTAL_CALLS_TIME''', df_train)\n",
    "log_result = log_model.fit()\n",
    "print(log_result.summary())"
   ]
  },
  {
   "cell_type": "code",
   "execution_count": 56,
   "id": "297ebd85",
   "metadata": {},
   "outputs": [
    {
     "name": "stdout",
     "output_type": "stream",
     "text": [
      "Warning: Maximum number of iterations has been exceeded.\n",
      "         Current function value: 0.431132\n",
      "         Iterations: 35\n",
      "                           Logit Regression Results                           \n",
      "==============================================================================\n",
      "Dep. Variable:                  CHURN   No. Observations:                  744\n",
      "Model:                          Logit   Df Residuals:                      726\n",
      "Method:                           MLE   Df Model:                           17\n",
      "Date:                Wed, 26 Jan 2022   Pseudo R-squ.:                  0.1326\n",
      "Time:                        17:23:12   Log-Likelihood:                -320.76\n",
      "converged:                      False   LL-Null:                       -369.79\n",
      "Covariance Type:            nonrobust   LLR p-value:                 2.036e-13\n",
      "==============================================================================================\n",
      "                                 coef    std err          z      P>|z|      [0.025      0.975]\n",
      "----------------------------------------------------------------------------------------------\n",
      "Intercept                     -4.3112      1.456     -2.960      0.003      -7.166      -1.457\n",
      "C(CHARGE_TYPE)[T.CAT 200]     -0.4316      0.411     -1.050      0.294      -1.237       0.374\n",
      "C(CHARGE_TYPE)[T.CAT 50]      -2.5746      0.682     -3.777      0.000      -3.911      -1.238\n",
      "C(CHARGE_TYPE)[T.Play 100]    -0.4160      0.462     -0.901      0.368      -1.321       0.489\n",
      "C(CHARGE_TYPE)[T.Play 300]    -1.2026      0.484     -2.485      0.013      -2.151      -0.254\n",
      "C(USAGE_BAND)[T.Low]           7.1192      1.511      4.713      0.000       4.159      10.080\n",
      "C(USAGE_BAND)[T.Med]           1.8675      0.919      2.033      0.042       0.067       3.668\n",
      "C(USAGE_BAND)[T.MedHigh]       0.6476      0.655      0.989      0.322      -0.635       1.930\n",
      "C(USAGE_BAND)[T.MedLow]        4.7135      1.185      3.978      0.000       2.391       7.036\n",
      "C(USAGE_BAND)[T.None]        -13.9104   1.62e+04     -0.001      0.999   -3.17e+04    3.17e+04\n",
      "AGE                           -0.0194      0.008     -2.415      0.016      -0.035      -0.004\n",
      "SERVICE_DURATION              -0.0142      0.007     -1.980      0.048      -0.028      -0.000\n",
      "DROPPED_CALLS                  0.1299      0.025      5.135      0.000       0.080       0.180\n",
      "PEAK_CALLS_TIME               -0.0011      0.001     -1.416      0.157      -0.003       0.000\n",
      "WEEKEND_CALLS_NO              -0.0044      0.009     -0.498      0.618      -0.022       0.013\n",
      "WEEKEND_CALLS_TIME             0.0016      0.004      0.419      0.675      -0.006       0.009\n",
      "TOTAL_CALLS_NO                -0.0004      0.001     -0.680      0.497      -0.001       0.001\n",
      "TOTAL_CALLS_TIME               0.0029      0.001      3.100      0.002       0.001       0.005\n",
      "==============================================================================================\n"
     ]
    },
    {
     "name": "stderr",
     "output_type": "stream",
     "text": [
      "C:\\Users\\User\\anaconda3\\lib\\site-packages\\statsmodels\\base\\model.py:566: ConvergenceWarning: Maximum Likelihood optimization failed to converge. Check mle_retvals\n",
      "  warnings.warn(\"Maximum Likelihood optimization failed to \"\n"
     ]
    }
   ],
   "source": [
    "log_model = Logit.from_formula('''CHURN ~ AGE + C(CHARGE_TYPE) + C(USAGE_BAND) + SERVICE_DURATION + \n",
    "DROPPED_CALLS + PEAK_CALLS_TIME + WEEKEND_CALLS_NO + WEEKEND_CALLS_TIME \n",
    "+ TOTAL_CALLS_NO + TOTAL_CALLS_TIME''', df_train)\n",
    "log_result = log_model.fit()\n",
    "print(log_result.summary())"
   ]
  },
  {
   "cell_type": "code",
   "execution_count": 57,
   "id": "2be01bbd",
   "metadata": {},
   "outputs": [
    {
     "name": "stdout",
     "output_type": "stream",
     "text": [
      "Warning: Maximum number of iterations has been exceeded.\n",
      "         Current function value: 0.431249\n",
      "         Iterations: 35\n",
      "                           Logit Regression Results                           \n",
      "==============================================================================\n",
      "Dep. Variable:                  CHURN   No. Observations:                  744\n",
      "Model:                          Logit   Df Residuals:                      727\n",
      "Method:                           MLE   Df Model:                           16\n",
      "Date:                Wed, 26 Jan 2022   Pseudo R-squ.:                  0.1323\n",
      "Time:                        17:23:36   Log-Likelihood:                -320.85\n",
      "converged:                      False   LL-Null:                       -369.79\n",
      "Covariance Type:            nonrobust   LLR p-value:                 8.628e-14\n",
      "==============================================================================================\n",
      "                                 coef    std err          z      P>|z|      [0.025      0.975]\n",
      "----------------------------------------------------------------------------------------------\n",
      "Intercept                     -4.2639      1.450     -2.941      0.003      -7.106      -1.422\n",
      "C(CHARGE_TYPE)[T.CAT 200]     -0.4344      0.411     -1.056      0.291      -1.240       0.372\n",
      "C(CHARGE_TYPE)[T.CAT 50]      -2.5795      0.682     -3.782      0.000      -3.916      -1.243\n",
      "C(CHARGE_TYPE)[T.Play 100]    -0.4168      0.462     -0.902      0.367      -1.322       0.489\n",
      "C(CHARGE_TYPE)[T.Play 300]    -1.2109      0.483     -2.504      0.012      -2.158      -0.263\n",
      "C(USAGE_BAND)[T.Low]           7.0947      1.508      4.704      0.000       4.139      10.051\n",
      "C(USAGE_BAND)[T.Med]           1.8564      0.917      2.025      0.043       0.059       3.654\n",
      "C(USAGE_BAND)[T.MedHigh]       0.6459      0.653      0.989      0.323      -0.635       1.927\n",
      "C(USAGE_BAND)[T.MedLow]        4.7030      1.183      3.975      0.000       2.384       7.022\n",
      "C(USAGE_BAND)[T.None]        -17.3715   8.93e+04     -0.000      1.000   -1.75e+05    1.75e+05\n",
      "AGE                           -0.0196      0.008     -2.436      0.015      -0.035      -0.004\n",
      "SERVICE_DURATION              -0.0142      0.007     -1.976      0.048      -0.028      -0.000\n",
      "DROPPED_CALLS                  0.1299      0.025      5.133      0.000       0.080       0.180\n",
      "PEAK_CALLS_TIME               -0.0011      0.001     -1.445      0.148      -0.003       0.000\n",
      "WEEKEND_CALLS_NO              -0.0018      0.006     -0.290      0.772      -0.014       0.011\n",
      "TOTAL_CALLS_NO                -0.0004      0.001     -0.699      0.485      -0.001       0.001\n",
      "TOTAL_CALLS_TIME               0.0029      0.001      3.131      0.002       0.001       0.005\n",
      "==============================================================================================\n"
     ]
    },
    {
     "name": "stderr",
     "output_type": "stream",
     "text": [
      "C:\\Users\\User\\anaconda3\\lib\\site-packages\\statsmodels\\base\\model.py:566: ConvergenceWarning: Maximum Likelihood optimization failed to converge. Check mle_retvals\n",
      "  warnings.warn(\"Maximum Likelihood optimization failed to \"\n"
     ]
    }
   ],
   "source": [
    "log_model = Logit.from_formula('''CHURN ~ AGE + C(CHARGE_TYPE) + C(USAGE_BAND) + SERVICE_DURATION + \n",
    "DROPPED_CALLS + PEAK_CALLS_TIME + WEEKEND_CALLS_NO + TOTAL_CALLS_NO + TOTAL_CALLS_TIME''', df_train)\n",
    "log_result = log_model.fit()\n",
    "print(log_result.summary())"
   ]
  },
  {
   "cell_type": "code",
   "execution_count": 58,
   "id": "43dcc5e0",
   "metadata": {},
   "outputs": [
    {
     "name": "stdout",
     "output_type": "stream",
     "text": [
      "Warning: Maximum number of iterations has been exceeded.\n",
      "         Current function value: 0.431306\n",
      "         Iterations: 35\n",
      "                           Logit Regression Results                           \n",
      "==============================================================================\n",
      "Dep. Variable:                  CHURN   No. Observations:                  744\n",
      "Model:                          Logit   Df Residuals:                      728\n",
      "Method:                           MLE   Df Model:                           15\n",
      "Date:                Wed, 26 Jan 2022   Pseudo R-squ.:                  0.1322\n",
      "Time:                        17:23:56   Log-Likelihood:                -320.89\n",
      "converged:                      False   LL-Null:                       -369.79\n",
      "Covariance Type:            nonrobust   LLR p-value:                 3.407e-14\n",
      "==============================================================================================\n",
      "                                 coef    std err          z      P>|z|      [0.025      0.975]\n",
      "----------------------------------------------------------------------------------------------\n",
      "Intercept                     -4.3156      1.438     -3.000      0.003      -7.135      -1.496\n",
      "C(CHARGE_TYPE)[T.CAT 200]     -0.4350      0.411     -1.058      0.290      -1.241       0.371\n",
      "C(CHARGE_TYPE)[T.CAT 50]      -2.5651      0.680     -3.772      0.000      -3.898      -1.232\n",
      "C(CHARGE_TYPE)[T.Play 100]    -0.4134      0.462     -0.896      0.370      -1.318       0.491\n",
      "C(CHARGE_TYPE)[T.Play 300]    -1.2117      0.484     -2.506      0.012      -2.160      -0.264\n",
      "C(USAGE_BAND)[T.Low]           7.1164      1.506      4.726      0.000       4.165      10.068\n",
      "C(USAGE_BAND)[T.Med]           1.8722      0.915      2.046      0.041       0.079       3.666\n",
      "C(USAGE_BAND)[T.MedHigh]       0.6556      0.652      1.005      0.315      -0.623       1.934\n",
      "C(USAGE_BAND)[T.MedLow]        4.7177      1.182      3.992      0.000       2.401       7.034\n",
      "C(USAGE_BAND)[T.None]        -14.4999   2.18e+04     -0.001      0.999   -4.27e+04    4.26e+04\n",
      "AGE                           -0.0196      0.008     -2.438      0.015      -0.035      -0.004\n",
      "SERVICE_DURATION              -0.0141      0.007     -1.970      0.049      -0.028    -7.3e-05\n",
      "DROPPED_CALLS                  0.1298      0.025      5.130      0.000       0.080       0.179\n",
      "PEAK_CALLS_TIME               -0.0011      0.001     -1.433      0.152      -0.003       0.000\n",
      "TOTAL_CALLS_NO                -0.0004      0.001     -0.726      0.468      -0.002       0.001\n",
      "TOTAL_CALLS_TIME               0.0029      0.001      3.135      0.002       0.001       0.005\n",
      "==============================================================================================\n"
     ]
    },
    {
     "name": "stderr",
     "output_type": "stream",
     "text": [
      "C:\\Users\\User\\anaconda3\\lib\\site-packages\\statsmodels\\base\\model.py:566: ConvergenceWarning: Maximum Likelihood optimization failed to converge. Check mle_retvals\n",
      "  warnings.warn(\"Maximum Likelihood optimization failed to \"\n"
     ]
    }
   ],
   "source": [
    "log_model = Logit.from_formula('''CHURN ~ AGE + C(CHARGE_TYPE) + C(USAGE_BAND) + SERVICE_DURATION + \n",
    "DROPPED_CALLS + PEAK_CALLS_TIME + TOTAL_CALLS_NO + TOTAL_CALLS_TIME''', df_train)\n",
    "log_result = log_model.fit()\n",
    "print(log_result.summary())"
   ]
  },
  {
   "cell_type": "code",
   "execution_count": 59,
   "id": "7bb3d94c",
   "metadata": {},
   "outputs": [
    {
     "name": "stdout",
     "output_type": "stream",
     "text": [
      "Warning: Maximum number of iterations has been exceeded.\n",
      "         Current function value: 0.431662\n",
      "         Iterations: 35\n",
      "                           Logit Regression Results                           \n",
      "==============================================================================\n",
      "Dep. Variable:                  CHURN   No. Observations:                  744\n",
      "Model:                          Logit   Df Residuals:                      729\n",
      "Method:                           MLE   Df Model:                           14\n",
      "Date:                Wed, 26 Jan 2022   Pseudo R-squ.:                  0.1315\n",
      "Time:                        17:24:17   Log-Likelihood:                -321.16\n",
      "converged:                      False   LL-Null:                       -369.79\n",
      "Covariance Type:            nonrobust   LLR p-value:                 1.581e-14\n",
      "==============================================================================================\n",
      "                                 coef    std err          z      P>|z|      [0.025      0.975]\n",
      "----------------------------------------------------------------------------------------------\n",
      "Intercept                     -4.3389      1.435     -3.023      0.003      -7.152      -1.525\n",
      "C(CHARGE_TYPE)[T.CAT 200]     -0.4346      0.412     -1.056      0.291      -1.241       0.372\n",
      "C(CHARGE_TYPE)[T.CAT 50]      -2.5496      0.680     -3.751      0.000      -3.882      -1.217\n",
      "C(CHARGE_TYPE)[T.Play 100]    -0.3935      0.461     -0.854      0.393      -1.297       0.510\n",
      "C(CHARGE_TYPE)[T.Play 300]    -1.1986      0.482     -2.485      0.013      -2.144      -0.253\n",
      "C(USAGE_BAND)[T.Low]           7.1269      1.504      4.740      0.000       4.180      10.074\n",
      "C(USAGE_BAND)[T.Med]           1.8914      0.913      2.071      0.038       0.102       3.681\n",
      "C(USAGE_BAND)[T.MedHigh]       0.6604      0.651      1.014      0.311      -0.616       1.937\n",
      "C(USAGE_BAND)[T.MedLow]        4.7304      1.180      4.010      0.000       2.418       7.042\n",
      "C(USAGE_BAND)[T.None]        -16.7331   6.68e+04     -0.000      1.000   -1.31e+05    1.31e+05\n",
      "AGE                           -0.0197      0.008     -2.450      0.014      -0.035      -0.004\n",
      "SERVICE_DURATION              -0.0141      0.007     -1.972      0.049      -0.028   -8.33e-05\n",
      "DROPPED_CALLS                  0.1291      0.025      5.109      0.000       0.080       0.179\n",
      "PEAK_CALLS_TIME               -0.0010      0.001     -1.361      0.173      -0.002       0.000\n",
      "TOTAL_CALLS_TIME               0.0028      0.001      3.064      0.002       0.001       0.005\n",
      "==============================================================================================\n"
     ]
    },
    {
     "name": "stderr",
     "output_type": "stream",
     "text": [
      "C:\\Users\\User\\anaconda3\\lib\\site-packages\\statsmodels\\base\\model.py:566: ConvergenceWarning: Maximum Likelihood optimization failed to converge. Check mle_retvals\n",
      "  warnings.warn(\"Maximum Likelihood optimization failed to \"\n"
     ]
    }
   ],
   "source": [
    "log_model = Logit.from_formula('''CHURN ~ AGE + C(CHARGE_TYPE) + C(USAGE_BAND) + SERVICE_DURATION + \n",
    "DROPPED_CALLS + PEAK_CALLS_TIME + TOTAL_CALLS_TIME''', df_train)\n",
    "log_result = log_model.fit()\n",
    "print(log_result.summary())"
   ]
  },
  {
   "cell_type": "code",
   "execution_count": 60,
   "id": "8881f710",
   "metadata": {},
   "outputs": [
    {
     "name": "stdout",
     "output_type": "stream",
     "text": [
      "Warning: Maximum number of iterations has been exceeded.\n",
      "         Current function value: 0.432914\n",
      "         Iterations: 35\n",
      "                           Logit Regression Results                           \n",
      "==============================================================================\n",
      "Dep. Variable:                  CHURN   No. Observations:                  744\n",
      "Model:                          Logit   Df Residuals:                      730\n",
      "Method:                           MLE   Df Model:                           13\n",
      "Date:                Wed, 26 Jan 2022   Pseudo R-squ.:                  0.1290\n",
      "Time:                        17:24:31   Log-Likelihood:                -322.09\n",
      "converged:                      False   LL-Null:                       -369.79\n",
      "Covariance Type:            nonrobust   LLR p-value:                 1.282e-14\n",
      "==============================================================================================\n",
      "                                 coef    std err          z      P>|z|      [0.025      0.975]\n",
      "----------------------------------------------------------------------------------------------\n",
      "Intercept                     -4.2880      1.430     -2.999      0.003      -7.090      -1.486\n",
      "C(CHARGE_TYPE)[T.CAT 200]     -0.4375      0.412     -1.061      0.289      -1.246       0.371\n",
      "C(CHARGE_TYPE)[T.CAT 50]      -2.4443      0.674     -3.624      0.000      -3.766      -1.122\n",
      "C(CHARGE_TYPE)[T.Play 100]    -0.1605      0.427     -0.376      0.707      -0.998       0.677\n",
      "C(CHARGE_TYPE)[T.Play 300]    -0.8267      0.395     -2.091      0.037      -1.602      -0.052\n",
      "C(USAGE_BAND)[T.Low]           6.9869      1.497      4.669      0.000       4.054       9.920\n",
      "C(USAGE_BAND)[T.Med]           1.9681      0.909      2.166      0.030       0.187       3.749\n",
      "C(USAGE_BAND)[T.MedHigh]       0.7676      0.643      1.193      0.233      -0.493       2.028\n",
      "C(USAGE_BAND)[T.MedLow]        4.6708      1.174      3.980      0.000       2.371       6.971\n",
      "C(USAGE_BAND)[T.None]        -10.7337   2922.466     -0.004      0.997   -5738.662    5717.194\n",
      "AGE                           -0.0203      0.008     -2.525      0.012      -0.036      -0.005\n",
      "SERVICE_DURATION              -0.0144      0.007     -2.016      0.044      -0.028      -0.000\n",
      "DROPPED_CALLS                  0.1290      0.025      5.119      0.000       0.080       0.178\n",
      "TOTAL_CALLS_TIME               0.0019      0.001      2.939      0.003       0.001       0.003\n",
      "==============================================================================================\n"
     ]
    },
    {
     "name": "stderr",
     "output_type": "stream",
     "text": [
      "C:\\Users\\User\\anaconda3\\lib\\site-packages\\statsmodels\\base\\model.py:566: ConvergenceWarning: Maximum Likelihood optimization failed to converge. Check mle_retvals\n",
      "  warnings.warn(\"Maximum Likelihood optimization failed to \"\n"
     ]
    }
   ],
   "source": [
    "log_model = Logit.from_formula('''CHURN ~ AGE + C(CHARGE_TYPE) + C(USAGE_BAND) + SERVICE_DURATION + \n",
    "DROPPED_CALLS + TOTAL_CALLS_TIME''', df_train)\n",
    "log_result = log_model.fit()\n",
    "print(log_result.summary())"
   ]
  },
  {
   "cell_type": "markdown",
   "id": "31036b9a",
   "metadata": {},
   "source": [
    "- AGE, C(CHARGE_TYPE), C(USAGE_BAND), SERVICE_DURATION, DROPPED_CALLS, TOTAL_CALLS_TIME"
   ]
  },
  {
   "cell_type": "markdown",
   "id": "7c95daed",
   "metadata": {},
   "source": [
    "# 예측 및 성능 평가"
   ]
  },
  {
   "cell_type": "code",
   "execution_count": 85,
   "id": "7f35c17b",
   "metadata": {},
   "outputs": [
    {
     "name": "stdout",
     "output_type": "stream",
     "text": [
      "학습용 데이터 정확도: 0.418\n",
      "평가용 데이터 정확도: 0.371\n"
     ]
    }
   ],
   "source": [
    "# 학습용 데이터 예측\n",
    "y_pred = log_result.predict(df_train)\n",
    "\n",
    "# 0과 1의 값을 가진 클래스로 변환\n",
    "# 0.5를 기준으로 0.5 이상이면 1, 아니면 0\n",
    "y_pred_class = (y_pred > 0.1).astype(int)\n",
    "print('학습용 데이터 정확도: {:.3}'.format(accuracy_score(df_train['CHURN'], y_pred_class)))\n",
    "\n",
    "#평가용 데이터 예측\n",
    "y_pred = log_result.predict(df_test)\n",
    "y_pred_class = (y_pred > 0.1).astype(int)\n",
    "print('평가용 데이터 정확도: {:.3}'.format(accuracy_score(df_test['CHURN'], y_pred_class)))"
   ]
  },
  {
   "cell_type": "markdown",
   "id": "e7d25b1c",
   "metadata": {},
   "source": [
    "# 혼동행렬"
   ]
  },
  {
   "cell_type": "code",
   "execution_count": 86,
   "id": "15c26f89",
   "metadata": {},
   "outputs": [
    {
     "name": "stdout",
     "output_type": "stream",
     "text": [
      "Confusion Matrix : \n",
      "[[ 40 113]\n",
      " [  4  29]]\n"
     ]
    }
   ],
   "source": [
    "# 혼동행렬\n",
    "print('Confusion Matrix : \\n{}'.format(confusion_matrix(df_test['CHURN'], y_pred_class)))"
   ]
  },
  {
   "cell_type": "code",
   "execution_count": 87,
   "id": "c67ad335",
   "metadata": {},
   "outputs": [
    {
     "name": "stdout",
     "output_type": "stream",
     "text": [
      "Classification Report: \n",
      "\n",
      "               precision    recall  f1-score   support\n",
      "\n",
      "           0       0.91      0.26      0.41       153\n",
      "           1       0.20      0.88      0.33        33\n",
      "\n",
      "    accuracy                           0.37       186\n",
      "   macro avg       0.56      0.57      0.37       186\n",
      "weighted avg       0.78      0.37      0.39       186\n",
      "\n"
     ]
    }
   ],
   "source": [
    "# 평가\n",
    "print('Classification Report: \\n\\n', classification_report(df_test['CHURN'], y_pred_class))"
   ]
  },
  {
   "cell_type": "code",
   "execution_count": 81,
   "id": "779fd0ce",
   "metadata": {},
   "outputs": [
    {
     "data": {
      "text/plain": [
       "<AxesSubplot:>"
      ]
     },
     "execution_count": 81,
     "metadata": {},
     "output_type": "execute_result"
    },
    {
     "data": {
      "image/png": "[encoded data removed]",
      "text/plain": [
       "<Figure size 432x288 with 1 Axes>"
      ]
     },
     "metadata": {
      "needs_background": "light"
     },
     "output_type": "display_data"
    }
   ],
   "source": [
    "# 설명변수 중요도\n",
    "\n",
    "df_logistic_coef = pd.DataFrame({'Coef': log_result.params.values[1:]}, index = log_model.exog_names[1:])\n",
    "df_logistic_coef.plot.barh( y = 'Coef')"
   ]
  },
  {
   "cell_type": "code",
   "execution_count": null,
   "id": "13d89019",
   "metadata": {},
   "outputs": [],
   "source": []
  },
  {
   "cell_type": "code",
   "execution_count": null,
   "id": "e1245b14",
   "metadata": {},
   "outputs": [],
   "source": []
  }
 ],
 "metadata": {
  "kernelspec": {
   "display_name": "Python 3 (ipykernel)",
   "language": "python",
   "name": "python3"
  },
  "language_info": {
   "codemirror_mode": {
    "name": "ipython",
    "version": 3
   },
   "file_extension": ".py",
   "mimetype": "text/x-python",
   "name": "python",
   "nbconvert_exporter": "python",
   "pygments_lexer": "ipython3",
   "version": "3.8.12"
  }
 },
 "nbformat": 4,
 "nbformat_minor": 5
}
