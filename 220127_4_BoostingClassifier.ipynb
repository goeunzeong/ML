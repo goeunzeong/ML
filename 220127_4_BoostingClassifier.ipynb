{
 "cells": [
  {
   "cell_type": "code",
   "execution_count": 3,
   "id": "d34e3b65",
   "metadata": {},
   "outputs": [],
   "source": [
    "import pandas as pd \n",
    "import numpy as np \n",
    "import matplotlib as mpl\n",
    "import matplotlib.pyplot as plt\n",
    "mpl.rc('font', family = 'Malgun Gothic')\n",
    "plt.rcParams['axes.unicode_minus'] = False\n",
    "plt.rcParams['font.family'] = 'Malgun Gothic'\n",
    "import seaborn as sns\n",
    "import scipy.stats as stats"
   ]
  },
  {
   "cell_type": "code",
   "execution_count": 4,
   "id": "2b991840",
   "metadata": {},
   "outputs": [],
   "source": [
    "from sklearn.model_selection import train_test_split\n",
    "\n",
    "from sklearn.ensemble import GradientBoostingClassifier\n",
    "\n",
    "from xgboost import XGBClassifier\n",
    "\n",
    "from lightgbm import LGBMClassifier\n",
    "\n",
    "from sklearn.model_selection import GridSearchCV\n",
    "from sklearn.model_selection import RandomizedSearchCV\n",
    "\n",
    "from sklearn.metrics import confusion_matrix\n",
    "from sklearn.metrics import classification_report"
   ]
  },
  {
   "cell_type": "code",
   "execution_count": 5,
   "id": "960b851a",
   "metadata": {},
   "outputs": [
    {
     "name": "stdout",
     "output_type": "stream",
     "text": [
      "학습용 데이터의 크기: (2998, 19)\n",
      "평가용 데이터의 크기: (750, 19)\n"
     ]
    },
    {
     "name": "stderr",
     "output_type": "stream",
     "text": [
      "C:\\Users\\User\\AppData\\Local\\Temp/ipykernel_22008/1690711287.py:3: FutureWarning: Dropping of nuisance columns in DataFrame reductions (with 'numeric_only=None') is deprecated; in a future version this will raise TypeError.  Select only valid columns before calling the reduction.\n",
      "  df_raw.fillna(df_raw.mean(), inplace = True)\n"
     ]
    }
   ],
   "source": [
    "df_raw = pd.read_csv('data/bank.csv')\n",
    "df_raw['JOB'].fillna('Other', inplace = True)\n",
    "df_raw.fillna(df_raw.mean(), inplace = True)\n",
    "\n",
    "df_raw_dummy = pd.get_dummies(df_raw)\n",
    "\n",
    "df_train, df_test = train_test_split(df_raw_dummy, test_size= 0.2, random_state=1234)\n",
    "print('학습용 데이터의 크기: {}'.format(df_train.shape))\n",
    "print('평가용 데이터의 크기: {}'.format(df_test.shape))\n",
    "\n",
    "df_train_y = df_train['BAD']\n",
    "df_train_x = df_train.drop(columns = 'BAD', inplace = False)\n",
    "df_test_y = df_test['BAD']\n",
    "df_test_x = df_test.drop(columns = 'BAD', inplace = False)"
   ]
  },
  {
   "cell_type": "markdown",
   "id": "0011e506",
   "metadata": {},
   "source": [
    "## Gradient Boosting"
   ]
  },
  {
   "cell_type": "code",
   "execution_count": 6,
   "id": "f6a2bab9",
   "metadata": {},
   "outputs": [
    {
     "data": {
      "text/plain": [
       "GradientBoostingClassifier(random_state=1234)"
      ]
     },
     "execution_count": 6,
     "metadata": {},
     "output_type": "execute_result"
    }
   ],
   "source": [
    "gb_uncustomized = GradientBoostingClassifier(random_state=1234)\n",
    "gb_uncustomized.fit(df_train_x, df_train_y)"
   ]
  },
  {
   "cell_type": "code",
   "execution_count": 7,
   "id": "c7ee3134",
   "metadata": {},
   "outputs": [
    {
     "name": "stdout",
     "output_type": "stream",
     "text": [
      "학습용 데이터의 정확도 0.960\n",
      "평가용 데이터의 정확도 0.941\n"
     ]
    }
   ],
   "source": [
    "print('학습용 데이터의 정확도 {:.3f}'.format(gb_uncustomized.score(df_train_x, df_train_y)))\n",
    "print('평가용 데이터의 정확도 {:.3f}'.format(gb_uncustomized.score(df_test_x, df_test_y)))"
   ]
  },
  {
   "cell_type": "code",
   "execution_count": 11,
   "id": "a05c44fe",
   "metadata": {},
   "outputs": [],
   "source": [
    "# train 및 test 설명력 결과 저장\n",
    "train_score = []\n",
    "test_score = []\n",
    "\n",
    "\n",
    "para_lr = [lr * 0.05 for lr in range(1, 10)]\n",
    "\n",
    "for v_learning_rate in para_lr:\n",
    "    gb = GradientBoostingClassifier(random_state = 1234, learning_rate= v_learning_rate)\n",
    "    gb.fit(df_train_x, df_train_y)\n",
    "    train_score.append(gb.score(df_train_x, df_train_y))\n",
    "    test_score.append(gb.score(df_test_x, df_test_y))\n",
    "    \n",
    "# 결과 저장\n",
    "gb_score_lr = pd.DataFrame()\n",
    "gb_score_lr['LearningRate'] = para_lr\n",
    "gb_score_lr['TrainScore'] = train_score\n",
    "gb_score_lr['TestScore'] = test_score"
   ]
  },
  {
   "cell_type": "code",
   "execution_count": 12,
   "id": "b627fa7d",
   "metadata": {},
   "outputs": [
    {
     "data": {
      "text/html": [
       "<div>\n",
       "<style scoped>\n",
       "    .dataframe tbody tr th:only-of-type {\n",
       "        vertical-align: middle;\n",
       "    }\n",
       "\n",
       "    .dataframe tbody tr th {\n",
       "        vertical-align: top;\n",
       "    }\n",
       "\n",
       "    .dataframe thead th {\n",
       "        text-align: right;\n",
       "    }\n",
       "</style>\n",
       "<table border=\"1\" class=\"dataframe\">\n",
       "  <thead>\n",
       "    <tr style=\"text-align: right;\">\n",
       "      <th></th>\n",
       "      <th>LearningRate</th>\n",
       "      <th>TrainScore</th>\n",
       "      <th>TestScore</th>\n",
       "    </tr>\n",
       "  </thead>\n",
       "  <tbody>\n",
       "    <tr>\n",
       "      <th>0</th>\n",
       "      <td>0.05</td>\n",
       "      <td>0.950</td>\n",
       "      <td>0.941</td>\n",
       "    </tr>\n",
       "    <tr>\n",
       "      <th>1</th>\n",
       "      <td>0.10</td>\n",
       "      <td>0.960</td>\n",
       "      <td>0.941</td>\n",
       "    </tr>\n",
       "    <tr>\n",
       "      <th>2</th>\n",
       "      <td>0.15</td>\n",
       "      <td>0.972</td>\n",
       "      <td>0.952</td>\n",
       "    </tr>\n",
       "    <tr>\n",
       "      <th>3</th>\n",
       "      <td>0.20</td>\n",
       "      <td>0.981</td>\n",
       "      <td>0.948</td>\n",
       "    </tr>\n",
       "    <tr>\n",
       "      <th>4</th>\n",
       "      <td>0.25</td>\n",
       "      <td>0.988</td>\n",
       "      <td>0.951</td>\n",
       "    </tr>\n",
       "    <tr>\n",
       "      <th>5</th>\n",
       "      <td>0.30</td>\n",
       "      <td>0.994</td>\n",
       "      <td>0.951</td>\n",
       "    </tr>\n",
       "    <tr>\n",
       "      <th>6</th>\n",
       "      <td>0.35</td>\n",
       "      <td>0.996</td>\n",
       "      <td>0.951</td>\n",
       "    </tr>\n",
       "    <tr>\n",
       "      <th>7</th>\n",
       "      <td>0.40</td>\n",
       "      <td>0.997</td>\n",
       "      <td>0.944</td>\n",
       "    </tr>\n",
       "    <tr>\n",
       "      <th>8</th>\n",
       "      <td>0.45</td>\n",
       "      <td>0.998</td>\n",
       "      <td>0.948</td>\n",
       "    </tr>\n",
       "  </tbody>\n",
       "</table>\n",
       "</div>"
      ],
      "text/plain": [
       "   LearningRate  TrainScore  TestScore\n",
       "0          0.05       0.950      0.941\n",
       "1          0.10       0.960      0.941\n",
       "2          0.15       0.972      0.952\n",
       "3          0.20       0.981      0.948\n",
       "4          0.25       0.988      0.951\n",
       "5          0.30       0.994      0.951\n",
       "6          0.35       0.996      0.951\n",
       "7          0.40       0.997      0.944\n",
       "8          0.45       0.998      0.948"
      ]
     },
     "execution_count": 12,
     "metadata": {},
     "output_type": "execute_result"
    }
   ],
   "source": [
    "gb_score_lr.round(3)"
   ]
  },
  {
   "cell_type": "code",
   "execution_count": 13,
   "id": "d298558e",
   "metadata": {},
   "outputs": [
    {
     "data": {
      "text/plain": [
       "<matplotlib.legend.Legend at 0x2112169c8e0>"
      ]
     },
     "execution_count": 13,
     "metadata": {},
     "output_type": "execute_result"
    },
    {
     "data": {
      "image/png": "[encoded data removed]",
      "text/plain": [
       "<Figure size 432x288 with 1 Axes>"
      ]
     },
     "metadata": {
      "needs_background": "light"
     },
     "output_type": "display_data"
    }
   ],
   "source": [
    "plt.plot(para_lr, train_score, linestyle = '-', label = 'Train Score')\n",
    "plt.plot(para_lr, test_score, linestyle = '-', label = 'Test Score')\n",
    "plt.ylabel('accuracy')\n",
    "plt.xlabel('learning rate')\n",
    "plt.legend()"
   ]
  },
  {
   "cell_type": "code",
   "execution_count": 14,
   "id": "56ffa286",
   "metadata": {},
   "outputs": [],
   "source": [
    "# LR 0.15"
   ]
  },
  {
   "cell_type": "code",
   "execution_count": 18,
   "id": "f87e2590",
   "metadata": {},
   "outputs": [
    {
     "data": {
      "text/html": [
       "<div>\n",
       "<style scoped>\n",
       "    .dataframe tbody tr th:only-of-type {\n",
       "        vertical-align: middle;\n",
       "    }\n",
       "\n",
       "    .dataframe tbody tr th {\n",
       "        vertical-align: top;\n",
       "    }\n",
       "\n",
       "    .dataframe thead th {\n",
       "        text-align: right;\n",
       "    }\n",
       "</style>\n",
       "<table border=\"1\" class=\"dataframe\">\n",
       "  <thead>\n",
       "    <tr style=\"text-align: right;\">\n",
       "      <th></th>\n",
       "      <th>n_estimators</th>\n",
       "      <th>TrainScore</th>\n",
       "      <th>TestScore</th>\n",
       "    </tr>\n",
       "  </thead>\n",
       "  <tbody>\n",
       "    <tr>\n",
       "      <th>0</th>\n",
       "      <td>10</td>\n",
       "      <td>0.935</td>\n",
       "      <td>0.932</td>\n",
       "    </tr>\n",
       "    <tr>\n",
       "      <th>1</th>\n",
       "      <td>20</td>\n",
       "      <td>0.947</td>\n",
       "      <td>0.937</td>\n",
       "    </tr>\n",
       "    <tr>\n",
       "      <th>2</th>\n",
       "      <td>30</td>\n",
       "      <td>0.951</td>\n",
       "      <td>0.944</td>\n",
       "    </tr>\n",
       "    <tr>\n",
       "      <th>3</th>\n",
       "      <td>40</td>\n",
       "      <td>0.955</td>\n",
       "      <td>0.943</td>\n",
       "    </tr>\n",
       "    <tr>\n",
       "      <th>4</th>\n",
       "      <td>50</td>\n",
       "      <td>0.960</td>\n",
       "      <td>0.943</td>\n",
       "    </tr>\n",
       "    <tr>\n",
       "      <th>5</th>\n",
       "      <td>60</td>\n",
       "      <td>0.961</td>\n",
       "      <td>0.940</td>\n",
       "    </tr>\n",
       "    <tr>\n",
       "      <th>6</th>\n",
       "      <td>70</td>\n",
       "      <td>0.963</td>\n",
       "      <td>0.944</td>\n",
       "    </tr>\n",
       "    <tr>\n",
       "      <th>7</th>\n",
       "      <td>80</td>\n",
       "      <td>0.966</td>\n",
       "      <td>0.944</td>\n",
       "    </tr>\n",
       "    <tr>\n",
       "      <th>8</th>\n",
       "      <td>90</td>\n",
       "      <td>0.968</td>\n",
       "      <td>0.949</td>\n",
       "    </tr>\n",
       "    <tr>\n",
       "      <th>9</th>\n",
       "      <td>100</td>\n",
       "      <td>0.972</td>\n",
       "      <td>0.952</td>\n",
       "    </tr>\n",
       "    <tr>\n",
       "      <th>10</th>\n",
       "      <td>110</td>\n",
       "      <td>0.974</td>\n",
       "      <td>0.951</td>\n",
       "    </tr>\n",
       "    <tr>\n",
       "      <th>11</th>\n",
       "      <td>120</td>\n",
       "      <td>0.975</td>\n",
       "      <td>0.952</td>\n",
       "    </tr>\n",
       "    <tr>\n",
       "      <th>12</th>\n",
       "      <td>130</td>\n",
       "      <td>0.976</td>\n",
       "      <td>0.952</td>\n",
       "    </tr>\n",
       "    <tr>\n",
       "      <th>13</th>\n",
       "      <td>140</td>\n",
       "      <td>0.981</td>\n",
       "      <td>0.953</td>\n",
       "    </tr>\n",
       "    <tr>\n",
       "      <th>14</th>\n",
       "      <td>150</td>\n",
       "      <td>0.982</td>\n",
       "      <td>0.951</td>\n",
       "    </tr>\n",
       "  </tbody>\n",
       "</table>\n",
       "</div>"
      ],
      "text/plain": [
       "    n_estimators  TrainScore  TestScore\n",
       "0             10       0.935      0.932\n",
       "1             20       0.947      0.937\n",
       "2             30       0.951      0.944\n",
       "3             40       0.955      0.943\n",
       "4             50       0.960      0.943\n",
       "5             60       0.961      0.940\n",
       "6             70       0.963      0.944\n",
       "7             80       0.966      0.944\n",
       "8             90       0.968      0.949\n",
       "9            100       0.972      0.952\n",
       "10           110       0.974      0.951\n",
       "11           120       0.975      0.952\n",
       "12           130       0.976      0.952\n",
       "13           140       0.981      0.953\n",
       "14           150       0.982      0.951"
      ]
     },
     "execution_count": 18,
     "metadata": {},
     "output_type": "execute_result"
    }
   ],
   "source": [
    "# train 및 test 설명력 결과 저장\n",
    "train_score = []\n",
    "test_score = []\n",
    "\n",
    "# n_estimators 트리 수 변경, 10 ~ 150\n",
    "para_n_tree = [n_tree * 10 for n_tree in range(1, 16)] \n",
    "\n",
    "for v_n_estimators in para_n_tree:\n",
    "    gb = GradientBoostingClassifier(random_state=1234, n_estimators=v_n_estimators, learning_rate= 0.15)\n",
    "    gb.fit(df_train_x, df_train_y)\n",
    "    train_score.append(gb.score(df_train_x, df_train_y))\n",
    "    test_score.append(gb.score(df_test_x, df_test_y))\n",
    "    \n",
    "# 결과 저장\n",
    "gb_score_n = pd.DataFrame()\n",
    "gb_score_n['n_estimators'] = para_n_tree\n",
    "gb_score_n['TrainScore'] = train_score\n",
    "gb_score_n['TestScore'] = test_score\n",
    "\n",
    "gb_score_n.round(3)"
   ]
  },
  {
   "cell_type": "code",
   "execution_count": 19,
   "id": "efda11c7",
   "metadata": {},
   "outputs": [
    {
     "data": {
      "text/plain": [
       "<matplotlib.legend.Legend at 0x21121d60280>"
      ]
     },
     "execution_count": 19,
     "metadata": {},
     "output_type": "execute_result"
    },
    {
     "data": {
      "image/png": "[encoded data removed]",
      "text/plain": [
       "<Figure size 432x288 with 1 Axes>"
      ]
     },
     "metadata": {
      "needs_background": "light"
     },
     "output_type": "display_data"
    }
   ],
   "source": [
    "# 모델 설명력 그래프로 확인\n",
    "plt.plot(para_n_tree, train_score, linestyle = '-', label = 'Train Score')\n",
    "plt.plot(para_n_tree, test_score, linestyle = '--', label = 'Test Score')\n",
    "plt.ylabel('score')\n",
    "plt.xlabel('n_estimators')\n",
    "plt.legend()"
   ]
  },
  {
   "cell_type": "code",
   "execution_count": 20,
   "id": "a287326a",
   "metadata": {},
   "outputs": [],
   "source": [
    "# estimator = 100"
   ]
  },
  {
   "cell_type": "code",
   "execution_count": 21,
   "id": "3fce6056",
   "metadata": {},
   "outputs": [
    {
     "data": {
      "text/html": [
       "<div>\n",
       "<style scoped>\n",
       "    .dataframe tbody tr th:only-of-type {\n",
       "        vertical-align: middle;\n",
       "    }\n",
       "\n",
       "    .dataframe tbody tr th {\n",
       "        vertical-align: top;\n",
       "    }\n",
       "\n",
       "    .dataframe thead th {\n",
       "        text-align: right;\n",
       "    }\n",
       "</style>\n",
       "<table border=\"1\" class=\"dataframe\">\n",
       "  <thead>\n",
       "    <tr style=\"text-align: right;\">\n",
       "      <th></th>\n",
       "      <th>Depth</th>\n",
       "      <th>TrainScore</th>\n",
       "      <th>TestScore</th>\n",
       "    </tr>\n",
       "  </thead>\n",
       "  <tbody>\n",
       "    <tr>\n",
       "      <th>0</th>\n",
       "      <td>1</td>\n",
       "      <td>0.937</td>\n",
       "      <td>0.939</td>\n",
       "    </tr>\n",
       "    <tr>\n",
       "      <th>1</th>\n",
       "      <td>2</td>\n",
       "      <td>0.954</td>\n",
       "      <td>0.944</td>\n",
       "    </tr>\n",
       "    <tr>\n",
       "      <th>2</th>\n",
       "      <td>3</td>\n",
       "      <td>0.972</td>\n",
       "      <td>0.952</td>\n",
       "    </tr>\n",
       "    <tr>\n",
       "      <th>3</th>\n",
       "      <td>4</td>\n",
       "      <td>0.988</td>\n",
       "      <td>0.951</td>\n",
       "    </tr>\n",
       "    <tr>\n",
       "      <th>4</th>\n",
       "      <td>5</td>\n",
       "      <td>0.997</td>\n",
       "      <td>0.952</td>\n",
       "    </tr>\n",
       "    <tr>\n",
       "      <th>5</th>\n",
       "      <td>6</td>\n",
       "      <td>1.000</td>\n",
       "      <td>0.949</td>\n",
       "    </tr>\n",
       "    <tr>\n",
       "      <th>6</th>\n",
       "      <td>7</td>\n",
       "      <td>1.000</td>\n",
       "      <td>0.955</td>\n",
       "    </tr>\n",
       "    <tr>\n",
       "      <th>7</th>\n",
       "      <td>8</td>\n",
       "      <td>1.000</td>\n",
       "      <td>0.952</td>\n",
       "    </tr>\n",
       "    <tr>\n",
       "      <th>8</th>\n",
       "      <td>9</td>\n",
       "      <td>1.000</td>\n",
       "      <td>0.952</td>\n",
       "    </tr>\n",
       "    <tr>\n",
       "      <th>9</th>\n",
       "      <td>10</td>\n",
       "      <td>1.000</td>\n",
       "      <td>0.957</td>\n",
       "    </tr>\n",
       "  </tbody>\n",
       "</table>\n",
       "</div>"
      ],
      "text/plain": [
       "   Depth  TrainScore  TestScore\n",
       "0      1       0.937      0.939\n",
       "1      2       0.954      0.944\n",
       "2      3       0.972      0.952\n",
       "3      4       0.988      0.951\n",
       "4      5       0.997      0.952\n",
       "5      6       1.000      0.949\n",
       "6      7       1.000      0.955\n",
       "7      8       1.000      0.952\n",
       "8      9       1.000      0.952\n",
       "9     10       1.000      0.957"
      ]
     },
     "execution_count": 21,
     "metadata": {},
     "output_type": "execute_result"
    }
   ],
   "source": [
    "# train 및 test 설명력 결과 저장\n",
    "train_score = []\n",
    "test_score = []\n",
    "\n",
    "\n",
    "para_depth = [depth for depth in range(1, 11)] # para_n_tree = [1, 2, 3, 4, ..., 10]\n",
    "\n",
    "for v_max_depth in para_depth:\n",
    "    gb = GradientBoostingClassifier(random_state=1234, n_estimators = 100, learning_rate=0.15, max_depth= v_max_depth)\n",
    "    gb.fit(df_train_x, df_train_y)\n",
    "    train_score.append(gb.score(df_train_x, df_train_y))\n",
    "    test_score.append(gb.score(df_test_x, df_test_y))\n",
    "    \n",
    "# 결과 저장\n",
    "gb_score_depth = pd.DataFrame()\n",
    "gb_score_depth['Depth'] = para_depth\n",
    "gb_score_depth['TrainScore'] = train_score\n",
    "gb_score_depth['TestScore'] = test_score\n",
    "\n",
    "gb_score_depth.round(3)"
   ]
  },
  {
   "cell_type": "code",
   "execution_count": 22,
   "id": "86a424ac",
   "metadata": {},
   "outputs": [
    {
     "data": {
      "text/plain": [
       "<matplotlib.legend.Legend at 0x21122cf6fd0>"
      ]
     },
     "execution_count": 22,
     "metadata": {},
     "output_type": "execute_result"
    },
    {
     "data": {
      "image/png": "[encoded data removed]",
      "text/plain": [
       "<Figure size 432x288 with 1 Axes>"
      ]
     },
     "metadata": {
      "needs_background": "light"
     },
     "output_type": "display_data"
    }
   ],
   "source": [
    "# 모델 설명력 그래프로 확인\n",
    "plt.plot(para_depth, train_score, linestyle = '-', label = 'Train Score')\n",
    "plt.plot(para_depth, test_score, linestyle = '--', label = 'Test Score')\n",
    "plt.ylabel('score')\n",
    "plt.xlabel('max depth')\n",
    "plt.legend()"
   ]
  },
  {
   "cell_type": "code",
   "execution_count": null,
   "id": "90d6da59",
   "metadata": {},
   "outputs": [],
   "source": [
    "# train 및 test 설명력 결과 저장\n",
    "train_score = []\n",
    "test_score = []\n",
    "\n",
    "\n",
    "para_split = [n_split * 2 for n_split in range(2, 21)] # para_n_tree = [4, 6, 8, ..., 40]\n",
    "\n",
    "for v_min_samples_split in para_split:\n",
    "    gb = GradientBoostingClassifier(random_state=1234, n_estimators = 100, min_samples_split = v_min_samples_split, learning_rate=0.15, max_depth=4)\n",
    "    gb.fit(df_train_x, df_train_y)\n",
    "    train_score.append(gb.score(df_train_x, df_train_y))\n",
    "    test_score.append(gb.score(df_test_x, df_test_y))\n",
    "    \n",
    "# 결과 저장\n",
    "gb_score_split = pd.DataFrame()\n",
    "gb_score_split['MinSamplessplit'] = para_split\n",
    "gb_score_split['TrainScore'] = train_score\n",
    "gb_score_split['TestScore'] = test_score\n",
    "\n",
    "gb_score_split.round(3)"
   ]
  },
  {
   "cell_type": "code",
   "execution_count": null,
   "id": "081526c7",
   "metadata": {},
   "outputs": [],
   "source": []
  }
 ],
 "metadata": {
  "kernelspec": {
   "display_name": "Python 3 (ipykernel)",
   "language": "python",
   "name": "python3"
  },
  "language_info": {
   "codemirror_mode": {
    "name": "ipython",
    "version": 3
   },
   "file_extension": ".py",
   "mimetype": "text/x-python",
   "name": "python",
   "nbconvert_exporter": "python",
   "pygments_lexer": "ipython3",
   "version": "3.9.7"
  }
 },
 "nbformat": 4,
 "nbformat_minor": 5
}
