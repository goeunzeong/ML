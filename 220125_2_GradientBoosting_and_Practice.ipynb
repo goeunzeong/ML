{
 "cells": [
  {
   "cell_type": "code",
   "execution_count": 1,
   "id": "12e14460",
   "metadata": {},
   "outputs": [],
   "source": [
    "import pandas as pd \n",
    "import numpy as np\n",
    "import matplotlib as mpl\n",
    "import matplotlib.pyplot as plt\n",
    "mpl.rc('font', family = 'Malgun Gothic')\n",
    "plt.rcParams['axes.unicode_minus'] = False\n",
    "plt.rcParams['font.family'] = 'Malgun Gothic'\n",
    "import seaborn as sns"
   ]
  },
  {
   "cell_type": "code",
   "execution_count": 2,
   "id": "7ffb053c",
   "metadata": {},
   "outputs": [],
   "source": [
    "from sklearn.model_selection import train_test_split\n",
    "from sklearn.ensemble import GradientBoostingRegressor\n",
    "from sklearn.model_selection import GridSearchCV\n",
    "from sklearn.model_selection import RandomizedSearchCV\n",
    "# 나무 구조 시각화\n",
    "from sklearn.tree import plot_tree"
   ]
  },
  {
   "cell_type": "code",
   "execution_count": 3,
   "id": "1b662d04",
   "metadata": {},
   "outputs": [
    {
     "data": {
      "text/html": [
       "<div>\n",
       "<style scoped>\n",
       "    .dataframe tbody tr th:only-of-type {\n",
       "        vertical-align: middle;\n",
       "    }\n",
       "\n",
       "    .dataframe tbody tr th {\n",
       "        vertical-align: top;\n",
       "    }\n",
       "\n",
       "    .dataframe thead th {\n",
       "        text-align: right;\n",
       "    }\n",
       "</style>\n",
       "<table border=\"1\" class=\"dataframe\">\n",
       "  <thead>\n",
       "    <tr style=\"text-align: right;\">\n",
       "      <th></th>\n",
       "      <th>FAT</th>\n",
       "      <th>AGE</th>\n",
       "      <th>WEIGHT</th>\n",
       "      <th>HEIGHT</th>\n",
       "      <th>NECK</th>\n",
       "      <th>CHEST</th>\n",
       "      <th>ABDOMEN</th>\n",
       "      <th>HIP</th>\n",
       "      <th>THIGH</th>\n",
       "      <th>KNEE</th>\n",
       "      <th>ANKLE</th>\n",
       "      <th>BICEPS</th>\n",
       "      <th>FOREARM</th>\n",
       "      <th>WRIST</th>\n",
       "    </tr>\n",
       "  </thead>\n",
       "  <tbody>\n",
       "    <tr>\n",
       "      <th>0</th>\n",
       "      <td>35.2</td>\n",
       "      <td>46</td>\n",
       "      <td>363.15</td>\n",
       "      <td>72.25</td>\n",
       "      <td>51.2</td>\n",
       "      <td>136.2</td>\n",
       "      <td>148.1</td>\n",
       "      <td>147.7</td>\n",
       "      <td>87.3</td>\n",
       "      <td>49.1</td>\n",
       "      <td>29.6</td>\n",
       "      <td>45.0</td>\n",
       "      <td>29.0</td>\n",
       "      <td>21.4</td>\n",
       "    </tr>\n",
       "    <tr>\n",
       "      <th>1</th>\n",
       "      <td>11.8</td>\n",
       "      <td>27</td>\n",
       "      <td>168.00</td>\n",
       "      <td>71.25</td>\n",
       "      <td>38.1</td>\n",
       "      <td>93.0</td>\n",
       "      <td>79.1</td>\n",
       "      <td>94.5</td>\n",
       "      <td>57.3</td>\n",
       "      <td>36.2</td>\n",
       "      <td>24.5</td>\n",
       "      <td>29.0</td>\n",
       "      <td>30.0</td>\n",
       "      <td>18.8</td>\n",
       "    </tr>\n",
       "    <tr>\n",
       "      <th>2</th>\n",
       "      <td>22.2</td>\n",
       "      <td>69</td>\n",
       "      <td>177.75</td>\n",
       "      <td>68.50</td>\n",
       "      <td>38.7</td>\n",
       "      <td>102.0</td>\n",
       "      <td>95.0</td>\n",
       "      <td>98.3</td>\n",
       "      <td>55.0</td>\n",
       "      <td>38.3</td>\n",
       "      <td>21.8</td>\n",
       "      <td>30.8</td>\n",
       "      <td>25.7</td>\n",
       "      <td>18.8</td>\n",
       "    </tr>\n",
       "    <tr>\n",
       "      <th>3</th>\n",
       "      <td>10.6</td>\n",
       "      <td>57</td>\n",
       "      <td>147.75</td>\n",
       "      <td>65.75</td>\n",
       "      <td>35.2</td>\n",
       "      <td>99.6</td>\n",
       "      <td>86.4</td>\n",
       "      <td>90.1</td>\n",
       "      <td>53.0</td>\n",
       "      <td>35.0</td>\n",
       "      <td>21.3</td>\n",
       "      <td>31.7</td>\n",
       "      <td>27.3</td>\n",
       "      <td>16.9</td>\n",
       "    </tr>\n",
       "    <tr>\n",
       "      <th>4</th>\n",
       "      <td>47.5</td>\n",
       "      <td>51</td>\n",
       "      <td>219.00</td>\n",
       "      <td>64.00</td>\n",
       "      <td>41.2</td>\n",
       "      <td>119.8</td>\n",
       "      <td>122.1</td>\n",
       "      <td>112.8</td>\n",
       "      <td>62.5</td>\n",
       "      <td>36.9</td>\n",
       "      <td>23.6</td>\n",
       "      <td>34.7</td>\n",
       "      <td>29.1</td>\n",
       "      <td>18.4</td>\n",
       "    </tr>\n",
       "  </tbody>\n",
       "</table>\n",
       "</div>"
      ],
      "text/plain": [
       "    FAT  AGE  WEIGHT  HEIGHT  NECK  CHEST  ABDOMEN    HIP  THIGH  KNEE  ANKLE  \\\n",
       "0  35.2   46  363.15   72.25  51.2  136.2    148.1  147.7   87.3  49.1   29.6   \n",
       "1  11.8   27  168.00   71.25  38.1   93.0     79.1   94.5   57.3  36.2   24.5   \n",
       "2  22.2   69  177.75   68.50  38.7  102.0     95.0   98.3   55.0  38.3   21.8   \n",
       "3  10.6   57  147.75   65.75  35.2   99.6     86.4   90.1   53.0  35.0   21.3   \n",
       "4  47.5   51  219.00   64.00  41.2  119.8    122.1  112.8   62.5  36.9   23.6   \n",
       "\n",
       "   BICEPS  FOREARM  WRIST  \n",
       "0    45.0     29.0   21.4  \n",
       "1    29.0     30.0   18.8  \n",
       "2    30.8     25.7   18.8  \n",
       "3    31.7     27.3   16.9  \n",
       "4    34.7     29.1   18.4  "
      ]
     },
     "execution_count": 3,
     "metadata": {},
     "output_type": "execute_result"
    }
   ],
   "source": [
    "# 데이터 불러오기\n",
    "\n",
    "df_raw = pd.read_csv('data/body.csv')\n",
    "df_raw.head()"
   ]
  },
  {
   "cell_type": "code",
   "execution_count": 4,
   "id": "7fde0d66",
   "metadata": {},
   "outputs": [
    {
     "name": "stdout",
     "output_type": "stream",
     "text": [
      "학습용 데이터의 X 크기: (176, 13)\n",
      "학습용 데이터의 Y 크기: (176,)\n",
      "평가용 데이터의 X 크기: (76, 13)\n",
      "평가용 데이터의 X 크기: (76,)\n"
     ]
    }
   ],
   "source": [
    "df_raw_y = df_raw['FAT']\n",
    "df_raw_x = df_raw.drop(columns = 'FAT', inplace = False)\n",
    "\n",
    "df_train_x, df_test_x, df_train_y, df_test_y = train_test_split(df_raw_x, df_raw_y, test_size = 0.3, random_state=1234)\n",
    "\n",
    "print('학습용 데이터의 X 크기: {}'.format(df_train_x.shape))\n",
    "print('학습용 데이터의 Y 크기: {}'.format(df_train_y.shape))\n",
    "print('평가용 데이터의 X 크기: {}'.format(df_test_x.shape))\n",
    "print('평가용 데이터의 X 크기: {}'.format(df_test_y.shape))"
   ]
  },
  {
   "cell_type": "code",
   "execution_count": 5,
   "id": "a63ebd4b",
   "metadata": {},
   "outputs": [
    {
     "name": "stdout",
     "output_type": "stream",
     "text": [
      "학습용 데이터의 모델 설명력: 0.981\n",
      "평가용 데이터의 모델 설명력: 0.581\n"
     ]
    }
   ],
   "source": [
    "# 기본 모델 생성\n",
    "\n",
    "gb_uncustomized = GradientBoostingRegressor(random_state = 1234)\n",
    "gb_uncustomized.fit(df_train_x, df_train_y)\n",
    "\n",
    "# 데이터 설명력\n",
    "\n",
    "print('학습용 데이터의 모델 설명력: {:.3f}'.format(gb_uncustomized.score(df_train_x, df_train_y)))\n",
    "print('평가용 데이터의 모델 설명력: {:.3f}'.format(gb_uncustomized.score(df_test_x, df_test_y)))  "
   ]
  },
  {
   "cell_type": "code",
   "execution_count": 6,
   "id": "cd0ebfc5",
   "metadata": {},
   "outputs": [
    {
     "data": {
      "text/plain": [
       "GradientBoostingRegressor(random_state=1234)"
      ]
     },
     "execution_count": 6,
     "metadata": {},
     "output_type": "execute_result"
    }
   ],
   "source": [
    "# 현재 생성된 트리 모델의 옵션 확인\n",
    "\n",
    "gb_uncustomized"
   ]
  },
  {
   "cell_type": "markdown",
   "id": "44a0c4e9",
   "metadata": {},
   "source": [
    "###### 모델 파라미터 조정 Manual Search\n",
    "- n_estimators : 트리 수 변경에 따른 모델 성능"
   ]
  },
  {
   "cell_type": "code",
   "execution_count": 7,
   "id": "cb2dabdf",
   "metadata": {},
   "outputs": [],
   "source": [
    "# train 및 test 설명력 결과 저장\n",
    "train_score = []\n",
    "test_score = []\n",
    "\n",
    "# n_estimators 트리 수 변경, 10 ~ 100\n",
    "para_n_tree = [n_tree * 10 for n_tree in range(1, 11)] # para_n_tree = [10, 20 30, ... 100]\n",
    "\n",
    "for v_n_estimators in para_n_tree:\n",
    "    gb = GradientBoostingRegressor(n_estimators=v_n_estimators, random_state=1234)\n",
    "    gb.fit(df_train_x, df_train_y)\n",
    "    train_score.append(gb.score(df_train_x, df_train_y))\n",
    "    test_score.append(gb.score(df_test_x, df_test_y))\n",
    "    \n",
    "# 결과 저장\n",
    "df_score_n = pd.DataFrame()\n",
    "df_score_n['n_estimators'] = para_n_tree\n",
    "df_score_n['TrainScore'] = train_score\n",
    "df_score_n['TestScore'] = test_score"
   ]
  },
  {
   "cell_type": "code",
   "execution_count": 8,
   "id": "ac484d2c",
   "metadata": {},
   "outputs": [
    {
     "data": {
      "text/html": [
       "<div>\n",
       "<style scoped>\n",
       "    .dataframe tbody tr th:only-of-type {\n",
       "        vertical-align: middle;\n",
       "    }\n",
       "\n",
       "    .dataframe tbody tr th {\n",
       "        vertical-align: top;\n",
       "    }\n",
       "\n",
       "    .dataframe thead th {\n",
       "        text-align: right;\n",
       "    }\n",
       "</style>\n",
       "<table border=\"1\" class=\"dataframe\">\n",
       "  <thead>\n",
       "    <tr style=\"text-align: right;\">\n",
       "      <th></th>\n",
       "      <th>n_estimators</th>\n",
       "      <th>TrainScore</th>\n",
       "      <th>TestScore</th>\n",
       "    </tr>\n",
       "  </thead>\n",
       "  <tbody>\n",
       "    <tr>\n",
       "      <th>0</th>\n",
       "      <td>10</td>\n",
       "      <td>0.712</td>\n",
       "      <td>0.512</td>\n",
       "    </tr>\n",
       "    <tr>\n",
       "      <th>1</th>\n",
       "      <td>20</td>\n",
       "      <td>0.850</td>\n",
       "      <td>0.589</td>\n",
       "    </tr>\n",
       "    <tr>\n",
       "      <th>2</th>\n",
       "      <td>30</td>\n",
       "      <td>0.897</td>\n",
       "      <td>0.600</td>\n",
       "    </tr>\n",
       "    <tr>\n",
       "      <th>3</th>\n",
       "      <td>40</td>\n",
       "      <td>0.921</td>\n",
       "      <td>0.599</td>\n",
       "    </tr>\n",
       "    <tr>\n",
       "      <th>4</th>\n",
       "      <td>50</td>\n",
       "      <td>0.942</td>\n",
       "      <td>0.587</td>\n",
       "    </tr>\n",
       "    <tr>\n",
       "      <th>5</th>\n",
       "      <td>60</td>\n",
       "      <td>0.954</td>\n",
       "      <td>0.586</td>\n",
       "    </tr>\n",
       "    <tr>\n",
       "      <th>6</th>\n",
       "      <td>70</td>\n",
       "      <td>0.963</td>\n",
       "      <td>0.587</td>\n",
       "    </tr>\n",
       "    <tr>\n",
       "      <th>7</th>\n",
       "      <td>80</td>\n",
       "      <td>0.970</td>\n",
       "      <td>0.581</td>\n",
       "    </tr>\n",
       "    <tr>\n",
       "      <th>8</th>\n",
       "      <td>90</td>\n",
       "      <td>0.976</td>\n",
       "      <td>0.582</td>\n",
       "    </tr>\n",
       "    <tr>\n",
       "      <th>9</th>\n",
       "      <td>100</td>\n",
       "      <td>0.981</td>\n",
       "      <td>0.581</td>\n",
       "    </tr>\n",
       "  </tbody>\n",
       "</table>\n",
       "</div>"
      ],
      "text/plain": [
       "   n_estimators  TrainScore  TestScore\n",
       "0            10       0.712      0.512\n",
       "1            20       0.850      0.589\n",
       "2            30       0.897      0.600\n",
       "3            40       0.921      0.599\n",
       "4            50       0.942      0.587\n",
       "5            60       0.954      0.586\n",
       "6            70       0.963      0.587\n",
       "7            80       0.970      0.581\n",
       "8            90       0.976      0.582\n",
       "9           100       0.981      0.581"
      ]
     },
     "execution_count": 8,
     "metadata": {},
     "output_type": "execute_result"
    }
   ],
   "source": [
    "# 모델 설명력 확인\n",
    "df_score_n.round(3)"
   ]
  },
  {
   "cell_type": "code",
   "execution_count": 9,
   "id": "9e1bcde5",
   "metadata": {},
   "outputs": [
    {
     "data": {
      "text/plain": [
       "<matplotlib.legend.Legend at 0x1ad1d660610>"
      ]
     },
     "execution_count": 9,
     "metadata": {},
     "output_type": "execute_result"
    },
    {
     "data": {
      "image/png": "[encoded data removed]",
      "text/plain": [
       "<Figure size 432x288 with 1 Axes>"
      ]
     },
     "metadata": {
      "needs_background": "light"
     },
     "output_type": "display_data"
    }
   ],
   "source": [
    "# 모델 설명력 그래프로 확인\n",
    "plt.plot(para_n_tree, train_score, linestyle = '-', label = 'Train Score')\n",
    "plt.plot(para_n_tree, test_score, linestyle = '--', label = 'Test Score')\n",
    "plt.ylabel('score')\n",
    "plt.xlabel('n_estimators')\n",
    "plt.legend()"
   ]
  },
  {
   "cell_type": "markdown",
   "id": "178e33d1",
   "metadata": {},
   "source": [
    "###### 모델 파라미터 조정 : Manual Search\n",
    "- min_samples_leaf"
   ]
  },
  {
   "cell_type": "code",
   "execution_count": 10,
   "id": "1a91eda2",
   "metadata": {},
   "outputs": [],
   "source": [
    "# train 및 test 설명력 결과 저장\n",
    "train_score = []\n",
    "test_score = []\n",
    "\n",
    "# n_estimators 트리 수 변경, 10 ~ 100\n",
    "para_leaf = [n_leaf for n_leaf in range(1, 21)] # para_n_tree = [1, 2, 3, 4, ..., 20]\n",
    "\n",
    "for v_min_samples_leaf in para_leaf:\n",
    "    gb = GradientBoostingRegressor(min_samples_leaf= v_min_samples_leaf, random_state=1234, n_estimators = 30)\n",
    "    gb.fit(df_train_x, df_train_y)\n",
    "    train_score.append(gb.score(df_train_x, df_train_y))\n",
    "    test_score.append(gb.score(df_test_x, df_test_y))\n",
    "    \n",
    "# 결과 저장\n",
    "df_score_leaf = pd.DataFrame()\n",
    "df_score_leaf['MinSamplesLeaf'] = para_leaf\n",
    "df_score_leaf['TrainScore'] = train_score\n",
    "df_score_leaf['TestScore'] = test_score"
   ]
  },
  {
   "cell_type": "code",
   "execution_count": 11,
   "id": "d0e0327a",
   "metadata": {},
   "outputs": [
    {
     "data": {
      "text/html": [
       "<div>\n",
       "<style scoped>\n",
       "    .dataframe tbody tr th:only-of-type {\n",
       "        vertical-align: middle;\n",
       "    }\n",
       "\n",
       "    .dataframe tbody tr th {\n",
       "        vertical-align: top;\n",
       "    }\n",
       "\n",
       "    .dataframe thead th {\n",
       "        text-align: right;\n",
       "    }\n",
       "</style>\n",
       "<table border=\"1\" class=\"dataframe\">\n",
       "  <thead>\n",
       "    <tr style=\"text-align: right;\">\n",
       "      <th></th>\n",
       "      <th>MinSamplesLeaf</th>\n",
       "      <th>TrainScore</th>\n",
       "      <th>TestScore</th>\n",
       "    </tr>\n",
       "  </thead>\n",
       "  <tbody>\n",
       "    <tr>\n",
       "      <th>0</th>\n",
       "      <td>1</td>\n",
       "      <td>0.897</td>\n",
       "      <td>0.600</td>\n",
       "    </tr>\n",
       "    <tr>\n",
       "      <th>1</th>\n",
       "      <td>2</td>\n",
       "      <td>0.899</td>\n",
       "      <td>0.599</td>\n",
       "    </tr>\n",
       "    <tr>\n",
       "      <th>2</th>\n",
       "      <td>3</td>\n",
       "      <td>0.896</td>\n",
       "      <td>0.594</td>\n",
       "    </tr>\n",
       "    <tr>\n",
       "      <th>3</th>\n",
       "      <td>4</td>\n",
       "      <td>0.893</td>\n",
       "      <td>0.586</td>\n",
       "    </tr>\n",
       "    <tr>\n",
       "      <th>4</th>\n",
       "      <td>5</td>\n",
       "      <td>0.890</td>\n",
       "      <td>0.604</td>\n",
       "    </tr>\n",
       "    <tr>\n",
       "      <th>5</th>\n",
       "      <td>6</td>\n",
       "      <td>0.888</td>\n",
       "      <td>0.596</td>\n",
       "    </tr>\n",
       "    <tr>\n",
       "      <th>6</th>\n",
       "      <td>7</td>\n",
       "      <td>0.884</td>\n",
       "      <td>0.590</td>\n",
       "    </tr>\n",
       "    <tr>\n",
       "      <th>7</th>\n",
       "      <td>8</td>\n",
       "      <td>0.874</td>\n",
       "      <td>0.610</td>\n",
       "    </tr>\n",
       "    <tr>\n",
       "      <th>8</th>\n",
       "      <td>9</td>\n",
       "      <td>0.879</td>\n",
       "      <td>0.598</td>\n",
       "    </tr>\n",
       "    <tr>\n",
       "      <th>9</th>\n",
       "      <td>10</td>\n",
       "      <td>0.873</td>\n",
       "      <td>0.587</td>\n",
       "    </tr>\n",
       "    <tr>\n",
       "      <th>10</th>\n",
       "      <td>11</td>\n",
       "      <td>0.870</td>\n",
       "      <td>0.620</td>\n",
       "    </tr>\n",
       "    <tr>\n",
       "      <th>11</th>\n",
       "      <td>12</td>\n",
       "      <td>0.865</td>\n",
       "      <td>0.597</td>\n",
       "    </tr>\n",
       "    <tr>\n",
       "      <th>12</th>\n",
       "      <td>13</td>\n",
       "      <td>0.862</td>\n",
       "      <td>0.606</td>\n",
       "    </tr>\n",
       "    <tr>\n",
       "      <th>13</th>\n",
       "      <td>14</td>\n",
       "      <td>0.852</td>\n",
       "      <td>0.600</td>\n",
       "    </tr>\n",
       "    <tr>\n",
       "      <th>14</th>\n",
       "      <td>15</td>\n",
       "      <td>0.847</td>\n",
       "      <td>0.605</td>\n",
       "    </tr>\n",
       "    <tr>\n",
       "      <th>15</th>\n",
       "      <td>16</td>\n",
       "      <td>0.845</td>\n",
       "      <td>0.600</td>\n",
       "    </tr>\n",
       "    <tr>\n",
       "      <th>16</th>\n",
       "      <td>17</td>\n",
       "      <td>0.841</td>\n",
       "      <td>0.589</td>\n",
       "    </tr>\n",
       "    <tr>\n",
       "      <th>17</th>\n",
       "      <td>18</td>\n",
       "      <td>0.838</td>\n",
       "      <td>0.588</td>\n",
       "    </tr>\n",
       "    <tr>\n",
       "      <th>18</th>\n",
       "      <td>19</td>\n",
       "      <td>0.840</td>\n",
       "      <td>0.589</td>\n",
       "    </tr>\n",
       "    <tr>\n",
       "      <th>19</th>\n",
       "      <td>20</td>\n",
       "      <td>0.831</td>\n",
       "      <td>0.595</td>\n",
       "    </tr>\n",
       "  </tbody>\n",
       "</table>\n",
       "</div>"
      ],
      "text/plain": [
       "    MinSamplesLeaf  TrainScore  TestScore\n",
       "0                1       0.897      0.600\n",
       "1                2       0.899      0.599\n",
       "2                3       0.896      0.594\n",
       "3                4       0.893      0.586\n",
       "4                5       0.890      0.604\n",
       "5                6       0.888      0.596\n",
       "6                7       0.884      0.590\n",
       "7                8       0.874      0.610\n",
       "8                9       0.879      0.598\n",
       "9               10       0.873      0.587\n",
       "10              11       0.870      0.620\n",
       "11              12       0.865      0.597\n",
       "12              13       0.862      0.606\n",
       "13              14       0.852      0.600\n",
       "14              15       0.847      0.605\n",
       "15              16       0.845      0.600\n",
       "16              17       0.841      0.589\n",
       "17              18       0.838      0.588\n",
       "18              19       0.840      0.589\n",
       "19              20       0.831      0.595"
      ]
     },
     "execution_count": 11,
     "metadata": {},
     "output_type": "execute_result"
    }
   ],
   "source": [
    "# 모델 설명력 확인\n",
    "df_score_leaf.round(3)"
   ]
  },
  {
   "cell_type": "code",
   "execution_count": 12,
   "id": "f751cc0d",
   "metadata": {},
   "outputs": [
    {
     "data": {
      "text/plain": [
       "<matplotlib.legend.Legend at 0x1ad1df14040>"
      ]
     },
     "execution_count": 12,
     "metadata": {},
     "output_type": "execute_result"
    },
    {
     "data": {
      "image/png": "[encoded data removed]",
      "text/plain": [
       "<Figure size 432x288 with 1 Axes>"
      ]
     },
     "metadata": {
      "needs_background": "light"
     },
     "output_type": "display_data"
    }
   ],
   "source": [
    "# 모델 설명력 그래프로 확인\n",
    "plt.plot(para_leaf, train_score, linestyle = '-', label = 'Train Score')\n",
    "plt.plot(para_leaf, test_score, linestyle = '--', label = 'Test Score')\n",
    "plt.ylabel('score')\n",
    "plt.xlabel('min samples leaf')\n",
    "plt.legend()"
   ]
  },
  {
   "cell_type": "markdown",
   "id": "909418f0",
   "metadata": {},
   "source": [
    "###### 모델 파라미터 조정 : Manual Search\n",
    "- min_samples_split"
   ]
  },
  {
   "cell_type": "code",
   "execution_count": 16,
   "id": "2d4ad902",
   "metadata": {},
   "outputs": [],
   "source": [
    "# train 및 test 설명력 결과 저장\n",
    "train_score = []\n",
    "test_score = []\n",
    "\n",
    "\n",
    "para_split = [n_split * 2 for n_split in range(2, 21)] # para_n_tree = [4, 6, 8, ..., 40]\n",
    "\n",
    "for v_min_samples_split in para_split:\n",
    "    gb = GradientBoostingRegressor(min_samples_leaf= 11, \n",
    "                                   random_state=1234, n_estimators = 30, min_samples_split = v_min_samples_split)\n",
    "    gb.fit(df_train_x, df_train_y)\n",
    "    train_score.append(gb.score(df_train_x, df_train_y))\n",
    "    test_score.append(gb.score(df_test_x, df_test_y))\n",
    "    \n",
    "# 결과 저장\n",
    "df_score_split = pd.DataFrame()\n",
    "df_score_split['MinSamplessplit'] = para_split\n",
    "df_score_split['TrainScore'] = train_score\n",
    "df_score_split['TestScore'] = test_score"
   ]
  },
  {
   "cell_type": "code",
   "execution_count": 17,
   "id": "b651df90",
   "metadata": {},
   "outputs": [
    {
     "data": {
      "text/html": [
       "<div>\n",
       "<style scoped>\n",
       "    .dataframe tbody tr th:only-of-type {\n",
       "        vertical-align: middle;\n",
       "    }\n",
       "\n",
       "    .dataframe tbody tr th {\n",
       "        vertical-align: top;\n",
       "    }\n",
       "\n",
       "    .dataframe thead th {\n",
       "        text-align: right;\n",
       "    }\n",
       "</style>\n",
       "<table border=\"1\" class=\"dataframe\">\n",
       "  <thead>\n",
       "    <tr style=\"text-align: right;\">\n",
       "      <th></th>\n",
       "      <th>MinSamplessplit</th>\n",
       "      <th>TrainScore</th>\n",
       "      <th>TestScore</th>\n",
       "    </tr>\n",
       "  </thead>\n",
       "  <tbody>\n",
       "    <tr>\n",
       "      <th>0</th>\n",
       "      <td>4</td>\n",
       "      <td>0.870</td>\n",
       "      <td>0.620</td>\n",
       "    </tr>\n",
       "    <tr>\n",
       "      <th>1</th>\n",
       "      <td>6</td>\n",
       "      <td>0.870</td>\n",
       "      <td>0.620</td>\n",
       "    </tr>\n",
       "    <tr>\n",
       "      <th>2</th>\n",
       "      <td>8</td>\n",
       "      <td>0.870</td>\n",
       "      <td>0.620</td>\n",
       "    </tr>\n",
       "    <tr>\n",
       "      <th>3</th>\n",
       "      <td>10</td>\n",
       "      <td>0.870</td>\n",
       "      <td>0.620</td>\n",
       "    </tr>\n",
       "    <tr>\n",
       "      <th>4</th>\n",
       "      <td>12</td>\n",
       "      <td>0.870</td>\n",
       "      <td>0.620</td>\n",
       "    </tr>\n",
       "    <tr>\n",
       "      <th>5</th>\n",
       "      <td>14</td>\n",
       "      <td>0.870</td>\n",
       "      <td>0.620</td>\n",
       "    </tr>\n",
       "    <tr>\n",
       "      <th>6</th>\n",
       "      <td>16</td>\n",
       "      <td>0.870</td>\n",
       "      <td>0.620</td>\n",
       "    </tr>\n",
       "    <tr>\n",
       "      <th>7</th>\n",
       "      <td>18</td>\n",
       "      <td>0.870</td>\n",
       "      <td>0.620</td>\n",
       "    </tr>\n",
       "    <tr>\n",
       "      <th>8</th>\n",
       "      <td>20</td>\n",
       "      <td>0.870</td>\n",
       "      <td>0.620</td>\n",
       "    </tr>\n",
       "    <tr>\n",
       "      <th>9</th>\n",
       "      <td>22</td>\n",
       "      <td>0.870</td>\n",
       "      <td>0.620</td>\n",
       "    </tr>\n",
       "    <tr>\n",
       "      <th>10</th>\n",
       "      <td>24</td>\n",
       "      <td>0.868</td>\n",
       "      <td>0.614</td>\n",
       "    </tr>\n",
       "    <tr>\n",
       "      <th>11</th>\n",
       "      <td>26</td>\n",
       "      <td>0.868</td>\n",
       "      <td>0.617</td>\n",
       "    </tr>\n",
       "    <tr>\n",
       "      <th>12</th>\n",
       "      <td>28</td>\n",
       "      <td>0.863</td>\n",
       "      <td>0.617</td>\n",
       "    </tr>\n",
       "    <tr>\n",
       "      <th>13</th>\n",
       "      <td>30</td>\n",
       "      <td>0.860</td>\n",
       "      <td>0.617</td>\n",
       "    </tr>\n",
       "    <tr>\n",
       "      <th>14</th>\n",
       "      <td>32</td>\n",
       "      <td>0.862</td>\n",
       "      <td>0.611</td>\n",
       "    </tr>\n",
       "    <tr>\n",
       "      <th>15</th>\n",
       "      <td>34</td>\n",
       "      <td>0.855</td>\n",
       "      <td>0.616</td>\n",
       "    </tr>\n",
       "    <tr>\n",
       "      <th>16</th>\n",
       "      <td>36</td>\n",
       "      <td>0.853</td>\n",
       "      <td>0.608</td>\n",
       "    </tr>\n",
       "    <tr>\n",
       "      <th>17</th>\n",
       "      <td>38</td>\n",
       "      <td>0.854</td>\n",
       "      <td>0.610</td>\n",
       "    </tr>\n",
       "    <tr>\n",
       "      <th>18</th>\n",
       "      <td>40</td>\n",
       "      <td>0.854</td>\n",
       "      <td>0.617</td>\n",
       "    </tr>\n",
       "  </tbody>\n",
       "</table>\n",
       "</div>"
      ],
      "text/plain": [
       "    MinSamplessplit  TrainScore  TestScore\n",
       "0                 4       0.870      0.620\n",
       "1                 6       0.870      0.620\n",
       "2                 8       0.870      0.620\n",
       "3                10       0.870      0.620\n",
       "4                12       0.870      0.620\n",
       "5                14       0.870      0.620\n",
       "6                16       0.870      0.620\n",
       "7                18       0.870      0.620\n",
       "8                20       0.870      0.620\n",
       "9                22       0.870      0.620\n",
       "10               24       0.868      0.614\n",
       "11               26       0.868      0.617\n",
       "12               28       0.863      0.617\n",
       "13               30       0.860      0.617\n",
       "14               32       0.862      0.611\n",
       "15               34       0.855      0.616\n",
       "16               36       0.853      0.608\n",
       "17               38       0.854      0.610\n",
       "18               40       0.854      0.617"
      ]
     },
     "execution_count": 17,
     "metadata": {},
     "output_type": "execute_result"
    }
   ],
   "source": [
    "# 모델 설명력 확인\n",
    "df_score_split.round(3)"
   ]
  },
  {
   "cell_type": "code",
   "execution_count": 18,
   "id": "7c27e8e9",
   "metadata": {},
   "outputs": [
    {
     "data": {
      "text/plain": [
       "<matplotlib.legend.Legend at 0x1ad1dfb4eb0>"
      ]
     },
     "execution_count": 18,
     "metadata": {},
     "output_type": "execute_result"
    },
    {
     "data": {
      "image/png": "[encoded data removed]",
      "text/plain": [
       "<Figure size 432x288 with 1 Axes>"
      ]
     },
     "metadata": {
      "needs_background": "light"
     },
     "output_type": "display_data"
    }
   ],
   "source": [
    "# 모델 설명력 그래프로 확인\n",
    "plt.plot(para_split, train_score, linestyle = '-', label = 'Train Score')\n",
    "plt.plot(para_split, test_score, linestyle = '--', label = 'Test Score')\n",
    "plt.ylabel('score')\n",
    "plt.xlabel('min samples split')\n",
    "plt.legend()"
   ]
  },
  {
   "cell_type": "markdown",
   "id": "a8fb2215",
   "metadata": {},
   "source": [
    "###### 모델 파라미터 조정 : Manual Search\n",
    "- max_depth"
   ]
  },
  {
   "cell_type": "code",
   "execution_count": 19,
   "id": "c2b328ee",
   "metadata": {},
   "outputs": [],
   "source": [
    "# train 및 test 설명력 결과 저장\n",
    "train_score = []\n",
    "test_score = []\n",
    "\n",
    "\n",
    "para_depth = [depth for depth in range(1, 11)] # para_n_tree = [1, 2, 3, 4, ..., 10]\n",
    "\n",
    "for v_max_depth in para_depth:\n",
    "    gb = GradientBoostingRegressor(min_samples_leaf= 11, random_state=1234, n_estimators = 30, min_samples_split=22, max_depth= v_max_depth)\n",
    "    gb.fit(df_train_x, df_train_y)\n",
    "    train_score.append(gb.score(df_train_x, df_train_y))\n",
    "    test_score.append(gb.score(df_test_x, df_test_y))\n",
    "    \n",
    "# 결과 저장\n",
    "df_score_depth = pd.DataFrame()\n",
    "df_score_depth['Depth'] = para_depth\n",
    "df_score_depth['TrainScore'] = train_score\n",
    "df_score_depth['TestScore'] = test_score"
   ]
  },
  {
   "cell_type": "code",
   "execution_count": 20,
   "id": "f99c73e1",
   "metadata": {},
   "outputs": [
    {
     "data": {
      "text/html": [
       "<div>\n",
       "<style scoped>\n",
       "    .dataframe tbody tr th:only-of-type {\n",
       "        vertical-align: middle;\n",
       "    }\n",
       "\n",
       "    .dataframe tbody tr th {\n",
       "        vertical-align: top;\n",
       "    }\n",
       "\n",
       "    .dataframe thead th {\n",
       "        text-align: right;\n",
       "    }\n",
       "</style>\n",
       "<table border=\"1\" class=\"dataframe\">\n",
       "  <thead>\n",
       "    <tr style=\"text-align: right;\">\n",
       "      <th></th>\n",
       "      <th>Depth</th>\n",
       "      <th>TrainScore</th>\n",
       "      <th>TestScore</th>\n",
       "    </tr>\n",
       "  </thead>\n",
       "  <tbody>\n",
       "    <tr>\n",
       "      <th>0</th>\n",
       "      <td>1</td>\n",
       "      <td>0.703</td>\n",
       "      <td>0.592</td>\n",
       "    </tr>\n",
       "    <tr>\n",
       "      <th>1</th>\n",
       "      <td>2</td>\n",
       "      <td>0.800</td>\n",
       "      <td>0.600</td>\n",
       "    </tr>\n",
       "    <tr>\n",
       "      <th>2</th>\n",
       "      <td>3</td>\n",
       "      <td>0.870</td>\n",
       "      <td>0.620</td>\n",
       "    </tr>\n",
       "    <tr>\n",
       "      <th>3</th>\n",
       "      <td>4</td>\n",
       "      <td>0.900</td>\n",
       "      <td>0.629</td>\n",
       "    </tr>\n",
       "    <tr>\n",
       "      <th>4</th>\n",
       "      <td>5</td>\n",
       "      <td>0.913</td>\n",
       "      <td>0.613</td>\n",
       "    </tr>\n",
       "    <tr>\n",
       "      <th>5</th>\n",
       "      <td>6</td>\n",
       "      <td>0.917</td>\n",
       "      <td>0.614</td>\n",
       "    </tr>\n",
       "    <tr>\n",
       "      <th>6</th>\n",
       "      <td>7</td>\n",
       "      <td>0.920</td>\n",
       "      <td>0.613</td>\n",
       "    </tr>\n",
       "    <tr>\n",
       "      <th>7</th>\n",
       "      <td>8</td>\n",
       "      <td>0.920</td>\n",
       "      <td>0.615</td>\n",
       "    </tr>\n",
       "    <tr>\n",
       "      <th>8</th>\n",
       "      <td>9</td>\n",
       "      <td>0.921</td>\n",
       "      <td>0.609</td>\n",
       "    </tr>\n",
       "    <tr>\n",
       "      <th>9</th>\n",
       "      <td>10</td>\n",
       "      <td>0.922</td>\n",
       "      <td>0.616</td>\n",
       "    </tr>\n",
       "  </tbody>\n",
       "</table>\n",
       "</div>"
      ],
      "text/plain": [
       "   Depth  TrainScore  TestScore\n",
       "0      1       0.703      0.592\n",
       "1      2       0.800      0.600\n",
       "2      3       0.870      0.620\n",
       "3      4       0.900      0.629\n",
       "4      5       0.913      0.613\n",
       "5      6       0.917      0.614\n",
       "6      7       0.920      0.613\n",
       "7      8       0.920      0.615\n",
       "8      9       0.921      0.609\n",
       "9     10       0.922      0.616"
      ]
     },
     "execution_count": 20,
     "metadata": {},
     "output_type": "execute_result"
    }
   ],
   "source": [
    "# 모델 설명력 확인\n",
    "df_score_depth.round(3)"
   ]
  },
  {
   "cell_type": "code",
   "execution_count": 21,
   "id": "7a1c1c68",
   "metadata": {},
   "outputs": [
    {
     "data": {
      "text/plain": [
       "<matplotlib.legend.Legend at 0x1ad1e1176d0>"
      ]
     },
     "execution_count": 21,
     "metadata": {},
     "output_type": "execute_result"
    },
    {
     "data": {
      "image/png": "[encoded data removed]",
      "text/plain": [
       "<Figure size 432x288 with 1 Axes>"
      ]
     },
     "metadata": {
      "needs_background": "light"
     },
     "output_type": "display_data"
    }
   ],
   "source": [
    "# 모델 설명력 그래프로 확인\n",
    "plt.plot(para_depth, train_score, linestyle = '-', label = 'Train Score')\n",
    "plt.plot(para_depth, test_score, linestyle = '--', label = 'Test Score')\n",
    "plt.ylabel('score')\n",
    "plt.xlabel('max depth')\n",
    "plt.legend()"
   ]
  },
  {
   "cell_type": "markdown",
   "id": "87e68223",
   "metadata": {},
   "source": [
    "###### 모델 파라미터 조정 : Learning rate\n",
    "- learning rate"
   ]
  },
  {
   "cell_type": "code",
   "execution_count": 27,
   "id": "03e5cfed",
   "metadata": {},
   "outputs": [],
   "source": [
    "# train 및 test 설명력 결과 저장\n",
    "train_score = []\n",
    "test_score = []\n",
    "\n",
    "\n",
    "para_lr = [lr * 0.1 for lr in range(1, 10)] # para_n_tree = [0.1, 0.2, 0.3, ... 0.9]\n",
    "\n",
    "for v_learning_rate in para_lr:\n",
    "    gb = GradientBoostingRegressor(min_samples_leaf= 11, random_state=1234, n_estimators = 30, min_samples_split=22, max_depth= 4, learning_rate= v_learning_rate)\n",
    "    gb.fit(df_train_x, df_train_y)\n",
    "    train_score.append(gb.score(df_train_x, df_train_y))\n",
    "    test_score.append(gb.score(df_test_x, df_test_y))\n",
    "    \n",
    "# 결과 저장\n",
    "df_score_lr = pd.DataFrame()\n",
    "df_score_lr['LearningRate'] = para_lr\n",
    "df_score_lr['TrainScore'] = train_score\n",
    "df_score_lr['TestScore'] = test_score"
   ]
  },
  {
   "cell_type": "code",
   "execution_count": 28,
   "id": "9c163ad2",
   "metadata": {},
   "outputs": [
    {
     "data": {
      "text/html": [
       "<div>\n",
       "<style scoped>\n",
       "    .dataframe tbody tr th:only-of-type {\n",
       "        vertical-align: middle;\n",
       "    }\n",
       "\n",
       "    .dataframe tbody tr th {\n",
       "        vertical-align: top;\n",
       "    }\n",
       "\n",
       "    .dataframe thead th {\n",
       "        text-align: right;\n",
       "    }\n",
       "</style>\n",
       "<table border=\"1\" class=\"dataframe\">\n",
       "  <thead>\n",
       "    <tr style=\"text-align: right;\">\n",
       "      <th></th>\n",
       "      <th>LearningRate</th>\n",
       "      <th>TrainScore</th>\n",
       "      <th>TestScore</th>\n",
       "    </tr>\n",
       "  </thead>\n",
       "  <tbody>\n",
       "    <tr>\n",
       "      <th>0</th>\n",
       "      <td>0.1</td>\n",
       "      <td>0.900</td>\n",
       "      <td>0.629</td>\n",
       "    </tr>\n",
       "    <tr>\n",
       "      <th>1</th>\n",
       "      <td>0.2</td>\n",
       "      <td>0.940</td>\n",
       "      <td>0.588</td>\n",
       "    </tr>\n",
       "    <tr>\n",
       "      <th>2</th>\n",
       "      <td>0.3</td>\n",
       "      <td>0.966</td>\n",
       "      <td>0.566</td>\n",
       "    </tr>\n",
       "    <tr>\n",
       "      <th>3</th>\n",
       "      <td>0.4</td>\n",
       "      <td>0.981</td>\n",
       "      <td>0.539</td>\n",
       "    </tr>\n",
       "    <tr>\n",
       "      <th>4</th>\n",
       "      <td>0.5</td>\n",
       "      <td>0.984</td>\n",
       "      <td>0.533</td>\n",
       "    </tr>\n",
       "    <tr>\n",
       "      <th>5</th>\n",
       "      <td>0.6</td>\n",
       "      <td>0.990</td>\n",
       "      <td>0.527</td>\n",
       "    </tr>\n",
       "    <tr>\n",
       "      <th>6</th>\n",
       "      <td>0.7</td>\n",
       "      <td>0.993</td>\n",
       "      <td>0.478</td>\n",
       "    </tr>\n",
       "    <tr>\n",
       "      <th>7</th>\n",
       "      <td>0.8</td>\n",
       "      <td>0.994</td>\n",
       "      <td>0.437</td>\n",
       "    </tr>\n",
       "    <tr>\n",
       "      <th>8</th>\n",
       "      <td>0.9</td>\n",
       "      <td>0.997</td>\n",
       "      <td>0.464</td>\n",
       "    </tr>\n",
       "  </tbody>\n",
       "</table>\n",
       "</div>"
      ],
      "text/plain": [
       "   LearningRate  TrainScore  TestScore\n",
       "0           0.1       0.900      0.629\n",
       "1           0.2       0.940      0.588\n",
       "2           0.3       0.966      0.566\n",
       "3           0.4       0.981      0.539\n",
       "4           0.5       0.984      0.533\n",
       "5           0.6       0.990      0.527\n",
       "6           0.7       0.993      0.478\n",
       "7           0.8       0.994      0.437\n",
       "8           0.9       0.997      0.464"
      ]
     },
     "execution_count": 28,
     "metadata": {},
     "output_type": "execute_result"
    }
   ],
   "source": [
    "# 모델 설명력 확인\n",
    "df_score_lr.round(3)"
   ]
  },
  {
   "cell_type": "markdown",
   "id": "5970b518",
   "metadata": {},
   "source": [
    "###### RandomSearch 사용하여 최적의 파라미터 찾기"
   ]
  },
  {
   "cell_type": "code",
   "execution_count": 29,
   "id": "b840c371",
   "metadata": {},
   "outputs": [
    {
     "name": "stdout",
     "output_type": "stream",
     "text": [
      "best estimator model: \n",
      "GradientBoostingRegressor(criterion='mse', max_depth=5, max_features='auto',\n",
      "                          min_samples_leaf=17, min_samples_split=34,\n",
      "                          n_estimators=60, random_state=1234)\n",
      "\n",
      "best parameter: \n",
      "{'n_estimators': 60, 'min_samples_split': 34, 'min_samples_leaf': 17, 'max_features': 'auto', 'max_depth': 5, 'learning_rate': 0.1, 'criterion': 'mse'}\n",
      "\n",
      "best score: \n",
      "0.659\n"
     ]
    }
   ],
   "source": [
    "estimator = GradientBoostingRegressor(random_state = 1234)\n",
    "\n",
    "# 구하고자 하는 파라미터와 범위\n",
    "param_grid = {'n_estimators': para_n_tree, 'max_depth': para_depth,\n",
    "             'min_samples_split': para_split, 'min_samples_leaf': para_leaf, 'learning_rate': para_lr, 'criterion': ['mse'], 'max_features': ['auto']}\n",
    "\n",
    "# 설명력이 높은 최적 파라미터 찾기\n",
    "random_gb = RandomizedSearchCV(estimator, param_grid, scoring = 'r2', n_jobs= -1)\n",
    "random_gb.fit(df_train_x, df_train_y)\n",
    "\n",
    "print('best estimator model: \\n{}'.format(random_gb.best_estimator_))\n",
    "print('\\nbest parameter: \\n{}'.format(random_gb.best_params_))\n",
    "print('\\nbest score: \\n{}'.format(random_gb.best_score_.round(3)))"
   ]
  },
  {
   "cell_type": "markdown",
   "id": "2047289b",
   "metadata": {},
   "source": [
    "# 실습 데이터로 해보기"
   ]
  },
  {
   "cell_type": "code",
   "execution_count": 61,
   "id": "d9b16173",
   "metadata": {},
   "outputs": [
    {
     "data": {
      "text/html": [
       "<div>\n",
       "<style scoped>\n",
       "    .dataframe tbody tr th:only-of-type {\n",
       "        vertical-align: middle;\n",
       "    }\n",
       "\n",
       "    .dataframe tbody tr th {\n",
       "        vertical-align: top;\n",
       "    }\n",
       "\n",
       "    .dataframe thead th {\n",
       "        text-align: right;\n",
       "    }\n",
       "</style>\n",
       "<table border=\"1\" class=\"dataframe\">\n",
       "  <thead>\n",
       "    <tr style=\"text-align: right;\">\n",
       "      <th></th>\n",
       "      <th>No</th>\n",
       "      <th>temp</th>\n",
       "      <th>SLABweight</th>\n",
       "      <th>SLABwide</th>\n",
       "      <th>SLABthick</th>\n",
       "      <th>SLABlong</th>\n",
       "      <th>RolljoblinLT</th>\n",
       "      <th>SHEARinLT</th>\n",
       "      <th>TSmean</th>\n",
       "    </tr>\n",
       "  </thead>\n",
       "  <tbody>\n",
       "    <tr>\n",
       "      <th>0</th>\n",
       "      <td>1</td>\n",
       "      <td>571</td>\n",
       "      <td>30.60</td>\n",
       "      <td>1570</td>\n",
       "      <td>250</td>\n",
       "      <td>9970</td>\n",
       "      <td>14.3</td>\n",
       "      <td>8.0</td>\n",
       "      <td>255</td>\n",
       "    </tr>\n",
       "    <tr>\n",
       "      <th>1</th>\n",
       "      <td>2</td>\n",
       "      <td>351</td>\n",
       "      <td>23.65</td>\n",
       "      <td>1020</td>\n",
       "      <td>250</td>\n",
       "      <td>11860</td>\n",
       "      <td>10.3</td>\n",
       "      <td>13.4</td>\n",
       "      <td>340</td>\n",
       "    </tr>\n",
       "    <tr>\n",
       "      <th>2</th>\n",
       "      <td>3</td>\n",
       "      <td>460</td>\n",
       "      <td>34.63</td>\n",
       "      <td>1500</td>\n",
       "      <td>250</td>\n",
       "      <td>11810</td>\n",
       "      <td>14.6</td>\n",
       "      <td>7.5</td>\n",
       "      <td>253</td>\n",
       "    </tr>\n",
       "    <tr>\n",
       "      <th>3</th>\n",
       "      <td>4</td>\n",
       "      <td>488</td>\n",
       "      <td>28.94</td>\n",
       "      <td>1570</td>\n",
       "      <td>250</td>\n",
       "      <td>9430</td>\n",
       "      <td>14.4</td>\n",
       "      <td>7.8</td>\n",
       "      <td>252</td>\n",
       "    </tr>\n",
       "    <tr>\n",
       "      <th>4</th>\n",
       "      <td>5</td>\n",
       "      <td>335</td>\n",
       "      <td>34.81</td>\n",
       "      <td>1500</td>\n",
       "      <td>250</td>\n",
       "      <td>11870</td>\n",
       "      <td>14.7</td>\n",
       "      <td>7.2</td>\n",
       "      <td>253</td>\n",
       "    </tr>\n",
       "  </tbody>\n",
       "</table>\n",
       "</div>"
      ],
      "text/plain": [
       "   No  temp  SLABweight  SLABwide  SLABthick  SLABlong  RolljoblinLT  \\\n",
       "0   1   571       30.60      1570        250      9970          14.3   \n",
       "1   2   351       23.65      1020        250     11860          10.3   \n",
       "2   3   460       34.63      1500        250     11810          14.6   \n",
       "3   4   488       28.94      1570        250      9430          14.4   \n",
       "4   5   335       34.81      1500        250     11870          14.7   \n",
       "\n",
       "   SHEARinLT  TSmean  \n",
       "0        8.0     255  \n",
       "1       13.4     340  \n",
       "2        7.5     253  \n",
       "3        7.8     252  \n",
       "4        7.2     253  "
      ]
     },
     "execution_count": 61,
     "metadata": {},
     "output_type": "execute_result"
    }
   ],
   "source": [
    "df = pd.read_csv('data/hcr.csv')\n",
    "df.head()"
   ]
  },
  {
   "cell_type": "code",
   "execution_count": 63,
   "id": "d08bff59",
   "metadata": {},
   "outputs": [],
   "source": [
    "df.drop(columns = 'No', inplace = True)"
   ]
  },
  {
   "cell_type": "code",
   "execution_count": 65,
   "id": "daddbb44",
   "metadata": {},
   "outputs": [
    {
     "data": {
      "text/html": [
       "<div>\n",
       "<style scoped>\n",
       "    .dataframe tbody tr th:only-of-type {\n",
       "        vertical-align: middle;\n",
       "    }\n",
       "\n",
       "    .dataframe tbody tr th {\n",
       "        vertical-align: top;\n",
       "    }\n",
       "\n",
       "    .dataframe thead th {\n",
       "        text-align: right;\n",
       "    }\n",
       "</style>\n",
       "<table border=\"1\" class=\"dataframe\">\n",
       "  <thead>\n",
       "    <tr style=\"text-align: right;\">\n",
       "      <th></th>\n",
       "      <th>temp</th>\n",
       "      <th>SLABweight</th>\n",
       "      <th>SLABwide</th>\n",
       "      <th>SLABthick</th>\n",
       "      <th>SLABlong</th>\n",
       "      <th>RolljoblinLT</th>\n",
       "      <th>SHEARinLT</th>\n",
       "      <th>TSmean</th>\n",
       "    </tr>\n",
       "  </thead>\n",
       "  <tbody>\n",
       "    <tr>\n",
       "      <th>0</th>\n",
       "      <td>571</td>\n",
       "      <td>30.60</td>\n",
       "      <td>1570</td>\n",
       "      <td>250</td>\n",
       "      <td>9970</td>\n",
       "      <td>14.3</td>\n",
       "      <td>8.0</td>\n",
       "      <td>255</td>\n",
       "    </tr>\n",
       "    <tr>\n",
       "      <th>1</th>\n",
       "      <td>351</td>\n",
       "      <td>23.65</td>\n",
       "      <td>1020</td>\n",
       "      <td>250</td>\n",
       "      <td>11860</td>\n",
       "      <td>10.3</td>\n",
       "      <td>13.4</td>\n",
       "      <td>340</td>\n",
       "    </tr>\n",
       "    <tr>\n",
       "      <th>2</th>\n",
       "      <td>460</td>\n",
       "      <td>34.63</td>\n",
       "      <td>1500</td>\n",
       "      <td>250</td>\n",
       "      <td>11810</td>\n",
       "      <td>14.6</td>\n",
       "      <td>7.5</td>\n",
       "      <td>253</td>\n",
       "    </tr>\n",
       "    <tr>\n",
       "      <th>3</th>\n",
       "      <td>488</td>\n",
       "      <td>28.94</td>\n",
       "      <td>1570</td>\n",
       "      <td>250</td>\n",
       "      <td>9430</td>\n",
       "      <td>14.4</td>\n",
       "      <td>7.8</td>\n",
       "      <td>252</td>\n",
       "    </tr>\n",
       "    <tr>\n",
       "      <th>4</th>\n",
       "      <td>335</td>\n",
       "      <td>34.81</td>\n",
       "      <td>1500</td>\n",
       "      <td>250</td>\n",
       "      <td>11870</td>\n",
       "      <td>14.7</td>\n",
       "      <td>7.2</td>\n",
       "      <td>253</td>\n",
       "    </tr>\n",
       "  </tbody>\n",
       "</table>\n",
       "</div>"
      ],
      "text/plain": [
       "   temp  SLABweight  SLABwide  SLABthick  SLABlong  RolljoblinLT  SHEARinLT  \\\n",
       "0   571       30.60      1570        250      9970          14.3        8.0   \n",
       "1   351       23.65      1020        250     11860          10.3       13.4   \n",
       "2   460       34.63      1500        250     11810          14.6        7.5   \n",
       "3   488       28.94      1570        250      9430          14.4        7.8   \n",
       "4   335       34.81      1500        250     11870          14.7        7.2   \n",
       "\n",
       "   TSmean  \n",
       "0     255  \n",
       "1     340  \n",
       "2     253  \n",
       "3     252  \n",
       "4     253  "
      ]
     },
     "execution_count": 65,
     "metadata": {},
     "output_type": "execute_result"
    }
   ],
   "source": [
    "df.head()"
   ]
  },
  {
   "cell_type": "code",
   "execution_count": 69,
   "id": "67b76cec",
   "metadata": {},
   "outputs": [],
   "source": [
    "df_y = df['temp']\n",
    "df_x = df.drop(columns = 'temp', inplace = False)"
   ]
  },
  {
   "cell_type": "code",
   "execution_count": 70,
   "id": "bd2b555d",
   "metadata": {
    "scrolled": true
   },
   "outputs": [
    {
     "name": "stdout",
     "output_type": "stream",
     "text": [
      "학습용 데이터의 X 크기: (800, 7)\n",
      "학습용 데이터의 Y 크기: (800,)\n",
      "평가용 데이터의 X 크기: (200, 7)\n",
      "평가용 데이터의 X 크기: (200,)\n"
     ]
    }
   ],
   "source": [
    "df_train_x, df_test_x, df_train_y, df_test_y = train_test_split(df_x, df_y, test_size = 0.2, random_state=1234)\n",
    "\n",
    "print('학습용 데이터의 X 크기: {}'.format(df_train_x.shape))\n",
    "print('학습용 데이터의 Y 크기: {}'.format(df_train_y.shape))\n",
    "print('평가용 데이터의 X 크기: {}'.format(df_test_x.shape))\n",
    "print('평가용 데이터의 X 크기: {}'.format(df_test_y.shape))"
   ]
  },
  {
   "cell_type": "markdown",
   "id": "0b4d9740",
   "metadata": {},
   "source": [
    "## Decision Tree"
   ]
  },
  {
   "cell_type": "markdown",
   "id": "03875ad0",
   "metadata": {},
   "source": [
    "###### Manual Search\n",
    "- max depth"
   ]
  },
  {
   "cell_type": "code",
   "execution_count": 42,
   "id": "1a5a42e8",
   "metadata": {},
   "outputs": [],
   "source": [
    "from sklearn.tree import DecisionTreeRegressor"
   ]
  },
  {
   "cell_type": "code",
   "execution_count": 86,
   "id": "25f9d0b4",
   "metadata": {},
   "outputs": [],
   "source": [
    "#학습용 및 평가용 설명력 결과 저장\n",
    "train_score = []\n",
    "test_score = []\n",
    "\n",
    "# max depth: 최대 깊이 변경\n",
    "para_depth = [depth for depth in range(1, 20)]\n",
    "\n",
    "for v_max_depth in para_depth:\n",
    "    tree = DecisionTreeRegressor(random_state=1234, max_depth = v_max_depth)\n",
    "    tree.fit(df_train_x, df_train_y)\n",
    "    train_score.append(tree.score(df_train_x, df_train_y))\n",
    "    test_score.append(tree.score(df_test_x, df_test_y))   \n",
    "    \n",
    "    # , min_samples_leaf = 8, min_samples_split=20, "
   ]
  },
  {
   "cell_type": "code",
   "execution_count": 87,
   "id": "4d727644",
   "metadata": {},
   "outputs": [
    {
     "data": {
      "text/html": [
       "<div>\n",
       "<style scoped>\n",
       "    .dataframe tbody tr th:only-of-type {\n",
       "        vertical-align: middle;\n",
       "    }\n",
       "\n",
       "    .dataframe tbody tr th {\n",
       "        vertical-align: top;\n",
       "    }\n",
       "\n",
       "    .dataframe thead th {\n",
       "        text-align: right;\n",
       "    }\n",
       "</style>\n",
       "<table border=\"1\" class=\"dataframe\">\n",
       "  <thead>\n",
       "    <tr style=\"text-align: right;\">\n",
       "      <th></th>\n",
       "      <th>Depth</th>\n",
       "      <th>TrainScore</th>\n",
       "      <th>TestScore</th>\n",
       "    </tr>\n",
       "  </thead>\n",
       "  <tbody>\n",
       "    <tr>\n",
       "      <th>0</th>\n",
       "      <td>1</td>\n",
       "      <td>0.518</td>\n",
       "      <td>0.557</td>\n",
       "    </tr>\n",
       "    <tr>\n",
       "      <th>1</th>\n",
       "      <td>2</td>\n",
       "      <td>0.673</td>\n",
       "      <td>0.672</td>\n",
       "    </tr>\n",
       "    <tr>\n",
       "      <th>2</th>\n",
       "      <td>3</td>\n",
       "      <td>0.716</td>\n",
       "      <td>0.667</td>\n",
       "    </tr>\n",
       "    <tr>\n",
       "      <th>3</th>\n",
       "      <td>4</td>\n",
       "      <td>0.744</td>\n",
       "      <td>0.684</td>\n",
       "    </tr>\n",
       "    <tr>\n",
       "      <th>4</th>\n",
       "      <td>5</td>\n",
       "      <td>0.771</td>\n",
       "      <td>0.692</td>\n",
       "    </tr>\n",
       "    <tr>\n",
       "      <th>5</th>\n",
       "      <td>6</td>\n",
       "      <td>0.805</td>\n",
       "      <td>0.698</td>\n",
       "    </tr>\n",
       "    <tr>\n",
       "      <th>6</th>\n",
       "      <td>7</td>\n",
       "      <td>0.838</td>\n",
       "      <td>0.690</td>\n",
       "    </tr>\n",
       "    <tr>\n",
       "      <th>7</th>\n",
       "      <td>8</td>\n",
       "      <td>0.868</td>\n",
       "      <td>0.678</td>\n",
       "    </tr>\n",
       "    <tr>\n",
       "      <th>8</th>\n",
       "      <td>9</td>\n",
       "      <td>0.896</td>\n",
       "      <td>0.610</td>\n",
       "    </tr>\n",
       "    <tr>\n",
       "      <th>9</th>\n",
       "      <td>10</td>\n",
       "      <td>0.921</td>\n",
       "      <td>0.569</td>\n",
       "    </tr>\n",
       "    <tr>\n",
       "      <th>10</th>\n",
       "      <td>11</td>\n",
       "      <td>0.941</td>\n",
       "      <td>0.535</td>\n",
       "    </tr>\n",
       "    <tr>\n",
       "      <th>11</th>\n",
       "      <td>12</td>\n",
       "      <td>0.958</td>\n",
       "      <td>0.521</td>\n",
       "    </tr>\n",
       "    <tr>\n",
       "      <th>12</th>\n",
       "      <td>13</td>\n",
       "      <td>0.971</td>\n",
       "      <td>0.501</td>\n",
       "    </tr>\n",
       "    <tr>\n",
       "      <th>13</th>\n",
       "      <td>14</td>\n",
       "      <td>0.981</td>\n",
       "      <td>0.497</td>\n",
       "    </tr>\n",
       "    <tr>\n",
       "      <th>14</th>\n",
       "      <td>15</td>\n",
       "      <td>0.987</td>\n",
       "      <td>0.509</td>\n",
       "    </tr>\n",
       "    <tr>\n",
       "      <th>15</th>\n",
       "      <td>16</td>\n",
       "      <td>0.990</td>\n",
       "      <td>0.507</td>\n",
       "    </tr>\n",
       "    <tr>\n",
       "      <th>16</th>\n",
       "      <td>17</td>\n",
       "      <td>0.992</td>\n",
       "      <td>0.501</td>\n",
       "    </tr>\n",
       "    <tr>\n",
       "      <th>17</th>\n",
       "      <td>18</td>\n",
       "      <td>0.994</td>\n",
       "      <td>0.485</td>\n",
       "    </tr>\n",
       "    <tr>\n",
       "      <th>18</th>\n",
       "      <td>19</td>\n",
       "      <td>0.997</td>\n",
       "      <td>0.490</td>\n",
       "    </tr>\n",
       "  </tbody>\n",
       "</table>\n",
       "</div>"
      ],
      "text/plain": [
       "    Depth  TrainScore  TestScore\n",
       "0       1       0.518      0.557\n",
       "1       2       0.673      0.672\n",
       "2       3       0.716      0.667\n",
       "3       4       0.744      0.684\n",
       "4       5       0.771      0.692\n",
       "5       6       0.805      0.698\n",
       "6       7       0.838      0.690\n",
       "7       8       0.868      0.678\n",
       "8       9       0.896      0.610\n",
       "9      10       0.921      0.569\n",
       "10     11       0.941      0.535\n",
       "11     12       0.958      0.521\n",
       "12     13       0.971      0.501\n",
       "13     14       0.981      0.497\n",
       "14     15       0.987      0.509\n",
       "15     16       0.990      0.507\n",
       "16     17       0.992      0.501\n",
       "17     18       0.994      0.485\n",
       "18     19       0.997      0.490"
      ]
     },
     "execution_count": 87,
     "metadata": {},
     "output_type": "execute_result"
    }
   ],
   "source": [
    "# 데이터 테이블로 저장\n",
    "df_score_depth = pd.DataFrame()\n",
    "df_score_depth['Depth'] = para_depth\n",
    "df_score_depth['TrainScore'] = train_score\n",
    "df_score_depth['TestScore'] = test_score\n",
    "\n",
    "df_score_depth.round(3)"
   ]
  },
  {
   "cell_type": "code",
   "execution_count": 88,
   "id": "7fadb7f2",
   "metadata": {},
   "outputs": [
    {
     "data": {
      "text/plain": [
       "<matplotlib.legend.Legend at 0x1ad20875f70>"
      ]
     },
     "execution_count": 88,
     "metadata": {},
     "output_type": "execute_result"
    },
    {
     "data": {
      "image/png": "[encoded data removed]",
      "text/plain": [
       "<Figure size 432x288 with 1 Axes>"
      ]
     },
     "metadata": {
      "needs_background": "light"
     },
     "output_type": "display_data"
    }
   ],
   "source": [
    "plt.plot(para_depth, train_score, linestyle = '-', label = 'Train Score')\n",
    "plt.plot(para_depth, test_score, linestyle = '--', label = 'Test Score')\n",
    "plt.legend()"
   ]
  },
  {
   "cell_type": "code",
   "execution_count": 89,
   "id": "25103e31",
   "metadata": {},
   "outputs": [
    {
     "data": {
      "text/plain": [
       "DecisionTreeRegressor(max_depth=5, random_state=1234)"
      ]
     },
     "execution_count": 89,
     "metadata": {},
     "output_type": "execute_result"
    }
   ],
   "source": [
    "# depth 5으로 하자\n",
    "\n",
    "dt = DecisionTreeRegressor(random_state=1234, max_depth=5)\n",
    "dt.fit(df_train_x, df_train_y)"
   ]
  },
  {
   "cell_type": "code",
   "execution_count": 90,
   "id": "f153651f",
   "metadata": {},
   "outputs": [
    {
     "data": {
      "text/plain": [
       "0.7713473494640279"
      ]
     },
     "execution_count": 90,
     "metadata": {},
     "output_type": "execute_result"
    }
   ],
   "source": [
    "dt.score(df_train_x, df_train_y)"
   ]
  },
  {
   "cell_type": "code",
   "execution_count": 91,
   "id": "70712416",
   "metadata": {},
   "outputs": [
    {
     "data": {
      "text/plain": [
       "0.692470440129044"
      ]
     },
     "execution_count": 91,
     "metadata": {},
     "output_type": "execute_result"
    }
   ],
   "source": [
    "dt.score(df_test_x, df_test_y)"
   ]
  },
  {
   "cell_type": "markdown",
   "id": "817b094d",
   "metadata": {},
   "source": [
    "###### Manual Search\n",
    "- min leaf"
   ]
  },
  {
   "cell_type": "code",
   "execution_count": null,
   "id": "e60159a8",
   "metadata": {},
   "outputs": [],
   "source": [
    "#학습용 및 평가용 설명력 결과 저장\n",
    "train_score = []\n",
    "test_score = []\n",
    "\n",
    "# min samples leaf : 잎사귀 최소 자료 수\n",
    "para_leaf = [n_leaf for n_leaf in range(1, 20)]\n",
    "\n",
    "for v_min_samples_leaf in para_leaf:\n",
    "    tree = DecisionTreeRegressor(random_state=1234, min_samples_leaf=v_min_samples_leaf)\n",
    "    tree.fit(df_train_x, df_train_y)\n",
    "    train_score.append(tree.score(df_train_x, df_train_y))\n",
    "    test_score.append(tree.score(df_test_x, df_test_y))    "
   ]
  },
  {
   "cell_type": "code",
   "execution_count": null,
   "id": "53c58577",
   "metadata": {},
   "outputs": [],
   "source": [
    "# 결과 저장\n",
    "df_score_leaf = pd.DataFrame()\n",
    "df_score_leaf['MinSamplesLeaf'] = para_leaf\n",
    "df_score_leaf['TrainScore'] = train_score\n",
    "df_score_leaf['TestScore'] = test_score\n",
    "\n",
    "df_score_leaf.round(3)"
   ]
  },
  {
   "cell_type": "code",
   "execution_count": null,
   "id": "2758f176",
   "metadata": {},
   "outputs": [],
   "source": [
    "# 모델 설명력 그래프 확인\n",
    "plt.plot(para_leaf, train_score, linestyle = '-', label = 'Train Score')\n",
    "plt.plot(para_leaf, test_score, linestyle = '--', label = 'Test Score')\n",
    "plt.legend()"
   ]
  },
  {
   "cell_type": "code",
   "execution_count": null,
   "id": "8135e862",
   "metadata": {},
   "outputs": [],
   "source": []
  },
  {
   "cell_type": "markdown",
   "id": "22960e1c",
   "metadata": {},
   "source": [
    "###### 그리드서치해보까"
   ]
  },
  {
   "cell_type": "code",
   "execution_count": 85,
   "id": "cc0878ee",
   "metadata": {},
   "outputs": [
    {
     "ename": "KeyboardInterrupt",
     "evalue": "",
     "output_type": "error",
     "traceback": [
      "\u001b[1;31m---------------------------------------------------------------------------\u001b[0m",
      "\u001b[1;31mKeyboardInterrupt\u001b[0m                         Traceback (most recent call last)",
      "\u001b[1;32m~\\AppData\\Local\\Temp/ipykernel_16184/1677851942.py\u001b[0m in \u001b[0;36m<module>\u001b[1;34m\u001b[0m\n\u001b[0;32m      6\u001b[0m \u001b[1;31m# 설명력이 높은 최적 파라미터 찾기\u001b[0m\u001b[1;33m\u001b[0m\u001b[1;33m\u001b[0m\u001b[0m\n\u001b[0;32m      7\u001b[0m \u001b[0mgrid_dt\u001b[0m \u001b[1;33m=\u001b[0m \u001b[0mGridSearchCV\u001b[0m\u001b[1;33m(\u001b[0m\u001b[0mestimator\u001b[0m\u001b[1;33m,\u001b[0m \u001b[0mparam_grid\u001b[0m\u001b[1;33m,\u001b[0m \u001b[0mscoring\u001b[0m \u001b[1;33m=\u001b[0m \u001b[1;34m'r2'\u001b[0m\u001b[1;33m,\u001b[0m \u001b[0mn_jobs\u001b[0m\u001b[1;33m=\u001b[0m \u001b[1;33m-\u001b[0m\u001b[1;36m1\u001b[0m\u001b[1;33m)\u001b[0m \u001b[1;31m# r2 = 결정계수\u001b[0m\u001b[1;33m\u001b[0m\u001b[1;33m\u001b[0m\u001b[0m\n\u001b[1;32m----> 8\u001b[1;33m \u001b[0mgrid_dt\u001b[0m\u001b[1;33m.\u001b[0m\u001b[0mfit\u001b[0m\u001b[1;33m(\u001b[0m\u001b[0mdf_train_x\u001b[0m\u001b[1;33m,\u001b[0m \u001b[0mdf_train_y\u001b[0m\u001b[1;33m)\u001b[0m\u001b[1;33m\u001b[0m\u001b[1;33m\u001b[0m\u001b[0m\n\u001b[0m\u001b[0;32m      9\u001b[0m \u001b[1;33m\u001b[0m\u001b[0m\n\u001b[0;32m     10\u001b[0m \u001b[0mprint\u001b[0m\u001b[1;33m(\u001b[0m\u001b[1;34m'best estimator model: \\n{}'\u001b[0m\u001b[1;33m.\u001b[0m\u001b[0mformat\u001b[0m\u001b[1;33m(\u001b[0m\u001b[0mgrid_dt\u001b[0m\u001b[1;33m.\u001b[0m\u001b[0mbest_estimator_\u001b[0m\u001b[1;33m)\u001b[0m\u001b[1;33m)\u001b[0m\u001b[1;33m\u001b[0m\u001b[1;33m\u001b[0m\u001b[0m\n",
      "\u001b[1;32m~\\anaconda3\\lib\\site-packages\\sklearn\\utils\\validation.py\u001b[0m in \u001b[0;36minner_f\u001b[1;34m(*args, **kwargs)\u001b[0m\n\u001b[0;32m     61\u001b[0m             \u001b[0mextra_args\u001b[0m \u001b[1;33m=\u001b[0m \u001b[0mlen\u001b[0m\u001b[1;33m(\u001b[0m\u001b[0margs\u001b[0m\u001b[1;33m)\u001b[0m \u001b[1;33m-\u001b[0m \u001b[0mlen\u001b[0m\u001b[1;33m(\u001b[0m\u001b[0mall_args\u001b[0m\u001b[1;33m)\u001b[0m\u001b[1;33m\u001b[0m\u001b[1;33m\u001b[0m\u001b[0m\n\u001b[0;32m     62\u001b[0m             \u001b[1;32mif\u001b[0m \u001b[0mextra_args\u001b[0m \u001b[1;33m<=\u001b[0m \u001b[1;36m0\u001b[0m\u001b[1;33m:\u001b[0m\u001b[1;33m\u001b[0m\u001b[1;33m\u001b[0m\u001b[0m\n\u001b[1;32m---> 63\u001b[1;33m                 \u001b[1;32mreturn\u001b[0m \u001b[0mf\u001b[0m\u001b[1;33m(\u001b[0m\u001b[1;33m*\u001b[0m\u001b[0margs\u001b[0m\u001b[1;33m,\u001b[0m \u001b[1;33m**\u001b[0m\u001b[0mkwargs\u001b[0m\u001b[1;33m)\u001b[0m\u001b[1;33m\u001b[0m\u001b[1;33m\u001b[0m\u001b[0m\n\u001b[0m\u001b[0;32m     64\u001b[0m \u001b[1;33m\u001b[0m\u001b[0m\n\u001b[0;32m     65\u001b[0m             \u001b[1;31m# extra_args > 0\u001b[0m\u001b[1;33m\u001b[0m\u001b[1;33m\u001b[0m\u001b[0m\n",
      "\u001b[1;32m~\\anaconda3\\lib\\site-packages\\sklearn\\model_selection\\_search.py\u001b[0m in \u001b[0;36mfit\u001b[1;34m(self, X, y, groups, **fit_params)\u001b[0m\n\u001b[0;32m    839\u001b[0m                 \u001b[1;32mreturn\u001b[0m \u001b[0mresults\u001b[0m\u001b[1;33m\u001b[0m\u001b[1;33m\u001b[0m\u001b[0m\n\u001b[0;32m    840\u001b[0m \u001b[1;33m\u001b[0m\u001b[0m\n\u001b[1;32m--> 841\u001b[1;33m             \u001b[0mself\u001b[0m\u001b[1;33m.\u001b[0m\u001b[0m_run_search\u001b[0m\u001b[1;33m(\u001b[0m\u001b[0mevaluate_candidates\u001b[0m\u001b[1;33m)\u001b[0m\u001b[1;33m\u001b[0m\u001b[1;33m\u001b[0m\u001b[0m\n\u001b[0m\u001b[0;32m    842\u001b[0m \u001b[1;33m\u001b[0m\u001b[0m\n\u001b[0;32m    843\u001b[0m             \u001b[1;31m# multimetric is determined here because in the case of a callable\u001b[0m\u001b[1;33m\u001b[0m\u001b[1;33m\u001b[0m\u001b[0m\n",
      "\u001b[1;32m~\\anaconda3\\lib\\site-packages\\sklearn\\model_selection\\_search.py\u001b[0m in \u001b[0;36m_run_search\u001b[1;34m(self, evaluate_candidates)\u001b[0m\n\u001b[0;32m   1294\u001b[0m     \u001b[1;32mdef\u001b[0m \u001b[0m_run_search\u001b[0m\u001b[1;33m(\u001b[0m\u001b[0mself\u001b[0m\u001b[1;33m,\u001b[0m \u001b[0mevaluate_candidates\u001b[0m\u001b[1;33m)\u001b[0m\u001b[1;33m:\u001b[0m\u001b[1;33m\u001b[0m\u001b[1;33m\u001b[0m\u001b[0m\n\u001b[0;32m   1295\u001b[0m         \u001b[1;34m\"\"\"Search all candidates in param_grid\"\"\"\u001b[0m\u001b[1;33m\u001b[0m\u001b[1;33m\u001b[0m\u001b[0m\n\u001b[1;32m-> 1296\u001b[1;33m         \u001b[0mevaluate_candidates\u001b[0m\u001b[1;33m(\u001b[0m\u001b[0mParameterGrid\u001b[0m\u001b[1;33m(\u001b[0m\u001b[0mself\u001b[0m\u001b[1;33m.\u001b[0m\u001b[0mparam_grid\u001b[0m\u001b[1;33m)\u001b[0m\u001b[1;33m)\u001b[0m\u001b[1;33m\u001b[0m\u001b[1;33m\u001b[0m\u001b[0m\n\u001b[0m\u001b[0;32m   1297\u001b[0m \u001b[1;33m\u001b[0m\u001b[0m\n\u001b[0;32m   1298\u001b[0m \u001b[1;33m\u001b[0m\u001b[0m\n",
      "\u001b[1;32m~\\anaconda3\\lib\\site-packages\\sklearn\\model_selection\\_search.py\u001b[0m in \u001b[0;36mevaluate_candidates\u001b[1;34m(candidate_params, cv, more_results)\u001b[0m\n\u001b[0;32m    793\u001b[0m                               n_splits, n_candidates, n_candidates * n_splits))\n\u001b[0;32m    794\u001b[0m \u001b[1;33m\u001b[0m\u001b[0m\n\u001b[1;32m--> 795\u001b[1;33m                 out = parallel(delayed(_fit_and_score)(clone(base_estimator),\n\u001b[0m\u001b[0;32m    796\u001b[0m                                                        \u001b[0mX\u001b[0m\u001b[1;33m,\u001b[0m \u001b[0my\u001b[0m\u001b[1;33m,\u001b[0m\u001b[1;33m\u001b[0m\u001b[1;33m\u001b[0m\u001b[0m\n\u001b[0;32m    797\u001b[0m                                                        \u001b[0mtrain\u001b[0m\u001b[1;33m=\u001b[0m\u001b[0mtrain\u001b[0m\u001b[1;33m,\u001b[0m \u001b[0mtest\u001b[0m\u001b[1;33m=\u001b[0m\u001b[0mtest\u001b[0m\u001b[1;33m,\u001b[0m\u001b[1;33m\u001b[0m\u001b[1;33m\u001b[0m\u001b[0m\n",
      "\u001b[1;32m~\\AppData\\Roaming\\Python\\Python39\\site-packages\\joblib\\parallel.py\u001b[0m in \u001b[0;36m__call__\u001b[1;34m(self, iterable)\u001b[0m\n\u001b[0;32m   1052\u001b[0m \u001b[1;33m\u001b[0m\u001b[0m\n\u001b[0;32m   1053\u001b[0m             \u001b[1;32mwith\u001b[0m \u001b[0mself\u001b[0m\u001b[1;33m.\u001b[0m\u001b[0m_backend\u001b[0m\u001b[1;33m.\u001b[0m\u001b[0mretrieval_context\u001b[0m\u001b[1;33m(\u001b[0m\u001b[1;33m)\u001b[0m\u001b[1;33m:\u001b[0m\u001b[1;33m\u001b[0m\u001b[1;33m\u001b[0m\u001b[0m\n\u001b[1;32m-> 1054\u001b[1;33m                 \u001b[0mself\u001b[0m\u001b[1;33m.\u001b[0m\u001b[0mretrieve\u001b[0m\u001b[1;33m(\u001b[0m\u001b[1;33m)\u001b[0m\u001b[1;33m\u001b[0m\u001b[1;33m\u001b[0m\u001b[0m\n\u001b[0m\u001b[0;32m   1055\u001b[0m             \u001b[1;31m# Make sure that we get a last message telling us we are done\u001b[0m\u001b[1;33m\u001b[0m\u001b[1;33m\u001b[0m\u001b[0m\n\u001b[0;32m   1056\u001b[0m             \u001b[0melapsed_time\u001b[0m \u001b[1;33m=\u001b[0m \u001b[0mtime\u001b[0m\u001b[1;33m.\u001b[0m\u001b[0mtime\u001b[0m\u001b[1;33m(\u001b[0m\u001b[1;33m)\u001b[0m \u001b[1;33m-\u001b[0m \u001b[0mself\u001b[0m\u001b[1;33m.\u001b[0m\u001b[0m_start_time\u001b[0m\u001b[1;33m\u001b[0m\u001b[1;33m\u001b[0m\u001b[0m\n",
      "\u001b[1;32m~\\AppData\\Roaming\\Python\\Python39\\site-packages\\joblib\\parallel.py\u001b[0m in \u001b[0;36mretrieve\u001b[1;34m(self)\u001b[0m\n\u001b[0;32m    931\u001b[0m             \u001b[1;32mtry\u001b[0m\u001b[1;33m:\u001b[0m\u001b[1;33m\u001b[0m\u001b[1;33m\u001b[0m\u001b[0m\n\u001b[0;32m    932\u001b[0m                 \u001b[1;32mif\u001b[0m \u001b[0mgetattr\u001b[0m\u001b[1;33m(\u001b[0m\u001b[0mself\u001b[0m\u001b[1;33m.\u001b[0m\u001b[0m_backend\u001b[0m\u001b[1;33m,\u001b[0m \u001b[1;34m'supports_timeout'\u001b[0m\u001b[1;33m,\u001b[0m \u001b[1;32mFalse\u001b[0m\u001b[1;33m)\u001b[0m\u001b[1;33m:\u001b[0m\u001b[1;33m\u001b[0m\u001b[1;33m\u001b[0m\u001b[0m\n\u001b[1;32m--> 933\u001b[1;33m                     \u001b[0mself\u001b[0m\u001b[1;33m.\u001b[0m\u001b[0m_output\u001b[0m\u001b[1;33m.\u001b[0m\u001b[0mextend\u001b[0m\u001b[1;33m(\u001b[0m\u001b[0mjob\u001b[0m\u001b[1;33m.\u001b[0m\u001b[0mget\u001b[0m\u001b[1;33m(\u001b[0m\u001b[0mtimeout\u001b[0m\u001b[1;33m=\u001b[0m\u001b[0mself\u001b[0m\u001b[1;33m.\u001b[0m\u001b[0mtimeout\u001b[0m\u001b[1;33m)\u001b[0m\u001b[1;33m)\u001b[0m\u001b[1;33m\u001b[0m\u001b[1;33m\u001b[0m\u001b[0m\n\u001b[0m\u001b[0;32m    934\u001b[0m                 \u001b[1;32melse\u001b[0m\u001b[1;33m:\u001b[0m\u001b[1;33m\u001b[0m\u001b[1;33m\u001b[0m\u001b[0m\n\u001b[0;32m    935\u001b[0m                     \u001b[0mself\u001b[0m\u001b[1;33m.\u001b[0m\u001b[0m_output\u001b[0m\u001b[1;33m.\u001b[0m\u001b[0mextend\u001b[0m\u001b[1;33m(\u001b[0m\u001b[0mjob\u001b[0m\u001b[1;33m.\u001b[0m\u001b[0mget\u001b[0m\u001b[1;33m(\u001b[0m\u001b[1;33m)\u001b[0m\u001b[1;33m)\u001b[0m\u001b[1;33m\u001b[0m\u001b[1;33m\u001b[0m\u001b[0m\n",
      "\u001b[1;32m~\\AppData\\Roaming\\Python\\Python39\\site-packages\\joblib\\_parallel_backends.py\u001b[0m in \u001b[0;36mwrap_future_result\u001b[1;34m(future, timeout)\u001b[0m\n\u001b[0;32m    540\u001b[0m         AsyncResults.get from multiprocessing.\"\"\"\n\u001b[0;32m    541\u001b[0m         \u001b[1;32mtry\u001b[0m\u001b[1;33m:\u001b[0m\u001b[1;33m\u001b[0m\u001b[1;33m\u001b[0m\u001b[0m\n\u001b[1;32m--> 542\u001b[1;33m             \u001b[1;32mreturn\u001b[0m \u001b[0mfuture\u001b[0m\u001b[1;33m.\u001b[0m\u001b[0mresult\u001b[0m\u001b[1;33m(\u001b[0m\u001b[0mtimeout\u001b[0m\u001b[1;33m=\u001b[0m\u001b[0mtimeout\u001b[0m\u001b[1;33m)\u001b[0m\u001b[1;33m\u001b[0m\u001b[1;33m\u001b[0m\u001b[0m\n\u001b[0m\u001b[0;32m    543\u001b[0m         \u001b[1;32mexcept\u001b[0m \u001b[0mCfTimeoutError\u001b[0m \u001b[1;32mas\u001b[0m \u001b[0me\u001b[0m\u001b[1;33m:\u001b[0m\u001b[1;33m\u001b[0m\u001b[1;33m\u001b[0m\u001b[0m\n\u001b[0;32m    544\u001b[0m             \u001b[1;32mraise\u001b[0m \u001b[0mTimeoutError\u001b[0m \u001b[1;32mfrom\u001b[0m \u001b[0me\u001b[0m\u001b[1;33m\u001b[0m\u001b[1;33m\u001b[0m\u001b[0m\n",
      "\u001b[1;32m~\\anaconda3\\lib\\concurrent\\futures\\_base.py\u001b[0m in \u001b[0;36mresult\u001b[1;34m(self, timeout)\u001b[0m\n\u001b[0;32m    438\u001b[0m                     \u001b[1;32mreturn\u001b[0m \u001b[0mself\u001b[0m\u001b[1;33m.\u001b[0m\u001b[0m__get_result\u001b[0m\u001b[1;33m(\u001b[0m\u001b[1;33m)\u001b[0m\u001b[1;33m\u001b[0m\u001b[1;33m\u001b[0m\u001b[0m\n\u001b[0;32m    439\u001b[0m \u001b[1;33m\u001b[0m\u001b[0m\n\u001b[1;32m--> 440\u001b[1;33m                 \u001b[0mself\u001b[0m\u001b[1;33m.\u001b[0m\u001b[0m_condition\u001b[0m\u001b[1;33m.\u001b[0m\u001b[0mwait\u001b[0m\u001b[1;33m(\u001b[0m\u001b[0mtimeout\u001b[0m\u001b[1;33m)\u001b[0m\u001b[1;33m\u001b[0m\u001b[1;33m\u001b[0m\u001b[0m\n\u001b[0m\u001b[0;32m    441\u001b[0m \u001b[1;33m\u001b[0m\u001b[0m\n\u001b[0;32m    442\u001b[0m                 \u001b[1;32mif\u001b[0m \u001b[0mself\u001b[0m\u001b[1;33m.\u001b[0m\u001b[0m_state\u001b[0m \u001b[1;32min\u001b[0m \u001b[1;33m[\u001b[0m\u001b[0mCANCELLED\u001b[0m\u001b[1;33m,\u001b[0m \u001b[0mCANCELLED_AND_NOTIFIED\u001b[0m\u001b[1;33m]\u001b[0m\u001b[1;33m:\u001b[0m\u001b[1;33m\u001b[0m\u001b[1;33m\u001b[0m\u001b[0m\n",
      "\u001b[1;32m~\\anaconda3\\lib\\threading.py\u001b[0m in \u001b[0;36mwait\u001b[1;34m(self, timeout)\u001b[0m\n\u001b[0;32m    310\u001b[0m         \u001b[1;32mtry\u001b[0m\u001b[1;33m:\u001b[0m    \u001b[1;31m# restore state no matter what (e.g., KeyboardInterrupt)\u001b[0m\u001b[1;33m\u001b[0m\u001b[1;33m\u001b[0m\u001b[0m\n\u001b[0;32m    311\u001b[0m             \u001b[1;32mif\u001b[0m \u001b[0mtimeout\u001b[0m \u001b[1;32mis\u001b[0m \u001b[1;32mNone\u001b[0m\u001b[1;33m:\u001b[0m\u001b[1;33m\u001b[0m\u001b[1;33m\u001b[0m\u001b[0m\n\u001b[1;32m--> 312\u001b[1;33m                 \u001b[0mwaiter\u001b[0m\u001b[1;33m.\u001b[0m\u001b[0macquire\u001b[0m\u001b[1;33m(\u001b[0m\u001b[1;33m)\u001b[0m\u001b[1;33m\u001b[0m\u001b[1;33m\u001b[0m\u001b[0m\n\u001b[0m\u001b[0;32m    313\u001b[0m                 \u001b[0mgotit\u001b[0m \u001b[1;33m=\u001b[0m \u001b[1;32mTrue\u001b[0m\u001b[1;33m\u001b[0m\u001b[1;33m\u001b[0m\u001b[0m\n\u001b[0;32m    314\u001b[0m             \u001b[1;32melse\u001b[0m\u001b[1;33m:\u001b[0m\u001b[1;33m\u001b[0m\u001b[1;33m\u001b[0m\u001b[0m\n",
      "\u001b[1;31mKeyboardInterrupt\u001b[0m: "
     ]
    }
   ],
   "source": [
    "estimator = DecisionTreeRegressor()\n",
    "\n",
    "# 구하고자 하는 파라미터와 범위\n",
    "param_grid = {'criterion': ['mse', 'friedman_mse', 'mae'], 'max_features': ['auto', 'sqrt', 'log2'], 'max_depth': para_depth,\n",
    "             'min_samples_split': para_split, 'min_samples_leaf': para_leaf}\n",
    "# 설명력이 높은 최적 파라미터 찾기\n",
    "grid_dt = GridSearchCV(estimator, param_grid, scoring = 'r2', n_jobs= -1) # r2 = 결정계수\n",
    "grid_dt.fit(df_train_x, df_train_y)\n",
    "\n",
    "print('best estimator model: \\n{}'.format(grid_dt.best_estimator_))\n",
    "print('\\nbest parameter: \\n{}'.format(grid_dt.best_params_))\n",
    "print('\\nbest score: \\n{}'.format(grid_dt.best_score_.round(3)))"
   ]
  },
  {
   "cell_type": "code",
   "execution_count": null,
   "id": "1741d63f",
   "metadata": {},
   "outputs": [],
   "source": []
  }
 ],
 "metadata": {
  "kernelspec": {
   "display_name": "Python 3 (ipykernel)",
   "language": "python",
   "name": "python3"
  },
  "language_info": {
   "codemirror_mode": {
    "name": "ipython",
    "version": 3
   },
   "file_extension": ".py",
   "mimetype": "text/x-python",
   "name": "python",
   "nbconvert_exporter": "python",
   "pygments_lexer": "ipython3",
   "version": "3.9.7"
  }
 },
 "nbformat": 4,
 "nbformat_minor": 5
}
